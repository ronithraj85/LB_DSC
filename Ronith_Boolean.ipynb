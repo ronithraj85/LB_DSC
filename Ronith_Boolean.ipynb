{
 "cells": [
  {
   "cell_type": "code",
   "execution_count": 1,
   "metadata": {
    "colab": {},
    "colab_type": "code",
    "id": "7JIFn6BP4M0R"
   },
   "outputs": [
    {
     "name": "stdout",
     "output_type": "stream",
     "text": [
      "<class 'bool'>\n",
      "<class 'bool'>\n",
      "1486090400\n",
      "1486090432\n"
     ]
    }
   ],
   "source": [
    "#Declare a boolean value and store it in a variable. \n",
    "\n",
    "b = True\n",
    "b1 = False\n",
    "\n",
    "#Check the type and print the id of the same.\n",
    "print(type(b))\n",
    "print(type(b1))\n",
    "print(id(b))\n",
    "print(id(b1))\n"
   ]
  },
  {
   "cell_type": "code",
   "execution_count": 16,
   "metadata": {
    "colab": {},
    "colab_type": "code",
    "id": "o9bjjhN64kAP"
   },
   "outputs": [
    {
     "name": "stdout",
     "output_type": "stream",
     "text": [
      "1486090400\n",
      "1486090400\n",
      "1486090400\n",
      "1486090400\n"
     ]
    }
   ],
   "source": [
    "#Take one boolean value between 0 - 256.\n",
    "#Assign it to two different variables.\n",
    "\n",
    "a_t = bool(200000)\n",
    "b_t = bool(25)\n",
    "a   = True\n",
    "b   = True\n",
    "\n",
    "#Check the id of both the variables. It should come same. Check why?\n",
    "\n",
    "print(id(a_t))\n",
    "print(id(b_t))\n",
    "print(id(a))\n",
    "print(id(b))"
   ]
  },
  {
   "cell_type": "code",
   "execution_count": 21,
   "metadata": {
    "colab": {},
    "colab_type": "code",
    "id": "yr4ETGSf4l5y"
   },
   "outputs": [
    {
     "name": "stdout",
     "output_type": "stream",
     "text": [
      "2\n",
      "0\n",
      "1\n",
      "1\n",
      "0\n",
      "1.0\n",
      "1\n"
     ]
    }
   ],
   "source": [
    "#Arithmatic Operations on boolean data\n",
    "#Take two different boolean values.\n",
    "#Store them in two different variables.\n",
    "\n",
    "a_a = True\n",
    "b_a = True\n",
    "\n",
    "#Do below operations on them:-\n",
    "    #Find sum of both values\n",
    "    \n",
    "s_a = a_a + b_a\n",
    "print(s_a)\n",
    "\n",
    "    #Find differce between them\n",
    "\n",
    "d_a = a_a - b_a\n",
    "print(d_a)\n",
    "\n",
    "    #Find the product of both.\n",
    "p_a = a_a * b_a\n",
    "print(p_a)\n",
    "\n",
    "    #Find value after dividing first value with second value\n",
    "    \n",
    "div_a = a_a // b_a\n",
    "print(div_a)\n",
    "    \n",
    "    #Find the remainder after dividing first value with second value\n",
    "    \n",
    "r_a = a_a % b_a\n",
    "print(r_a)\n",
    "    \n",
    "    #Find the quotient after dividing first value with second value\n",
    "    \n",
    "q_a = a_a / b_a\n",
    "print(q_a)\n",
    "    \n",
    "    #Find the result of first value to the power of second value.\n",
    "    \n",
    "pow_a = a_a ** b_a\n",
    "print(pow_a)   "
   ]
  },
  {
   "cell_type": "code",
   "execution_count": 22,
   "metadata": {},
   "outputs": [
    {
     "name": "stdout",
     "output_type": "stream",
     "text": [
      "1\n",
      "-1\n",
      "0\n",
      "0\n",
      "0\n",
      "0.0\n",
      "0\n"
     ]
    }
   ],
   "source": [
    "#Arithmatic Operations on boolean data\n",
    "#Take two different boolean values.\n",
    "#Store them in two different variables.\n",
    "\n",
    "a_a = False\n",
    "b_a = True\n",
    "\n",
    "#Do below operations on them:-\n",
    "    #Find sum of both values\n",
    "    \n",
    "s_a = a_a + b_a\n",
    "print(s_a)\n",
    "\n",
    "    #Find differce between them\n",
    "\n",
    "d_a = a_a - b_a\n",
    "print(d_a)\n",
    "\n",
    "    #Find the product of both.\n",
    "p_a = a_a * b_a\n",
    "print(p_a)\n",
    "\n",
    "    #Find value after dividing first value with second value\n",
    "    \n",
    "div_a = a_a // b_a\n",
    "print(div_a)\n",
    "    \n",
    "    #Find the remainder after dividing first value with second value\n",
    "    \n",
    "r_a = a_a % b_a\n",
    "print(r_a)\n",
    "    \n",
    "    #Find the quotient after dividing first value with second value\n",
    "    \n",
    "q_a = a_a / b_a\n",
    "print(q_a)\n",
    "    \n",
    "    #Find the result of first value to the power of second value.\n",
    "    \n",
    "pow_a = a_a ** b_a\n",
    "print(pow_a)   "
   ]
  },
  {
   "cell_type": "code",
   "execution_count": 24,
   "metadata": {
    "colab": {},
    "colab_type": "code",
    "id": "xG4mX84E4n2O"
   },
   "outputs": [
    {
     "name": "stdout",
     "output_type": "stream",
     "text": [
      "True\n",
      "False\n",
      "False\n",
      "True\n",
      "True\n",
      "False\n",
      "False\n",
      "True\n"
     ]
    }
   ],
   "source": [
    "#Comparison Operators on boolean values\n",
    "#Take two different boolean values.\n",
    "#Store them in two different variables.\n",
    "\n",
    "comp_a = True\n",
    "comp_b = False\n",
    "\n",
    "#Do below operations on them:-\n",
    "    #Compare these two values with below operator:-\n",
    "        #Greater than, '>'\n",
    "    \n",
    "print(comp_a > comp_b)\n",
    "print(comp_b > comp_a)\n",
    "\n",
    "        #less than, '<'\n",
    "print(comp_a < comp_b)\n",
    "print(comp_b < comp_a)\n",
    "\n",
    "        #Greater than or equal to, '>='\n",
    "print(comp_a >= comp_b)\n",
    "print(comp_b >= comp_a)\n",
    "\n",
    "        #Less than or equal to, '<='    \n",
    "print(comp_a <= comp_b)\n",
    "print(comp_b <= comp_a)\n",
    "\n",
    "#Observe their output(return type should be boolean)\n",
    "\n"
   ]
  },
  {
   "cell_type": "code",
   "execution_count": 25,
   "metadata": {
    "colab": {},
    "colab_type": "code",
    "id": "TUIo2Z9V4qBJ"
   },
   "outputs": [
    {
     "name": "stdout",
     "output_type": "stream",
     "text": [
      "False\n",
      "True\n",
      "True\n",
      "True\n"
     ]
    }
   ],
   "source": [
    "#Equality Operator\n",
    "#Take two different boolean values.\n",
    "#Store them in two different variables.\n",
    "\n",
    "equ_a = True\n",
    "equ_b = False\n",
    "\n",
    "#Equuate them using equality operator (==, !=)\n",
    "\n",
    "print(equ_a == equ_b)\n",
    "print(equ_a != equ_b)\n",
    "print(equ_a == equ_a)\n",
    "print(equ_b == equ_b)\n",
    "\n",
    "#Observe the output(return type should be boolean)\n"
   ]
  },
  {
   "cell_type": "code",
   "execution_count": 26,
   "metadata": {
    "colab": {},
    "colab_type": "code",
    "id": "XukEq5E44rxv"
   },
   "outputs": [
    {
     "name": "stdout",
     "output_type": "stream",
     "text": [
      "True\n",
      "False\n",
      "False\n",
      "False\n",
      "True\n",
      "True\n",
      "True\n",
      "False\n",
      "False\n",
      "True\n"
     ]
    }
   ],
   "source": [
    "#Logical operators\n",
    "#Observe the output of below code\n",
    "#Cross check the output manually\n",
    "\n",
    "print(True and True)        #----------------------------------------->Output is True\n",
    "print(False and True)        #----------------------------------------->Output is False\n",
    "print(True and False)        #----------------------------------------->Output is False\n",
    "print(False and False)       #----------------------------------------->Output is False\n",
    "\n",
    "print(True or True)          #----------------------------------------->Output is True\n",
    "print(False or True)         #----------------------------------------->Output is True\n",
    "print(True or False)         #----------------------------------------->Output is True\n",
    "print(False or False)        #----------------------------------------->Output is False\n",
    "\n",
    "print(not True)              #----------------------------------------->Output is False\n",
    "print(not False)             #----------------------------------------->Output is True"
   ]
  },
  {
   "cell_type": "code",
   "execution_count": 35,
   "metadata": {
    "colab": {},
    "colab_type": "code",
    "id": "02jPgt094vK-"
   },
   "outputs": [
    {
     "name": "stdout",
     "output_type": "stream",
     "text": [
      "True\n",
      "True\n",
      "True\n",
      "-2\n",
      "4\n",
      "0\n"
     ]
    }
   ],
   "source": [
    "#Bitwise Operators\n",
    "#Do below operations on the values provided below:-\n",
    "    #Bitwise and(&) -----------------------------------------> True, True    -------> Output is True\n",
    "     #Bitwise or(|)  -----------------------------------------> True, False   -------> Output is True\n",
    "    #Bitwise(^)     -----------------------------------------> True, False   -------> Output is True\n",
    "    #Bitwise negation(~) ------------------------------------> True          -------> Output is -2\n",
    "    #Bitwise left shift  ------------------------------------> True,2        -------> Output is 4\n",
    "    #Bitwise right shift ------------------------------------> True,2        -------> Output is 0\n",
    "\n",
    "\n",
    "\n",
    "#Cross check the output manually\n",
    "\n",
    "\n",
    "print(True&True)\n",
    "# 1&1\n",
    "#  01\n",
    "#  01\n",
    "#  -----\n",
    "#& 01\n",
    "print(True|False)\n",
    "# 1|1\n",
    "#  01\n",
    "#  01\n",
    "#  -----\n",
    "#! 01\n",
    "print(True^False)\n",
    "# 1^0\n",
    "#  01\n",
    "#  00\n",
    "#  -----\n",
    "#^ 01\n",
    "print(~True)\n",
    "# ~1\n",
    "# -(1+1)\n",
    "print(True<<2)\n",
    "# 1<<2\n",
    "# 1 - 0001\n",
    "# 1<<2 - 0100\n",
    "print(True>>2)\n",
    "# # 1>>2\n",
    "# 1 - 0001\n",
    "# 1>>2 - 0000"
   ]
  },
  {
   "cell_type": "code",
   "execution_count": 37,
   "metadata": {
    "colab": {},
    "colab_type": "code",
    "id": "cy5i7sWz4v_c"
   },
   "outputs": [
    {
     "name": "stdout",
     "output_type": "stream",
     "text": [
      "1486090400\n",
      "1486090400\n",
      "True\n",
      "False\n",
      "1486090432\n",
      "1486090432\n",
      "True\n",
      "False\n"
     ]
    }
   ],
   "source": [
    "#What is the output of expression inside print statement. Cross check before running the program.\n",
    "a = True\n",
    "b = True\n",
    "print(id(a))\n",
    "print(id(b))\n",
    "print(a is b)          #True or False?   #\n",
    "print(a is not b)      #True or False?\n",
    "\n",
    "a = False\n",
    "b = False\n",
    "print(id(a))\n",
    "print(id(b))\n",
    "print(a is b)          #True or False?\n",
    "print(a is not b)      #True or False?\n"
   ]
  },
  {
   "cell_type": "code",
   "execution_count": 38,
   "metadata": {
    "colab": {},
    "colab_type": "code",
    "id": "AOcPQi8544M-"
   },
   "outputs": [
    {
     "name": "stdout",
     "output_type": "stream",
     "text": [
      "True\n",
      "True\n",
      "True\n",
      "True\n",
      "True\n"
     ]
    }
   ],
   "source": [
    "#Membership operation\n",
    "#in, not in are two membership operators and it returns boolean value\n",
    "\n",
    "print(True in [10,10.20,10+20j,'Python', True])\n",
    "print(False in (10,10.20,10+20j,'Python', False))\n",
    "print(True in {1,2,3, True})\n",
    "print(True in {True:100, False:200, True:300})\n",
    "print(False in {True:100, False:200, True:300})"
   ]
  }
 ],
 "metadata": {
  "colab": {
   "name": "Boolean_Assignement.ipynb",
   "provenance": []
  },
  "kernelspec": {
   "display_name": "Python 3",
   "language": "python",
   "name": "python3"
  },
  "language_info": {
   "codemirror_mode": {
    "name": "ipython",
    "version": 3
   },
   "file_extension": ".py",
   "mimetype": "text/x-python",
   "name": "python",
   "nbconvert_exporter": "python",
   "pygments_lexer": "ipython3",
   "version": "3.6.5"
  }
 },
 "nbformat": 4,
 "nbformat_minor": 1
}
