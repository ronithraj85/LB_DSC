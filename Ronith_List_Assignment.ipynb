{
 "cells": [
  {
   "cell_type": "code",
   "execution_count": 3,
   "metadata": {
    "colab": {},
    "colab_type": "code",
    "id": "gtlAv2oq9yzd"
   },
   "outputs": [
    {
     "name": "stdout",
     "output_type": "stream",
     "text": [
      "The sum of the elements in list-[10, 20, 30, 40] is-100\n"
     ]
    }
   ],
   "source": [
    "#Write a Python program to find the sum of all elements in a list using loop.\n",
    "#Input:- [10,20,30,40]\n",
    "#Output:- 100\n",
    "list_add = [10,20,30,40]\n",
    "result=0\n",
    "for a in list_add:\n",
    "    result += a\n",
    "print(f'The sum of the elements in list - {list_add} is - {result}')"
   ]
  },
  {
   "cell_type": "code",
   "execution_count": 4,
   "metadata": {
    "colab": {},
    "colab_type": "code",
    "id": "gTbA8psa93Y_"
   },
   "outputs": [
    {
     "name": "stdout",
     "output_type": "stream",
     "text": [
      "The sum of the elements in list - [10, 20, 30, 40] is - 240000\n"
     ]
    }
   ],
   "source": [
    "#Write a Python program to find the multiplication of all elements in a list using loop.\n",
    "#Input:- [10,20,30,40]\n",
    "#Output:- 240000\n",
    "\n",
    "list_prod = [10,20,30,40]\n",
    "prod=1\n",
    "for p in list_prod:\n",
    "    prod *= p\n",
    "print(f'The product of the elements in list - {list_prod} is - {prod}')\n"
   ]
  },
  {
   "cell_type": "code",
   "execution_count": 10,
   "metadata": {
    "colab": {},
    "colab_type": "code",
    "id": "XBCrEtLN94Lj"
   },
   "outputs": [
    {
     "name": "stdout",
     "output_type": "stream",
     "text": [
      "The largest number among the values in the list-[10, 100, 2321, 1, 200, 2] is 2321\n"
     ]
    }
   ],
   "source": [
    "#Write a Python program to find the largest number from a list using loop.\n",
    "#Input:- [10,100,2321, 1,200,2]\n",
    "#Output:- 2321\n",
    "\n",
    "list_large = [10,100,2321, 1,200,2]\n",
    "largest = list_large[0]\n",
    "for l in list_large:\n",
    "    if l > largest:\n",
    "        largest = l\n",
    "\n",
    "    \n",
    "print(f'The largest number among the values in the list-{list_large} is {largest}')"
   ]
  },
  {
   "cell_type": "code",
   "execution_count": 12,
   "metadata": {
    "colab": {},
    "colab_type": "code",
    "id": "l3paUtbH94Vw"
   },
   "outputs": [
    {
     "name": "stdout",
     "output_type": "stream",
     "text": [
      "1\n"
     ]
    }
   ],
   "source": [
    "#Write a Python program to find the smallest number from a list using loop.\n",
    "#Input:- [10,100,2321, 1,200,2]\n",
    "#Output:- 1\n",
    "\n",
    "\n",
    "list_large = [10,100,2321, 1,200,2]\n",
    "largest = list_large[0]\n",
    "for l in list_large:\n",
    "    if l < largest:\n",
    "        largest = l\n",
    "print(largest)"
   ]
  },
  {
   "cell_type": "code",
   "execution_count": 19,
   "metadata": {
    "colab": {},
    "colab_type": "code",
    "id": "JTVgy5VD94cE"
   },
   "outputs": [
    {
     "name": "stdout",
     "output_type": "stream",
     "text": [
      "Number of string having 'count-2' and are palindrome are- 3\n"
     ]
    }
   ],
   "source": [
    "#Write a Python program to count the number of strings having length more than 2 and are palindrome in a list using loop.\n",
    "#Input:- ['ab', 'abc', 'aba', 'xyz', '1991']\n",
    "#Output:- 2\n",
    "my_input = ['ab', 'abc', 'aba', 'xyz', '1991','mom']\n",
    "count =0\n",
    "for it in my_input:\n",
    "    if len(it) > 2:\n",
    "        str = it\n",
    "        pal =''\n",
    "        for i in str:\n",
    "            pal = i + pal\n",
    "            if str == pal:\n",
    "                count += 1\n",
    "print(f\"Number of string having 'count-2' and are palindrome are- {count}\")"
   ]
  },
  {
   "cell_type": "code",
   "execution_count": 34,
   "metadata": {
    "colab": {},
    "colab_type": "code",
    "id": "xs-ZGJbJ94gr"
   },
   "outputs": [
    {
     "name": "stdout",
     "output_type": "stream",
     "text": [
      "List before sorting is-[100, 10, 1, 298, 65, 483, 49876, 2, 80, 9, 9213]\n",
      "List after sorting is-[1, 2, 9, 10, 65, 80, 100, 298, 483, 9213, 49876]\n"
     ]
    }
   ],
   "source": [
    "#Write a Python program to sort a list in ascending order using loop.\n",
    "#Input:- [100,10,1,298,65,483,49876,2,80,9,9213]\n",
    "#Output:- [1,2,9,10,65,80,100,298,483,9213,49876]\n",
    "\n",
    "input_list = [100,10,1,298,65,483,49876,2,80,9,9213]\n",
    "temp = 0\n",
    "print(f'List before sorting is-{input_list}')\n",
    "for i in range(0, len(input_list)):    \n",
    "    for j in range(i+1, len(input_list)):    \n",
    "        if(input_list[i] >input_list[j]):    \n",
    "            temp = input_list[i]\n",
    "            input_list[i] = input_list[j]\n",
    "            input_list[j] = temp    \n",
    "\n",
    "print(f'List after sorting is-{input_list}')\n",
    "            "
   ]
  },
  {
   "cell_type": "code",
   "execution_count": 38,
   "metadata": {
    "colab": {},
    "colab_type": "code",
    "id": "VhKQJizZ94kg"
   },
   "outputs": [
    {
     "name": "stdout",
     "output_type": "stream",
     "text": [
      "Tuples list before sorting- [(5, 4), (9, 1), (2, 3), (5, 9), (7, 6), (5, 5)]\n",
      "Tuples list after sorting- [(9, 1), (2, 3), (5, 4), (5, 5), (7, 6), (5, 9)]\n"
     ]
    }
   ],
   "source": [
    "#Write a Python program to get a sorted list in increasing order of last element in each tuple in a given list using loop.\n",
    "#Input:- [(5,4),(9,1),(2,3),(5,9),(7,6),(5,5)]\n",
    "#output:- [(9,1),(2,3),(5,4),(5,5),(7,6),(5,9)]\n",
    "\n",
    "list_tuple = [(5,4),(9,1),(2,3),(5,9),(7,6),(5,5)]\n",
    "tup = ()\n",
    "t = 1\n",
    "print(f'Tuples list before sorting- {list_tuple}')\n",
    "for i in range(0,len(list_tuple)):\n",
    "    for j in range(0,len(list_tuple)):\n",
    "        if list_tuple[i][t] < list_tuple[j][t]:\n",
    "            tup = list_tuple[i]\n",
    "            list_tuple[i] = list_tuple[j]\n",
    "            list_tuple[j] = tup\n",
    "print(f'Tuples list after sorting- {list_tuple}')\n"
   ]
  },
  {
   "cell_type": "code",
   "execution_count": 39,
   "metadata": {
    "colab": {},
    "colab_type": "code",
    "id": "YJrCLYp694n_"
   },
   "outputs": [
    {
     "name": "stdout",
     "output_type": "stream",
     "text": [
      "List without duplicates- [10, 1, 11, 29, 876, 768, 92]\n"
     ]
    }
   ],
   "source": [
    "#Write a Python program to remove duplicate element from a list using loop.\n",
    "#Input:- [10,1,11,1,29,876,768,10,11,1,92,29,876]\n",
    "#Output:- [10,1,11,29,876,768,92]\n",
    "\n",
    "input_list = [10,1,11,1,29,876,768,10,11,1,92,29,876]\n",
    "output_list = []\n",
    "output_list.append(input_list[0])\n",
    "for i in input_list:\n",
    "    if i not in output_list:\n",
    "        output_list.append(i)\n",
    "print(f'List without duplicates- {output_list}')"
   ]
  },
  {
   "cell_type": "code",
   "execution_count": 41,
   "metadata": {
    "colab": {},
    "colab_type": "code",
    "id": "koYe4YCu94rh"
   },
   "outputs": [
    {
     "name": "stdout",
     "output_type": "stream",
     "text": [
      "List is not empty\n"
     ]
    }
   ],
   "source": [
    "#Write a Python program to check a list is empty or not?\n",
    "#Input:- []\n",
    "#Output:- List is empty\n",
    "#Input:- [10,20,30]\n",
    "#Output:- List is not empty\n",
    "input_list=[10,20,30]\n",
    "if len(input_list) == 0:\n",
    "    print('List is empty')\n",
    "else:\n",
    "    print('List is not empty')\n"
   ]
  },
  {
   "cell_type": "code",
   "execution_count": 42,
   "metadata": {
    "colab": {},
    "colab_type": "code",
    "id": "mES1WANa94u5"
   },
   "outputs": [
    {
     "name": "stdout",
     "output_type": "stream",
     "text": [
      "Input List is - [10, 10.2, (10+20j), 'Python', [10, 20], (10, 20)]\n",
      "Output List is - [10, 10.2, (10+20j), 'Python', [10, 20], (10, 20)]\n"
     ]
    }
   ],
   "source": [
    "#Write a Python program to copy a list using loop.\n",
    "#inp_lst = [10,10.20,10+20j, 'Python', [10,20], (10,20)]\n",
    "#out_lst = [10,10.20,10+20j, 'Python', [10,20], (10,20)]\n",
    "out_lst = []\n",
    "inp_lst = [10,10.20,10+20j, 'Python', [10,20], (10,20)]\n",
    "print(f'Input List is - {inp_lst}')\n",
    "for i in inp_lst:\n",
    "    out_lst.append(i)\n",
    "print(f\"Output List is - {out_lst}\")\n"
   ]
  },
  {
   "cell_type": "code",
   "execution_count": 68,
   "metadata": {
    "colab": {},
    "colab_type": "code",
    "id": "CpBh31WO94yi"
   },
   "outputs": [
    {
     "name": "stdout",
     "output_type": "stream",
     "text": [
      "Input sentence is - How much wood would a woodchuck chuck if a woodchuck could chuck wood\n",
      "woodOutput list - ['much', 'wood', 'would', 'woodchuck', 'chuck', 'woodchuck', 'could', 'chuck', 'wood']\n"
     ]
    }
   ],
   "source": [
    "#Write a Python program to find the list of words that are longer than or equal to 4 from a given string.\n",
    "#Input:- 'How much wood would a woodchuck chuck if a woodchuck could chuck wood'\n",
    "#Output:- ['much', 'wood', 'would', 'woodchuck', 'chuck', 'could', 'could']\n",
    "#Note:- Duplicate should be avoided.\n",
    "\n",
    "output_list = []\n",
    "word = ''\n",
    "inp = 'How much wood would a woodchuck chuck if a woodchuck could chuck wood'\n",
    "print(f'Input sentence is - {inp}')\n",
    "i = 0\n",
    "while i < len(inp):\n",
    "    if inp[i] == ' ' or i == len(inp):\n",
    "        if len(word) >=4:\n",
    "            output_list.append(word)\n",
    "        word = ''\n",
    "    else:\n",
    "        word += inp[i]\n",
    "    i +=1\n",
    "if len(word) >=4:\n",
    "            output_list.append(word)\n",
    "print(f'{word}Output list - {output_list}')"
   ]
  },
  {
   "cell_type": "code",
   "execution_count": 74,
   "metadata": {},
   "outputs": [
    {
     "name": "stdout",
     "output_type": "stream",
     "text": [
      "True\n"
     ]
    }
   ],
   "source": [
    "#Write a Python program which takes two list as input and returns True if they have at least 3 common elements.\n",
    "#inp_lst1 = [10,20,'Python', 10.20, 10+20j, [10,20,30], (10,20,30)]\n",
    "#inp_lst2 = [(10,20,30),1,20+3j,100.2, 10+20j, [10,20,30],'Python']\n",
    "#Output:- True\n",
    "\n",
    "inp_lst1 = [10,20,'Python', 10.20, 10+20j, [10,20,30], (10,20,30)]\n",
    "inp_lst2 = [(10,20,30),1,20+3j,100.2, 10+20j, [10,20,30],'Python']\n",
    "count =0\n",
    "for inp in inp_lst1:\n",
    "            if inp in inp_lst2:\n",
    "                    count += 1\n",
    "            if count == 3:\n",
    "                    print(True)\n",
    "                    break;"
   ]
  },
  {
   "cell_type": "code",
   "execution_count": 104,
   "metadata": {
    "colab": {},
    "colab_type": "code",
    "id": "7vwc3pjR945O",
    "scrolled": false
   },
   "outputs": [
    {
     "name": "stdout",
     "output_type": "stream",
     "text": [
      "[0,0,0,0]\n",
      "[0,1,2,3]\n",
      "[0,2,4,6]\n",
      "[0,3,6,9]\n",
      "[[0, 0, 0, 0], [0, 1, 2, 3], [0, 2, 4, 6], [0, 3, 6, 9]]\n"
     ]
    }
   ],
   "source": [
    "#Write a Python program to create a 4X4 2D matrix with below elements using loop and list comprehension both.\n",
    "#Output:- [[0,0,0,0],[0,1,2,3],[0,2,4,6],[0,3,6,9]]\n",
    "\n",
    "ot = []\n",
    "for i in range(4):\n",
    "    inp = []\n",
    "    inp = eval(input())\n",
    "    ot.append(inp)\n",
    "print(ot)"
   ]
  },
  {
   "cell_type": "code",
   "execution_count": 106,
   "metadata": {},
   "outputs": [
    {
     "name": "stdout",
     "output_type": "stream",
     "text": [
      "[0,0,0,0]\n",
      "[0,1,2,3]\n",
      "[0,2,4,6]\n",
      "[0,3,6,9]\n",
      "[[0, 0, 0, 0], [0, 1, 2, 3], [0, 2, 4, 6], [0, 3, 6, 9]]\n"
     ]
    }
   ],
   "source": [
    "# using list comprehension\n",
    "ot = [eval(input()) for i in range(4)]\n",
    "print(ot)"
   ]
  },
  {
   "cell_type": "code",
   "execution_count": 6,
   "metadata": {},
   "outputs": [
    {
     "name": "stdout",
     "output_type": "stream",
     "text": [
      "0 1 2 3 4 "
     ]
    }
   ],
   "source": [
    "for i in range(5):\n",
    "    print(i, end= ' ')"
   ]
  },
  {
   "cell_type": "code",
   "execution_count": 62,
   "metadata": {},
   "outputs": [
    {
     "name": "stdout",
     "output_type": "stream",
     "text": [
      "[0,0,0,0,0,0]\n",
      "[0,0,0,0,0,0]\n",
      "[0,0,0,0,0,0]\n",
      "[0,0,0,0,0,0]\n",
      "[0,0,0,0,0,0]\n",
      "[1,1,1,1,1,1]\n",
      "[2,2,2,2,2,2]\n",
      "[3,3,3,3,3,3]\n",
      "[0,0,0,0,0,0]\n",
      "[2,2,2,2,2,2]\n",
      "[4,4,4,4,4,4]\n",
      "[6,6,6,6,6,6]\n",
      "Output matrix is\n",
      "[\n",
      "[0, 0, 0, 0, 0, 0],[0, 0, 0, 0, 0, 0],[0, 0, 0, 0, 0, 0],[0, 0, 0, 0, 0, 0],\n",
      "\n",
      "[0, 0, 0, 0, 0, 0],[1, 1, 1, 1, 1, 1],[2, 2, 2, 2, 2, 2],[3, 3, 3, 3, 3, 3],\n",
      "\n",
      "[0, 0, 0, 0, 0, 0],[2, 2, 2, 2, 2, 2],[4, 4, 4, 4, 4, 4],[6, 6, 6, 6, 6, 6],\n",
      "]\n"
     ]
    }
   ],
   "source": [
    "#Write a Python program to create a 3X4X6 3D matrix wiith below elements using loop\n",
    "#Output:- \n",
    "# [\n",
    "#     [[0,0,0,0,0,0],[0,0,0,0,0,0],[0,0,0,0,0,0],[0,0,0,0,0,0]],\n",
    "#     [[0,0,0,0,0,0],[1,1,1,1,1,1],[2,2,2,2,2,2],[3,3,3,3,3,3]],\n",
    "#     [[0,0,0,0,0,0],[2,2,2,2,2,2],[4,4,4,4,4,4],[6,6,6,6,6,6]]\n",
    "# ]\n",
    "outer = []\n",
    "out = []\n",
    "for i in range(3):\n",
    "    for j in range(4):\n",
    "        inp = eval(input())    \n",
    "        out.append(inp)\n",
    "outer.append(out)\n",
    "print('Output matrix is')\n",
    "print('[')\n",
    "for j in range(12):\n",
    "        print(outer[0][j],end=',')\n",
    "        if j == 3 or j == 7:\n",
    "            print('\\n')\n",
    "print('\\n]')"
   ]
  },
  {
   "cell_type": "code",
   "execution_count": 94,
   "metadata": {
    "colab": {},
    "colab_type": "code",
    "id": "lYNv8gk794_p"
   },
   "outputs": [
    {
     "name": "stdout",
     "output_type": "stream",
     "text": [
      "[21, 87, 45, 33, 1]\n"
     ]
    }
   ],
   "source": [
    "#Write a Python program which takes a list of numbers as input and prints a new list after removing even numbers from it.\n",
    "#Input:- [10,21,22,98,87,45,33,1,2,100]\n",
    "#Output:- [21,87,45,33,1]\n",
    "\n",
    "my_inp = [10,21,22,98,87,45,33,1,2,100]\n",
    "\n",
    "out = [i for i in my_inp if i%2 != 0]\n",
    "print(pouts)"
   ]
  },
  {
   "cell_type": "code",
   "execution_count": 96,
   "metadata": {},
   "outputs": [
    {
     "name": "stdout",
     "output_type": "stream",
     "text": [
      "[10,21,22,98,87,45,33,1,2,100]\n",
      "[21, 87, 45, 33, 1]\n"
     ]
    }
   ],
   "source": [
    "# Taking the input list from the user\n",
    "out = [i for i in eval(input()) if i%2 != 0]\n",
    "print(out)\n"
   ]
  },
  {
   "cell_type": "code",
   "execution_count": 116,
   "metadata": {
    "colab": {},
    "colab_type": "code",
    "id": "3BaCb-rB95B7"
   },
   "outputs": [
    {
     "name": "stdout",
     "output_type": "stream",
     "text": [
      "Shuffle-[87, 2, 21, 98, 22, 10, 100, 45, 33, 1]\n",
      "Shuffle-[100, 2, 21, 10, 98, 33, 87, 45, 22, 1]\n"
     ]
    }
   ],
   "source": [
    "#Write a Python program which takes a list from the user and prints it after reshuffling the elements of the list.\n",
    "#Input:- [10,21,22,98,87,45,33,1,2,100]\n",
    "#Output:- [1,87,21,10,33,2,100,45,98,22] (It may be any randon list but with same elements)\n",
    "\n",
    "import random\n",
    "\n",
    "my_input = [10,21,22,98,87,45,33,1,2,100]\n",
    "\n",
    "random.shuffle(my_input)\n",
    "\n",
    "print(f'Shuffle-{my_input}')\n",
    "\n",
    "random.shuffle(my_input)\n",
    "\n",
    "print(f'Shuffle-{my_input}')"
   ]
  },
  {
   "cell_type": "code",
   "execution_count": 135,
   "metadata": {},
   "outputs": [
    {
     "name": "stdout",
     "output_type": "stream",
     "text": [
      "Shuffled list-[2, 21, 33, 87, 98, 1, 10, 22, 45, 100]\n"
     ]
    }
   ],
   "source": [
    "#using random.sample() to retain the original list\n",
    "\n",
    "my_input = [10,21,22,98,87,45,33,1,2,100]\n",
    "\n",
    "shu_list = random.sample(my_input,len(my_input))\n",
    "\n",
    "print(f'Shuffled list-{shu_list}')\n"
   ]
  }
 ],
 "metadata": {
  "colab": {
   "name": "List_Assignment.ipynb",
   "provenance": []
  },
  "kernelspec": {
   "display_name": "Python 3",
   "language": "python",
   "name": "python3"
  },
  "language_info": {
   "codemirror_mode": {
    "name": "ipython",
    "version": 3
   },
   "file_extension": ".py",
   "mimetype": "text/x-python",
   "name": "python",
   "nbconvert_exporter": "python",
   "pygments_lexer": "ipython3",
   "version": "3.7.1"
  }
 },
 "nbformat": 4,
 "nbformat_minor": 1
}
