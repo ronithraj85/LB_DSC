{
 "cells": [
  {
   "cell_type": "code",
   "execution_count": 1,
   "metadata": {},
   "outputs": [
    {
     "name": "stdout",
     "output_type": "stream",
     "text": [
      "ID:  4395403472\n",
      "ID:  4395403696\n",
      "ID:  4358763440\n",
      "ID:  4358763440\n"
     ]
    }
   ],
   "source": [
    "a = -6\n",
    "b = -6\n",
    "print(\"ID: \",id(a))\n",
    "print(\"ID: \",id(b))\n",
    "\n",
    "a = -5\n",
    "b = -5\n",
    "print(\"ID: \",id(a))\n",
    "print(\"ID: \",id(b))"
   ]
  },
  {
   "cell_type": "code",
   "execution_count": 10,
   "metadata": {},
   "outputs": [],
   "source": [
    "lst = ['a','a',10,2,3,4,5,'a']"
   ]
  },
  {
   "cell_type": "code",
   "execution_count": 11,
   "metadata": {},
   "outputs": [
    {
     "name": "stdout",
     "output_type": "stream",
     "text": [
      "['a', 'a', 10, 2, 3, 4, 5, 'a']\n"
     ]
    }
   ],
   "source": [
    "print(lst)"
   ]
  },
  {
   "cell_type": "code",
   "execution_count": 12,
   "metadata": {},
   "outputs": [],
   "source": [
    "lst.remove('a')"
   ]
  },
  {
   "cell_type": "code",
   "execution_count": 13,
   "metadata": {},
   "outputs": [
    {
     "name": "stdout",
     "output_type": "stream",
     "text": [
      "['a', 10, 2, 3, 4, 5, 'a']\n"
     ]
    }
   ],
   "source": [
    "print(lst)"
   ]
  },
  {
   "cell_type": "code",
   "execution_count": 18,
   "metadata": {
    "scrolled": true
   },
   "outputs": [
    {
     "name": "stdout",
     "output_type": "stream",
     "text": [
      "[-10, -9, -8, -7, -6, -5, -4, -3, -2, -1]\n",
      "[0, -1, -2, -3, -4, -5, -6, -7, -8, -9]\n"
     ]
    }
   ],
   "source": [
    "print(list(range(-10,0)))\n",
    "print(list(range(0, -10, -1)))"
   ]
  },
  {
   "cell_type": "code",
   "execution_count": 1,
   "metadata": {},
   "outputs": [
    {
     "data": {
      "text/plain": [
       "'sfe dcba'"
      ]
     },
     "execution_count": 1,
     "metadata": {},
     "output_type": "execute_result"
    }
   ],
   "source": [
    "se = 'abcd efs'\n",
    "se[::-1]"
   ]
  },
  {
   "cell_type": "code",
   "execution_count": 19,
   "metadata": {},
   "outputs": [
    {
     "data": {
      "text/plain": [
       "4395646576"
      ]
     },
     "execution_count": 19,
     "metadata": {},
     "output_type": "execute_result"
    }
   ],
   "source": [
    "s =range(0, -10, -1)\n",
    "id(s)"
   ]
  },
  {
   "cell_type": "code",
   "execution_count": 22,
   "metadata": {},
   "outputs": [
    {
     "name": "stdout",
     "output_type": "stream",
     "text": [
      "Enter a number-2012\n",
      "Leap year\n"
     ]
    }
   ],
   "source": [
    "#leap year check\n",
    "num = int(input('Enter a number-'))\n",
    "if(num%4) == 0:\n",
    "    if(num%100) == 0 :\n",
    "        if(num%400) == 0:\n",
    "            print('Leap year')\n",
    "        else:\n",
    "            print('Not a leap year')\n",
    "    else:\n",
    "        print('Leap year')\n",
    "else:\n",
    "    print('Not a leap year')"
   ]
  },
  {
   "cell_type": "code",
   "execution_count": 25,
   "metadata": {},
   "outputs": [
    {
     "name": "stdout",
     "output_type": "stream",
     "text": [
      "<class 'int'>\n"
     ]
    }
   ],
   "source": [
    "print(type(eval('10+33')))"
   ]
  },
  {
   "cell_type": "code",
   "execution_count": 30,
   "metadata": {},
   "outputs": [
    {
     "name": "stdout",
     "output_type": "stream",
     "text": [
      "10-20-30\n",
      "10,10,10,10,10,"
     ]
    }
   ],
   "source": [
    "print(10,20,30, sep='-')\n",
    "print(10, end=',')\n",
    "print(10, end=',')\n",
    "print(10, end=',')\n",
    "print(10, end=',')\n",
    "print(10, end=',')\n"
   ]
  },
  {
   "cell_type": "code",
   "execution_count": 32,
   "metadata": {},
   "outputs": [
    {
     "name": "stdout",
     "output_type": "stream",
     "text": [
      "Sum of 10 and 20 is 30\n",
      "Sum of 10 and 20 is 30\n"
     ]
    }
   ],
   "source": [
    "a, b = 10, 20\n",
    "c = a+b\n",
    "print(f'Sum of {a} and {b} is {c}')\n",
    "\n",
    "print('Sum of {} and {} is {}'.format(a,b,c))"
   ]
  },
  {
   "cell_type": "code",
   "execution_count": 33,
   "metadata": {},
   "outputs": [
    {
     "name": "stdout",
     "output_type": "stream",
     "text": [
      "ONE\n",
      "0.0001881122589111328\n",
      "Zero\n",
      "NUMBER IS NOT IN RANGE 0-9\n",
      "6.175041198730469e-05\n"
     ]
    }
   ],
   "source": [
    "# if - else - elif\n",
    "# 0-3 - 0 - ZERO, 1 - ONE\n",
    "\n",
    "import time\n",
    "def num_word():\n",
    "    num = 1\n",
    "    if num == 0:\n",
    "        print('Zero')\n",
    "    elif num == 1:\n",
    "        print('ONE')\n",
    "    elif num == 2:\n",
    "        print('TWO')\n",
    "    elif num == 3:\n",
    "        print('THREE')\n",
    "    elif num == 4:\n",
    "        print(\"FOUR\")\n",
    "    elif num ==5:\n",
    "        print(\"FIVE\")\n",
    "    elif num == 6:\n",
    "        print(\"SIX\")\n",
    "    elif num == 7:\n",
    "        print(\"SEVEN\")\n",
    "    elif num == 8:\n",
    "        print(\"EIGHT\")\n",
    "    elif num == 9:\n",
    "        print(\"NINE\")\n",
    "    else:\n",
    "        print(\"NUMBER IS NOT IN RANGE 0-9\")\n",
    "st_time = time.time()\n",
    "num_word()\n",
    "e_time = time.time()\n",
    "print(e_time-st_time)        \n",
    "        \n",
    "def num_word1():\n",
    "    num = 0\n",
    "    if num ==0:\n",
    "        print('Zero')\n",
    "    if num == 1:\n",
    "        print('ONE')\n",
    "    if num == 2:\n",
    "        print('TWO')\n",
    "    if num == 3:\n",
    "        print('THREE')\n",
    "    if num == 4:\n",
    "        print(\"FOUR\")\n",
    "    if num ==5:\n",
    "        print(\"FIVE\")\n",
    "    if num == 6:\n",
    "        print(\"SIX\")\n",
    "    if num == 7:\n",
    "        print(\"SEVEN\")\n",
    "    if num == 8:\n",
    "        print(\"EIGHT\")\n",
    "    if num == 9:\n",
    "        print(\"NINE\")\n",
    "    else:\n",
    "        print(\"NUMBER IS NOT IN RANGE 0-9\")\n",
    "st_time = time.time()\n",
    "num_word1()\n",
    "e_time = time.time()\n",
    "print(e_time-st_time)"
   ]
  },
  {
   "cell_type": "code",
   "execution_count": 34,
   "metadata": {},
   "outputs": [
    {
     "name": "stdout",
     "output_type": "stream",
     "text": [
      "0\n",
      "1\n",
      "2\n",
      "3\n",
      "4\n",
      "5\n",
      "skipping the current iteration\n",
      "7\n",
      "8\n",
      "9\n"
     ]
    }
   ],
   "source": [
    "lst = list(range(10))\n",
    "for i in lst:\n",
    "    if i == 6:\n",
    "        print('skipping the current iteration')\n",
    "        continue\n",
    "        print('After continue')\n",
    "    else:\n",
    "        print(i)"
   ]
  },
  {
   "cell_type": "code",
   "execution_count": 36,
   "metadata": {},
   "outputs": [
    {
     "name": "stdout",
     "output_type": "stream",
     "text": [
      "1\n",
      "1\n",
      "100\n",
      "10\n"
     ]
    },
    {
     "data": {
      "text/plain": [
       "100"
      ]
     },
     "execution_count": 36,
     "metadata": {},
     "output_type": "execute_result"
    }
   ],
   "source": [
    "x = [1, 2]\n",
    "y = [10, 100]\n",
    "for i in x: \n",
    "    for j in y: \n",
    "        if i % 2 == 0: \n",
    "            break\n",
    "            print(i * j)\n",
    "        print(i)\n",
    "    print(j)\n",
    "    \n",
    "1\n",
    "1\n",
    "100\n"
   ]
  },
  {
   "cell_type": "code",
   "execution_count": null,
   "metadata": {},
   "outputs": [],
   "source": []
  },
  {
   "cell_type": "code",
   "execution_count": 37,
   "metadata": {},
   "outputs": [
    {
     "name": "stdout",
     "output_type": "stream",
     "text": [
      "1\n",
      "1\n",
      "100\n",
      "20\n",
      "200\n",
      "100\n"
     ]
    }
   ],
   "source": [
    "# Q. Use continue statememnt properly. The code is:-\n",
    "x = [1, 2]\n",
    "y = [10, 100]\n",
    "\n",
    "for i in x:\n",
    "    for j in y:\n",
    "        if i % 2 == 0:\n",
    "            print(i * j)\n",
    "            continue\n",
    "        print(i)\n",
    "    print(j)\n",
    "\n",
    "# Output is:-\n",
    "# 1\n",
    "# 1\n",
    "# 100\n",
    "# 20\n",
    "# 200\n",
    "# 100"
   ]
  },
  {
   "cell_type": "code",
   "execution_count": 39,
   "metadata": {},
   "outputs": [
    {
     "name": "stdout",
     "output_type": "stream",
     "text": [
      "True\n"
     ]
    }
   ],
   "source": [
    "print('Fluß'.isascii())\n"
   ]
  },
  {
   "cell_type": "code",
   "execution_count": 41,
   "metadata": {},
   "outputs": [
    {
     "name": "stdout",
     "output_type": "stream",
     "text": [
      "True\n"
     ]
    }
   ],
   "source": [
    "s3 = 'Python23'\n",
    "print(s3.isalnum())"
   ]
  },
  {
   "cell_type": "code",
   "execution_count": 48,
   "metadata": {},
   "outputs": [
    {
     "name": "stdout",
     "output_type": "stream",
     "text": [
      "True\n",
      "False\n"
     ]
    }
   ],
   "source": [
    "print('2'.isdigit())\n",
    "print('$34'.isnumeric())"
   ]
  },
  {
   "cell_type": "code",
   "execution_count": 51,
   "metadata": {},
   "outputs": [
    {
     "data": {
      "text/plain": [
       "True"
      ]
     },
     "execution_count": 51,
     "metadata": {},
     "output_type": "execute_result"
    }
   ],
   "source": [
    "'This Os Sswdsa'.istitle()"
   ]
  },
  {
   "cell_type": "code",
   "execution_count": 53,
   "metadata": {},
   "outputs": [
    {
     "name": "stdout",
     "output_type": "stream",
     "text": [
      "This is Python \n",
      "class\n",
      "This is Python \\nclass\n",
      "False\n",
      "True\n"
     ]
    }
   ],
   "source": [
    "s = 'This is Python \\nclass'\n",
    "rs = r'This is Python \\nclass'\n",
    "print(s)\n",
    "print(rs)\n",
    "print(s.isprintable())\n",
    "print(rs.isprintable())\n",
    "\n"
   ]
  },
  {
   "cell_type": "code",
   "execution_count": 54,
   "metadata": {},
   "outputs": [
    {
     "name": "stdout",
     "output_type": "stream",
     "text": [
      "9\n",
      "5\n",
      "2\n"
     ]
    }
   ],
   "source": [
    "# count, index, rindex, find, rfind\n",
    "s = 'peter piper picked a peck of pickled peppers.'\n",
    "print(s.count('p'))\n",
    "print(s.count('pe'))\n",
    "print(s.count('p', 8, 19))\n"
   ]
  },
  {
   "cell_type": "code",
   "execution_count": 3,
   "metadata": {},
   "outputs": [
    {
     "name": "stdout",
     "output_type": "stream",
     "text": [
      "1 10\n",
      "2 20\n",
      "3 30\n"
     ]
    }
   ],
   "source": [
    "d = {1:10,\n",
    "     2:20,\n",
    "    3:30}\n",
    "for i in d:\n",
    "    print(i,d[i])"
   ]
  },
  {
   "cell_type": "code",
   "execution_count": null,
   "metadata": {},
   "outputs": [],
   "source": [
    "lst = eval(input(\"Enter values into list\"))\n"
   ]
  },
  {
   "cell_type": "code",
   "execution_count": 11,
   "metadata": {},
   "outputs": [
    {
     "name": "stdout",
     "output_type": "stream",
     "text": [
      "[10, 2, 3, 4, 5, 6, [1, 2, 3]]\n",
      "[10, 2, 3, 4, 5, 6, [1, 2, 3]]\n"
     ]
    }
   ],
   "source": [
    "lst = [10,2,3,4,5,6,[1,2,3]]\n",
    "lst_new = lst\n",
    "print(lst)\n",
    "print(lst_new)"
   ]
  },
  {
   "cell_type": "code",
   "execution_count": 12,
   "metadata": {},
   "outputs": [
    {
     "name": "stdout",
     "output_type": "stream",
     "text": [
      "['A', 2, 3, 4, 5, 6, [1, 2, 3]]\n",
      "['A', 2, 3, 4, 5, 6, [1, 2, 3]]\n",
      "['A', 2, 3, 4, 5, 6, [1, 2000, 3]]\n",
      "['A', 2, 3, 4, 5, 6, [1, 2000, 3]]\n"
     ]
    }
   ],
   "source": [
    "lst_new[0] = 'A'\n",
    "print(lst)\n",
    "print(lst_new)\n",
    "lst_new[-1][1] = 2000\n",
    "print(lst)\n",
    "print(lst_new)"
   ]
  },
  {
   "cell_type": "code",
   "execution_count": 19,
   "metadata": {},
   "outputs": [
    {
     "name": "stdout",
     "output_type": "stream",
     "text": [
      "[10, 2, 3, 4, 5, 6, [1, 2, 3]]\n",
      "[10, 2, 3, 4, 5, 6, [1, 2, 3]]\n"
     ]
    }
   ],
   "source": [
    "lst = [10,2,3,4,5,6,[1,2,3]]\n",
    "lst_new = lst[::]\n",
    "print(lst)\n",
    "print(lst_new)"
   ]
  },
  {
   "cell_type": "code",
   "execution_count": 20,
   "metadata": {},
   "outputs": [
    {
     "data": {
      "text/plain": [
       "list"
      ]
     },
     "execution_count": 20,
     "metadata": {},
     "output_type": "execute_result"
    }
   ],
   "source": [
    "type(lst_new)"
   ]
  },
  {
   "cell_type": "code",
   "execution_count": 21,
   "metadata": {},
   "outputs": [
    {
     "name": "stdout",
     "output_type": "stream",
     "text": [
      "2\n"
     ]
    }
   ],
   "source": [
    "print(lst_new[-1][1])"
   ]
  },
  {
   "cell_type": "code",
   "execution_count": 22,
   "metadata": {},
   "outputs": [
    {
     "name": "stdout",
     "output_type": "stream",
     "text": [
      "[10, 2, 3, 4, 5, 6, [1, 2, 3]]\n",
      "['A', 2, 3, 4, 5, 6, [1, 2, 3]]\n",
      "[10, 2, 3, 4, 5, 6, [1, 20, 3]]\n",
      "['A', 2, 3, 4, 5, 6, [1, 20, 3]]\n"
     ]
    }
   ],
   "source": [
    "lst_new[0] = 'A'\n",
    "print(lst)\n",
    "print(lst_new)\n",
    "lst_new[-1][1] = 20\n",
    "print(lst)\n",
    "print(lst_new)"
   ]
  },
  {
   "cell_type": "code",
   "execution_count": 23,
   "metadata": {},
   "outputs": [
    {
     "name": "stdout",
     "output_type": "stream",
     "text": [
      "asd\n"
     ]
    }
   ],
   "source": [
    "lst = [s for s in input()]"
   ]
  },
  {
   "cell_type": "code",
   "execution_count": 27,
   "metadata": {},
   "outputs": [
    {
     "name": "stdout",
     "output_type": "stream",
     "text": [
      "abc def\n"
     ]
    }
   ],
   "source": [
    "list_str = list(map(str, input().split()))"
   ]
  },
  {
   "cell_type": "code",
   "execution_count": 28,
   "metadata": {},
   "outputs": [
    {
     "data": {
      "text/plain": [
       "['abc', 'def']"
      ]
     },
     "execution_count": 28,
     "metadata": {},
     "output_type": "execute_result"
    }
   ],
   "source": [
    "list_str"
   ]
  },
  {
   "cell_type": "code",
   "execution_count": 3,
   "metadata": {},
   "outputs": [
    {
     "name": "stdout",
     "output_type": "stream",
     "text": [
      "Enter a tuple:(1,2,3)\n",
      "(1, 2, 3) <class 'tuple'>\n"
     ]
    }
   ],
   "source": [
    "tup = eval(input('Enter a tuple:'))\n",
    "print(tup,type(tup))"
   ]
  },
  {
   "cell_type": "code",
   "execution_count": 8,
   "metadata": {},
   "outputs": [
    {
     "name": "stdout",
     "output_type": "stream",
     "text": [
      "(1, 2, 3, 4, 'psd', [1, 2, 3]) <class 'tuple'>\n"
     ]
    }
   ],
   "source": [
    "tup = tuple([1,2,3,4,'psd',[1,2,3]])\n",
    "print(tup, type(tup))"
   ]
  },
  {
   "cell_type": "code",
   "execution_count": 12,
   "metadata": {},
   "outputs": [],
   "source": [
    "tpl = 10,20,30"
   ]
  },
  {
   "cell_type": "code",
   "execution_count": 13,
   "metadata": {},
   "outputs": [
    {
     "name": "stdout",
     "output_type": "stream",
     "text": [
      "10 20 30\n"
     ]
    }
   ],
   "source": [
    "a,b,c = tpl\n",
    "\n",
    "print(a,b,c)"
   ]
  },
  {
   "cell_type": "code",
   "execution_count": 40,
   "metadata": {},
   "outputs": [
    {
     "name": "stdout",
     "output_type": "stream",
     "text": [
      "Enter the key-values for a dictionary:{1: 'sd', 2: 'sv'}\n",
      "{1: 'sd', 2: 'sv'} <class 'dict'>\n"
     ]
    }
   ],
   "source": [
    "d = eval(input('Enter the key-values for a dictionary:'))\n",
    "print(d, type(d))"
   ]
  },
  {
   "cell_type": "code",
   "execution_count": 41,
   "metadata": {},
   "outputs": [
    {
     "name": "stdout",
     "output_type": "stream",
     "text": [
      "This is key is not available!\n"
     ]
    }
   ],
   "source": [
    "print(d.get(3,'This is key is not available!'))"
   ]
  },
  {
   "cell_type": "code",
   "execution_count": 42,
   "metadata": {},
   "outputs": [
    {
     "name": "stdout",
     "output_type": "stream",
     "text": [
      "None\n",
      "{1: 'sd', 2: 'sv', 3: None}\n"
     ]
    }
   ],
   "source": [
    "print(d.setdefault(3))\n",
    "print(d)"
   ]
  },
  {
   "cell_type": "code",
   "execution_count": 43,
   "metadata": {},
   "outputs": [
    {
     "name": "stdout",
     "output_type": "stream",
     "text": [
      "This is creaated from set-default\n",
      "{1: 'sd', 2: 'sv', 3: None, 4: 'This is creaated from set-default'}\n"
     ]
    }
   ],
   "source": [
    "print(d.setdefault(4,'This is creaated from set-default'))\n",
    "print(d)"
   ]
  },
  {
   "cell_type": "code",
   "execution_count": 23,
   "metadata": {},
   "outputs": [],
   "source": [
    "d1 = {1:100, 'b':'abc'}\n",
    "d2 = {1:'xyx', 2:200}"
   ]
  },
  {
   "cell_type": "code",
   "execution_count": 24,
   "metadata": {},
   "outputs": [
    {
     "name": "stdout",
     "output_type": "stream",
     "text": [
      "{1: 'xyx', 'b': 'abc', 2: 200}\n"
     ]
    }
   ],
   "source": [
    "d1.update(d2)\n",
    "print(d1)"
   ]
  },
  {
   "cell_type": "code",
   "execution_count": 31,
   "metadata": {},
   "outputs": [
    {
     "name": "stdout",
     "output_type": "stream",
     "text": [
      "This key is already pop-ed\n",
      "{1: 'xyx', 2: 200}\n"
     ]
    }
   ],
   "source": [
    "print(d1.pop('b','This key is already pop-ed'))\n",
    "print(d1)\n"
   ]
  },
  {
   "cell_type": "code",
   "execution_count": 44,
   "metadata": {},
   "outputs": [
    {
     "name": "stdout",
     "output_type": "stream",
     "text": [
      "{1: 'sd', 2: 'sv', 3: None, 4: 'This is creaated from set-default'}\n",
      "(4, 'This is creaated from set-default')\n",
      "{1: 'sd', 2: 'sv', 3: None}\n"
     ]
    }
   ],
   "source": [
    "print(d)\n",
    "print(d.popitem())\n",
    "print(d)"
   ]
  },
  {
   "cell_type": "code",
   "execution_count": 45,
   "metadata": {},
   "outputs": [
    {
     "name": "stdout",
     "output_type": "stream",
     "text": [
      "{1: 'sd', 2: 'sv', 3: None}\n"
     ]
    }
   ],
   "source": [
    "print(d)"
   ]
  },
  {
   "cell_type": "code",
   "execution_count": 52,
   "metadata": {},
   "outputs": [
    {
     "name": "stdout",
     "output_type": "stream",
     "text": [
      "(1, 'sd') <class 'tuple'>\n",
      "(2, 'sv') <class 'tuple'>\n",
      "(3, None) <class 'tuple'>\n",
      "dict_items([(1, 'sd'), (2, 'sv'), (3, None)]) <class 'dict_items'>\n"
     ]
    }
   ],
   "source": [
    "for i in d.items():\n",
    "    print(i,type(i)) \n",
    "print(d.items(), type(d.items()))"
   ]
  },
  {
   "cell_type": "code",
   "execution_count": 51,
   "metadata": {},
   "outputs": [
    {
     "name": "stdout",
     "output_type": "stream",
     "text": [
      "1 <class 'int'>\n",
      "2 <class 'int'>\n",
      "3 <class 'int'>\n"
     ]
    }
   ],
   "source": [
    "for i in d.keys():\n",
    "    print(i, type(i))\n",
    "print(d.keys(), type(d.keys()))"
   ]
  },
  {
   "cell_type": "code",
   "execution_count": 53,
   "metadata": {},
   "outputs": [
    {
     "name": "stdout",
     "output_type": "stream",
     "text": [
      "1 <class 'int'>\n",
      "2 <class 'int'>\n",
      "3 <class 'int'>\n",
      "dict_values(['sd', 'sv', None]) <class 'dict_values'>\n"
     ]
    }
   ],
   "source": [
    "for i in d.keys():\n",
    "    print(i, type(i))\n",
    "print(d.values(), type(d.values()))"
   ]
  },
  {
   "cell_type": "code",
   "execution_count": 56,
   "metadata": {},
   "outputs": [
    {
     "name": "stdout",
     "output_type": "stream",
     "text": [
      "{1: 10, 2: 10, 3: 10}\n"
     ]
    }
   ],
   "source": [
    "dfk = {}\n",
    "print(dfk.fromkeys([1,2,3],10))"
   ]
  },
  {
   "cell_type": "code",
   "execution_count": 60,
   "metadata": {},
   "outputs": [
    {
     "name": "stdout",
     "output_type": "stream",
     "text": [
      "[(0, 'a'), (1, 'b'), (2, 'c'), (3, 'e')]\n"
     ]
    }
   ],
   "source": [
    "print(list(enumerate(['a', 'b', 'c', 'e'])))"
   ]
  },
  {
   "cell_type": "code",
   "execution_count": 61,
   "metadata": {},
   "outputs": [
    {
     "name": "stdout",
     "output_type": "stream",
     "text": [
      "{1: 'a', 2: 'b', 3: 'c', 4: 'e'}\n"
     ]
    }
   ],
   "source": [
    "print({c+1 : n for c, n in enumerate(['a', 'b', 'c', 'e'])})"
   ]
  },
  {
   "cell_type": "code",
   "execution_count": 12,
   "metadata": {},
   "outputs": [
    {
     "data": {
      "text/plain": [
       "'This is \\nPython \\nclass'"
      ]
     },
     "execution_count": 12,
     "metadata": {},
     "output_type": "execute_result"
    }
   ],
   "source": [
    "'''This is \n",
    "Python \n",
    "class''' \n"
   ]
  },
  {
   "cell_type": "code",
   "execution_count": 13,
   "metadata": {},
   "outputs": [
    {
     "data": {
      "text/plain": [
       "'This is Python class'"
      ]
     },
     "execution_count": 13,
     "metadata": {},
     "output_type": "execute_result"
    }
   ],
   "source": [
    "\n",
    "'''This is \\\n",
    "Python \\\n",
    "class'''"
   ]
  },
  {
   "cell_type": "code",
   "execution_count": 15,
   "metadata": {},
   "outputs": [
    {
     "name": "stdout",
     "output_type": "stream",
     "text": [
      "6\n"
     ]
    }
   ],
   "source": [
    "s = lambda a,b:a*b\n",
    "print(s(3,2))"
   ]
  },
  {
   "cell_type": "code",
   "execution_count": 21,
   "metadata": {},
   "outputs": [],
   "source": [
    "def add(*args):\n",
    "    tot = 0\n",
    "    for i in args:\n",
    "        tot += i\n",
    "    print(f'Sum-{tot}')"
   ]
  },
  {
   "cell_type": "code",
   "execution_count": 22,
   "metadata": {},
   "outputs": [
    {
     "name": "stdout",
     "output_type": "stream",
     "text": [
      "Sum-60\n",
      "Sum-4378\n"
     ]
    }
   ],
   "source": [
    "add(10, 20, 30)\n",
    "add(12, 324, 354, 234, 1, 3453)"
   ]
  },
  {
   "cell_type": "code",
   "execution_count": 35,
   "metadata": {},
   "outputs": [],
   "source": [
    "def add_emp(**kwargs):\n",
    "    for key in kwargs:\n",
    "        print(f'{key} - {kwargs[key]}')"
   ]
  },
  {
   "cell_type": "code",
   "execution_count": 36,
   "metadata": {},
   "outputs": [
    {
     "name": "stdout",
     "output_type": "stream",
     "text": [
      "name - check\n",
      "roll - 123\n",
      "name - test\n",
      "roll - 456\n",
      "add - hyd\n",
      "name - tes1\n",
      "roll - 789\n",
      "add - bang\n",
      "pin - 500090\n"
     ]
    }
   ],
   "source": [
    "add_emp(name='check', roll = 123)\n",
    "add_emp(name='test', roll = 456, add = 'hyd')\n",
    "add_emp(name='tes1', roll = 789, add = 'bang', pin = 500090)"
   ]
  }
 ],
 "metadata": {
  "kernelspec": {
   "display_name": "Python 3",
   "language": "python",
   "name": "python3"
  },
  "language_info": {
   "codemirror_mode": {
    "name": "ipython",
    "version": 3
   },
   "file_extension": ".py",
   "mimetype": "text/x-python",
   "name": "python",
   "nbconvert_exporter": "python",
   "pygments_lexer": "ipython3",
   "version": "3.7.1"
  }
 },
 "nbformat": 4,
 "nbformat_minor": 2
}
