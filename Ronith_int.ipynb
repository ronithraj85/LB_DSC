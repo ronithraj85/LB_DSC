{
 "cells": [
  {
   "cell_type": "code",
   "execution_count": 17,
   "metadata": {
    "colab": {},
    "colab_type": "code",
    "id": "8A5Jw5NR1iEI"
   },
   "outputs": [
    {
     "name": "stdout",
     "output_type": "stream",
     "text": [
      "<class 'int'>\n",
      "1486581408\n"
     ]
    }
   ],
   "source": [
    "#Declare an int value and store it in a variable. \n",
    "\n",
    "int_a = 20\n",
    "\n",
    "#Check the type and print the id of the same.\n",
    "print(type(int_a))\n",
    "print(id(int_a))\n"
   ]
  },
  {
   "cell_type": "code",
   "execution_count": 18,
   "metadata": {
    "colab": {},
    "colab_type": "code",
    "id": "0YU8LFTn1rAX"
   },
   "outputs": [
    {
     "name": "stdout",
     "output_type": "stream",
     "text": [
      "1486588928\n",
      "1486588928\n",
      "------------------------------------------------------------\n",
      "2159666989392\n",
      "2159666989168\n"
     ]
    }
   ],
   "source": [
    "#Take one int value between 0 - 256.\n",
    "#Assign it to two different variables.\n",
    "#Check the id of both the variables. It should come same. Check why?\n",
    "\n",
    "a = 255\n",
    "b = 255\n",
    "print(id(a))\n",
    "print(id(b))\n",
    "\n",
    "#Take one int value either less than -5 or greater than 256.\n",
    "#Assign it to two different variables.\n",
    "#Check the id of both the variables. It should come different.Check why?\n",
    "print(\"------\"*10)\n",
    "a = -7\n",
    "b = -7\n",
    "print(id(a))\n",
    "print(id(b))\n"
   ]
  },
  {
   "cell_type": "code",
   "execution_count": 19,
   "metadata": {
    "colab": {},
    "colab_type": "code",
    "id": "YzEIG0ZZ1tSK"
   },
   "outputs": [
    {
     "name": "stdout",
     "output_type": "stream",
     "text": [
      "138\n",
      "118\n",
      "1280\n",
      "12\n",
      "8\n",
      "12.8\n",
      "1180591620717411303424\n"
     ]
    }
   ],
   "source": [
    "#Arithmatic Operations on integers\n",
    "#Take two different intger values.\n",
    "#Store them in two different variables.\n",
    "#Do below operations on them:-\n",
    "    #Find sum of both numbers\n",
    "    #Find differce between them\n",
    "    #Find the product of both numbers.\n",
    "    #Find value after dividing first num with second number\n",
    "    #Find the remainder after dividing first number with second number\n",
    "    #Find the quotient after dividing first number with second number\n",
    "    #Find the result of first num to the power of second number.\n",
    "    \n",
    "first_num = 128\n",
    "second_num = 10\n",
    "\n",
    "sum_nums = first_num + second_num\n",
    "diff_nums = first_num - second_num\n",
    "prod_nums = first_num * second_num\n",
    "div_nums = first_num // second_num\n",
    "rem_nums = first_num % second_num\n",
    "quo_nums = first_num / second_num\n",
    "pow_nums = first_num ** second_num\n",
    "\n",
    "print(sum_nums)\n",
    "print(diff_nums)\n",
    "print(prod_nums)\n",
    "print(div_nums)\n",
    "print(rem_nums)\n",
    "print(quo_nums)\n",
    "print(pow_nums)\n"
   ]
  },
  {
   "cell_type": "code",
   "execution_count": 20,
   "metadata": {
    "colab": {},
    "colab_type": "code",
    "id": "GGM7CdzA1wGn"
   },
   "outputs": [
    {
     "name": "stdout",
     "output_type": "stream",
     "text": [
      "False\n",
      "True\n",
      "False\n",
      "True\n",
      "--------------------\n",
      "True\n",
      "False\n",
      "True\n",
      "False\n"
     ]
    }
   ],
   "source": [
    "#Comparison Operators on integers\n",
    "#Take two different intger values.\n",
    "#Store them in two different variables.\n",
    "#Do below operations on them:-\n",
    "    #Compare se two numbers with below operator:-\n",
    "        #Greater than, '>'\n",
    "        #Smaller than, '<'\n",
    "        #Greater than or equal to, '>='\n",
    "        #Less than or equal to, '<='\n",
    "#Observe their output(return type should be boolean)\n",
    "\n",
    "comp_one = 25\n",
    "comp_two = 50\n",
    "\n",
    "print(comp_one > comp_two)\n",
    "print(comp_one < comp_two)\n",
    "print(comp_one >= comp_two)\n",
    "print(comp_one <= comp_two)\n",
    "print(\"--\"*10)\n",
    "print(comp_two > comp_one)\n",
    "print(comp_two < comp_one)\n",
    "print(comp_two >= comp_one)\n",
    "print(comp_two <= comp_one)"
   ]
  },
  {
   "cell_type": "code",
   "execution_count": 21,
   "metadata": {
    "colab": {},
    "colab_type": "code",
    "id": "9x904sUE1y9t"
   },
   "outputs": [
    {
     "name": "stdout",
     "output_type": "stream",
     "text": [
      "False\n",
      "True\n"
     ]
    }
   ],
   "source": [
    "#Equality Operator\n",
    "#Take two different intger values.\n",
    "#Store them in two different variables.\n",
    "#Equuate them using equality operator (==, !=)\n",
    "#Observe the output(return type should be boolean)\n",
    "equ_a = 200\n",
    "equ_b = 201\n",
    "print(equ_a == equ_b)\n",
    "print(equ_a != equ_b)"
   ]
  },
  {
   "cell_type": "code",
   "execution_count": 22,
   "metadata": {
    "colab": {},
    "colab_type": "code",
    "id": "JmQFHUwc11S-"
   },
   "outputs": [
    {
     "name": "stdout",
     "output_type": "stream",
     "text": [
      "75\n",
      "0\n",
      "0\n",
      "0\n",
      "50\n",
      "50\n",
      "75\n",
      "0\n",
      "False\n",
      "True\n"
     ]
    }
   ],
   "source": [
    "#Logical operators\n",
    "#Observe the output of below code\n",
    "#Cross check the output manually\n",
    "\n",
    "print(50 and 75)       #----------------------------------------->Output is 75\n",
    "print(0 and 50)        #----------------------------------------->Output is 0\n",
    "print(200 and 0)        #----------------------------------------->Output is 0\n",
    "print(0 and 0)         #----------------------------------------->Output is 0\n",
    "\n",
    "print(50 or 75)        #----------------------------------------->Output is 50\n",
    "print(0 or 50)         #----------------------------------------->Output is 50\n",
    "print(75 or 0)         #----------------------------------------->Output is 75\n",
    "print(0 or 0)          #----------------------------------------->Output is 0\n",
    "\n",
    "print(not 10)          #----------------------------------------->Output is False\n",
    "print(not 0)           #----------------------------------------->Output is True"
   ]
  },
  {
   "cell_type": "code",
   "execution_count": 23,
   "metadata": {
    "colab": {},
    "colab_type": "code",
    "id": "-0tvoulX14Hi"
   },
   "outputs": [
    {
     "name": "stdout",
     "output_type": "stream",
     "text": [
      "0\n",
      "24\n",
      "24\n",
      "-17\n",
      "3\n",
      "5\n",
      "128\n",
      "1\n"
     ]
    }
   ],
   "source": [
    "#Bitwise Operators\n",
    "#Do below operations on the values provided below:-\n",
    "    #Bitwise and(&) -----------------------------------------> 16, 8   -------> Output is 0\n",
    "    #Bitwise or(|)  -----------------------------------------> 16, 8   -------> Output is 24\n",
    "    #Bitwise(^)     -----------------------------------------> 16, 8   -------> Output is 24\n",
    "    #Bitwise negation(~) ------------------------------------> 16       -------> Output is -17\n",
    "    #Bitwise negation(~) and '-' ----------------------------> 4       -------> Output is 3\n",
    "    #'-' and Bitwise negation(~) ----------------------------> 4       -------> Output is 5\n",
    "    #Bitwise left shift  ------------------------------------> 16,3     -------> Output is 128\n",
    "    #Bitwise right shift ------------------------------------> 15,3     -------> Output is 1\n",
    "#Cross check the output manually\n",
    "\n",
    "print(16&8)\n",
    "print(16|8)\n",
    "print(16^8)\n",
    "print(~16)\n",
    "print(~-4) \n",
    "print(-~4)\n",
    "print(16<<3)\n",
    "print(15>>3)\n",
    "# 16- 10000 2-10\n",
    "# 8 - 01000 128-10000000\n",
    "# (-(16+1))\n",
    "# (-(-4+1))\n",
    "# -(-(4+1))\n"
   ]
  },
  {
   "cell_type": "code",
   "execution_count": 24,
   "metadata": {
    "colab": {},
    "colab_type": "code",
    "id": "YCcx-Qx016hg"
   },
   "outputs": [
    {
     "name": "stdout",
     "output_type": "stream",
     "text": [
      "1486581088\n",
      "1486581088\n",
      "True\n",
      "False\n",
      "2159666989264\n",
      "2159666989840\n",
      "False\n",
      "True\n"
     ]
    }
   ],
   "source": [
    "#What is the output of expression inside print statement. Cross check before running the program.\n",
    "a = 10\n",
    "b = 10\n",
    "print(id(a))\n",
    "print(id(b))\n",
    "#As the memory reference is same it is True for a is b and False for a is not b.\n",
    "print(a is b)          #True or False? \n",
    "print(a is not b)      #True or False?\n",
    "\n",
    "a = 1000\n",
    "b = 1000\n",
    "print(id(a))\n",
    "print(id(b))\n",
    "\n",
    "#As the memory reference is not same it is False for a is b and True for a is not b.\n",
    "print(a is b)          #True or False?\n",
    "print(a is not b)      #True or False?"
   ]
  },
  {
   "cell_type": "code",
   "execution_count": 25,
   "metadata": {
    "colab": {},
    "colab_type": "code",
    "id": "Un2To3XN1_Il"
   },
   "outputs": [
    {
     "name": "stdout",
     "output_type": "stream",
     "text": [
      "20\n"
     ]
    }
   ],
   "source": [
    "#What is the output of expression inside print statement. Cross check before running the program.\n",
    "print(10+(10*32)//2**5&20+(~(-10))<<2)\n",
    "# 20 will be printed.\n",
    "# (10+(320)//2**5&20+(9)<<2)\n",
    "# (10+(320)//32&20+(9)<<2)\n",
    "# (20&20)\n",
    "# (20)"
   ]
  },
  {
   "cell_type": "code",
   "execution_count": 26,
   "metadata": {
    "colab": {},
    "colab_type": "code",
    "id": "kGRb5RMd1_1I"
   },
   "outputs": [
    {
     "name": "stdout",
     "output_type": "stream",
     "text": [
      "True\n",
      "True\n",
      "True\n",
      "True\n",
      "True\n",
      "True\n"
     ]
    }
   ],
   "source": [
    "#Membership operation\n",
    "#in, not in are two membership operators and it returns boolean value\n",
    "\n",
    "print('2' in 'Python2.7.8') \n",
    "print(10 in [10,10.20,10+20j,'Python'])\n",
    "print(10 in (10,10.20,10+20j,'Python'))\n",
    "print(2 in {1,2,3})\n",
    "print(3 in {1:100, 2:200, 3:300})\n",
    "print(10 in range(20))"
   ]
  },
  {
   "cell_type": "code",
   "execution_count": 27,
   "metadata": {
    "colab": {},
    "colab_type": "code",
    "id": "Es7iSvL92B9W"
   },
   "outputs": [
    {
     "name": "stdout",
     "output_type": "stream",
     "text": [
      "61\n",
      "217767\n",
      "4898041\n",
      "=====\n",
      "0b10011010010100\n",
      "0o23224\n",
      "0x2694\n"
     ]
    }
   ],
   "source": [
    "#An integer can be represented in binary, octal or hexadecimal form.\n",
    "#Declare one binary, one octal and one hexadecimal value and store them in three different variables.\n",
    "#Convert 9876 to its binary, octal and hexadecimal equivalent and print their corresponding value.\n",
    "\n",
    "bin_num = 0B111101\n",
    "oct_num = 0O651247\n",
    "hex_num = 0X4ABCF9\n",
    "print(bin_num)\n",
    "print(oct_num)\n",
    "print(hex_num)\n",
    "print('='*5)\n",
    "print(bin(9876))\n",
    "print(oct(9876))\n",
    "print(hex(9876))"
   ]
  },
  {
   "cell_type": "code",
   "execution_count": 29,
   "metadata": {
    "colab": {},
    "colab_type": "code",
    "id": "Hm0r03lH2E0i"
   },
   "outputs": [
    {
     "name": "stdout",
     "output_type": "stream",
     "text": [
      "80\n",
      "3870\n",
      "64222\n",
      "0b1010000\n",
      "0o7436\n",
      "0xfade\n",
      "0b1010000\n",
      "0b1111101011011110\n",
      "0o175336\n",
      "0o7436\n",
      "0x50\n",
      "0xfade\n",
      "0b10111101\n"
     ]
    }
   ],
   "source": [
    "#What will be the outut of following:-\n",
    "a = 0b1010000\n",
    "print(a)\n",
    "# 80\n",
    "b = 0o7436\n",
    "print(b)\n",
    "# 3870\n",
    "c = 0xfade\n",
    "print(c)\n",
    "# 64222\n",
    "\n",
    "print(bin(80))\n",
    "\n",
    "print(oct(3870))\n",
    "\n",
    "print(hex(64222))\n",
    "\n",
    "print(bin(0b1010000))\n",
    "\n",
    "print(bin(0xfade))\n",
    "\n",
    "print(oct(0xfade))\n",
    "\n",
    "print(oct(0o7436))\n",
    "\n",
    "print(hex(0b1010000))\n",
    "\n",
    "print(hex(0xfade))\n",
    "\n",
    "print(bin(0o275))"
   ]
  }
 ],
 "metadata": {
  "colab": {
   "name": "int_assignment.ipynb",
   "provenance": []
  },
  "kernelspec": {
   "display_name": "Python 3",
   "language": "python",
   "name": "python3"
  },
  "language_info": {
   "codemirror_mode": {
    "name": "ipython",
    "version": 3
   },
   "file_extension": ".py",
   "mimetype": "text/x-python",
   "name": "python",
   "nbconvert_exporter": "python",
   "pygments_lexer": "ipython3",
   "version": "3.6.5"
  }
 },
 "nbformat": 4,
 "nbformat_minor": 1
}
