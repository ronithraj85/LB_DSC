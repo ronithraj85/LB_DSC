{
 "cells": [
  {
   "cell_type": "markdown",
   "metadata": {},
   "source": [
    "## NUMPY\n",
    "- create a numpy array of 5 zeros.\n",
    "    - check datatype, itemsize and shape of above\n",
    "- create a numpy array of ones of shape (5,4)\n",
    "- create a matrix of shape 4,5 with numbers from 1-20\n",
    "- multiply all elements of above array by 10\n",
    "- print odd elements from array\n",
    "- replace all even elements by their negative\n",
    "  \n",
    "  \n",
    "  \n",
    "- create a linearly spaced matrix M1 of size 4x4 having values in range 1-16\n",
    "- create a transpose of above matrix call it M2\n",
    "- find sum of above matrix M3 = (M1 + M2)\n",
    "- Find Transpose of M3, Call it MT1. Check if M3 == MT1\n",
    "- find diffrence of M4 = (M1 - M2)\n",
    "- Find Transpose of M4, Call it MT2. Check if M4 == MT2. Also check if M4 == -MT2\n",
    "  \n",
    "\n",
    "- create a matrix (3x4) R1 of random numbers between 10-40\n",
    "- find min and max column wise\n",
    "- replace the last column with sum of all the columns\n",
    "\n",
    "\n",
    "- create a matrix (3x4) R1 of random numbers between 10-40\n",
    "- replace all even elements with nan in R1\n",
    "- count number of nan in R1\n",
    "\n",
    "\n",
    "\n",
    "- check output of this code  \n",
    "`a1 = np.arange(1,10).reshape(3,3)\n",
    "a2 = np.arange(11,20).reshape(3,3)\n",
    "a3 = np.append(a1,a2)\n",
    "print(a3)\n",
    "a3 = np.append(a1,a2, axis = 0)\n",
    "print(a3)\n",
    "a3 = np.append(a1,a2, axis = 1)\n",
    "print(a3)\n",
    "`\n"
   ]
  },
  {
   "cell_type": "code",
   "execution_count": 4,
   "metadata": {},
   "outputs": [
    {
     "name": "stdout",
     "output_type": "stream",
     "text": [
      "[0. 0. 0. 0. 0.]\n",
      "float64\n",
      "8\n",
      "(5,)\n"
     ]
    }
   ],
   "source": [
    "import numpy as np\n",
    "z = np.zeros(5)\n",
    "print(z)\n",
    "print(z.dtype)\n",
    "print(z.itemsize)\n",
    "print(z.shape)"
   ]
  },
  {
   "cell_type": "code",
   "execution_count": 7,
   "metadata": {},
   "outputs": [
    {
     "name": "stdout",
     "output_type": "stream",
     "text": [
      "[[1. 1. 1. 1.]\n",
      " [1. 1. 1. 1.]\n",
      " [1. 1. 1. 1.]\n",
      " [1. 1. 1. 1.]\n",
      " [1. 1. 1. 1.]]\n"
     ]
    }
   ],
   "source": [
    "o = np.ones((5,4))\n",
    "print(o)"
   ]
  },
  {
   "cell_type": "code",
   "execution_count": 11,
   "metadata": {},
   "outputs": [
    {
     "name": "stdout",
     "output_type": "stream",
     "text": [
      "[[ 1  2  3  4  5]\n",
      " [ 6  7  8  9 10]\n",
      " [11 12 13 14 15]\n",
      " [16 17 18 19 20]]\n",
      "shape of the above matrix(m) - (4, 5)\n"
     ]
    }
   ],
   "source": [
    "m = np.array([[1,2,3,4,5],[6,7,8,9,10],[11,12,13,14,15],[16,17,18,19,20]])\n",
    "print(m)\n",
    "print(f'shape of the above matrix(m) - {m.shape}')"
   ]
  },
  {
   "cell_type": "code",
   "execution_count": 18,
   "metadata": {},
   "outputs": [
    {
     "name": "stdout",
     "output_type": "stream",
     "text": [
      "Multiplying all the number with 10:\n",
      " [[ 10  20  30  40  50]\n",
      " [ 60  70  80  90 100]\n",
      " [110 120 130 140 150]\n",
      " [160 170 180 190 200]]\n"
     ]
    }
   ],
   "source": [
    "mul_ten = m*10\n",
    "print(f'Multiplying all the number with 10:\\n {mul_ten}')"
   ]
  },
  {
   "cell_type": "code",
   "execution_count": 21,
   "metadata": {},
   "outputs": [
    {
     "name": "stdout",
     "output_type": "stream",
     "text": [
      "[ 1  3  5  7  9 11 13 15 17 19]\n"
     ]
    }
   ],
   "source": [
    "od = (m [m%2 == 1])\n",
    "print(od)"
   ]
  },
  {
   "cell_type": "code",
   "execution_count": 26,
   "metadata": {},
   "outputs": [
    {
     "name": "stdout",
     "output_type": "stream",
     "text": [
      "[[  1  -2   3  -4   5]\n",
      " [ -6   7  -8   9 -10]\n",
      " [ 11 -12  13 -14  15]\n",
      " [-16  17 -18  19 -20]]\n"
     ]
    }
   ],
   "source": [
    "m[m%2 == 0]*= -1\n",
    "print(m)"
   ]
  },
  {
   "cell_type": "code",
   "execution_count": 59,
   "metadata": {},
   "outputs": [
    {
     "name": "stdout",
     "output_type": "stream",
     "text": [
      "[[ 1.  2.  3.  4.]\n",
      " [ 5.  6.  7.  8.]\n",
      " [ 9. 10. 11. 12.]\n",
      " [13. 14. 15. 16.]]\n",
      "(4, 4)\n"
     ]
    }
   ],
   "source": [
    "M1 = np.linspace(1,16, 16)\n",
    "M1.resize(4,4)\n",
    "print(M1)\n",
    "print(M1.shape)"
   ]
  },
  {
   "cell_type": "code",
   "execution_count": 60,
   "metadata": {},
   "outputs": [
    {
     "name": "stdout",
     "output_type": "stream",
     "text": [
      "[[ 1.  5.  9. 13.]\n",
      " [ 2.  6. 10. 14.]\n",
      " [ 3.  7. 11. 15.]\n",
      " [ 4.  8. 12. 16.]]\n"
     ]
    }
   ],
   "source": [
    "M2 = M1.T\n",
    "print(M2)"
   ]
  },
  {
   "cell_type": "code",
   "execution_count": 61,
   "metadata": {},
   "outputs": [
    {
     "name": "stdout",
     "output_type": "stream",
     "text": [
      "[[ 2.  7. 12. 17.]\n",
      " [ 7. 12. 17. 22.]\n",
      " [12. 17. 22. 27.]\n",
      " [17. 22. 27. 32.]]\n"
     ]
    }
   ],
   "source": [
    "M3 = M1 + M2\n",
    "print(M3)"
   ]
  },
  {
   "cell_type": "code",
   "execution_count": 64,
   "metadata": {},
   "outputs": [
    {
     "name": "stdout",
     "output_type": "stream",
     "text": [
      "[[ 2.  7. 12. 17.]\n",
      " [ 7. 12. 17. 22.]\n",
      " [12. 17. 22. 27.]\n",
      " [17. 22. 27. 32.]]\n",
      "--------------\n",
      "[[ 2.  7. 12. 17.]\n",
      " [ 7. 12. 17. 22.]\n",
      " [12. 17. 22. 27.]\n",
      " [17. 22. 27. 32.]]\n",
      "--------------\n",
      "[[ True  True  True  True]\n",
      " [ True  True  True  True]\n",
      " [ True  True  True  True]\n",
      " [ True  True  True  True]]\n"
     ]
    }
   ],
   "source": [
    "MT1 = M3.T\n",
    "print(MT1)\n",
    "print('--'*7)\n",
    "print(M3)\n",
    "print('--'*7)\n",
    "print(MT1 == M3)"
   ]
  },
  {
   "cell_type": "code",
   "execution_count": 65,
   "metadata": {},
   "outputs": [
    {
     "name": "stdout",
     "output_type": "stream",
     "text": [
      "[[ 0. -3. -6. -9.]\n",
      " [ 3.  0. -3. -6.]\n",
      " [ 6.  3.  0. -3.]\n",
      " [ 9.  6.  3.  0.]]\n"
     ]
    }
   ],
   "source": [
    "M4 = M1 - M2\n",
    "print(M4)"
   ]
  },
  {
   "cell_type": "code",
   "execution_count": 66,
   "metadata": {},
   "outputs": [
    {
     "name": "stdout",
     "output_type": "stream",
     "text": [
      "[[ 0.  3.  6.  9.]\n",
      " [-3.  0.  3.  6.]\n",
      " [-6. -3.  0.  3.]\n",
      " [-9. -6. -3.  0.]]\n"
     ]
    }
   ],
   "source": [
    "MT2 = M4.T\n",
    "print(MT2)"
   ]
  },
  {
   "cell_type": "code",
   "execution_count": 69,
   "metadata": {},
   "outputs": [
    {
     "name": "stdout",
     "output_type": "stream",
     "text": [
      "[[ 0. -3. -6. -9.]\n",
      " [ 3.  0. -3. -6.]\n",
      " [ 6.  3.  0. -3.]\n",
      " [ 9.  6.  3.  0.]]\n",
      "--------------\n",
      "[[ 0.  3.  6.  9.]\n",
      " [-3.  0.  3.  6.]\n",
      " [-6. -3.  0.  3.]\n",
      " [-9. -6. -3.  0.]]\n",
      "--------------\n",
      "[[ True False False False]\n",
      " [False  True False False]\n",
      " [False False  True False]\n",
      " [False False False  True]]\n",
      "--------------\n",
      "[[ True  True  True  True]\n",
      " [ True  True  True  True]\n",
      " [ True  True  True  True]\n",
      " [ True  True  True  True]]\n"
     ]
    }
   ],
   "source": [
    "print(M4)\n",
    "print('--'*7)\n",
    "print(MT2)\n",
    "print('--'*7)\n",
    "print(M4 == MT2)\n",
    "print('--'*7)\n",
    "print(M4 == -MT2)"
   ]
  },
  {
   "cell_type": "code",
   "execution_count": 108,
   "metadata": {},
   "outputs": [
    {
     "data": {
      "text/plain": [
       "array([[27, 14, 28, 13],\n",
       "       [17, 11, 33, 23],\n",
       "       [10, 35, 17, 32]])"
      ]
     },
     "execution_count": 108,
     "metadata": {},
     "output_type": "execute_result"
    }
   ],
   "source": [
    "R1 = np.random.randint(10, 40, 12).reshape(3, 4)\n",
    "R1"
   ]
  },
  {
   "cell_type": "code",
   "execution_count": 109,
   "metadata": {},
   "outputs": [
    {
     "name": "stdout",
     "output_type": "stream",
     "text": [
      "[10 11 17 13]\n"
     ]
    }
   ],
   "source": [
    "print(R1.min(axis = 0))"
   ]
  },
  {
   "cell_type": "code",
   "execution_count": 110,
   "metadata": {},
   "outputs": [
    {
     "name": "stdout",
     "output_type": "stream",
     "text": [
      "[27 35 33 32]\n"
     ]
    }
   ],
   "source": [
    "print(R1.max(axis = 0))"
   ]
  },
  {
   "cell_type": "code",
   "execution_count": 111,
   "metadata": {},
   "outputs": [
    {
     "name": "stdout",
     "output_type": "stream",
     "text": [
      "[54 60 78 68]\n",
      "----------\n",
      "[[27 14 28 13]\n",
      " [17 11 33 23]\n",
      " [10 35 17 32]]\n",
      "----------\n",
      "[[27 14 28 54]\n",
      " [17 11 33 60]\n",
      " [10 35 17 78]]\n"
     ]
    }
   ],
   "source": [
    "s = R1.sum(axis = 0)\n",
    "print(s)\n",
    "print('-'*10)\n",
    "print(R1)\n",
    "print('-'*10)\n",
    "R1[:, 3] = s[:3]\n",
    "print(R1)"
   ]
  },
  {
   "cell_type": "code",
   "execution_count": 145,
   "metadata": {},
   "outputs": [
    {
     "name": "stdout",
     "output_type": "stream",
     "text": [
      "[[22. 15. 11. 30.]\n",
      " [16. 33. 26. 18.]\n",
      " [15. 22. 29. 39.]]\n",
      "float64\n"
     ]
    }
   ],
   "source": [
    "R1 = np.random.randint(10, 40, 12).reshape(3, 4).astype(float) #as we cannot add nan to integers!\n",
    "print(R1)\n",
    "print(R1.dtype)"
   ]
  },
  {
   "cell_type": "code",
   "execution_count": 146,
   "metadata": {},
   "outputs": [
    {
     "name": "stdout",
     "output_type": "stream",
     "text": [
      "[[nan 15. 11. nan]\n",
      " [nan 33. nan nan]\n",
      " [15. nan 29. 39.]]\n"
     ]
    }
   ],
   "source": [
    "R1[R1%2 == 0] = np.nan\n",
    "print(R1)"
   ]
  },
  {
   "cell_type": "code",
   "execution_count": 147,
   "metadata": {},
   "outputs": [
    {
     "name": "stdout",
     "output_type": "stream",
     "text": [
      "Total count of nan in R1 - 6\n"
     ]
    }
   ],
   "source": [
    "print(f'Total count of nan in R1 - {(np.isnan(R1)).sum()}')"
   ]
  },
  {
   "cell_type": "code",
   "execution_count": 154,
   "metadata": {},
   "outputs": [
    {
     "name": "stdout",
     "output_type": "stream",
     "text": [
      "[[1 2 3]\n",
      " [4 5 6]\n",
      " [7 8 9]]\n",
      "(3, 3)\n",
      "[[11 12 13]\n",
      " [14 15 16]\n",
      " [17 18 19]]\n",
      "(3, 3)\n",
      "[ 1  2  3  4  5  6  7  8  9 11 12 13 14 15 16 17 18 19]\n",
      "(18,)\n"
     ]
    }
   ],
   "source": [
    "a1 = np.arange(1,10).reshape(3,3)\n",
    "print(a1)\n",
    "print(a1.shape)\n",
    "a2 = np.arange(11,20).reshape(3,3)\n",
    "print(a2)\n",
    "print(a2.shape)\n",
    "a3 = np.append(a1,a2) # append without axis is directly appending like list append.\n",
    "print(a3)\n",
    "print(a3.shape)"
   ]
  },
  {
   "cell_type": "code",
   "execution_count": 156,
   "metadata": {},
   "outputs": [
    {
     "name": "stdout",
     "output_type": "stream",
     "text": [
      "[[ 1  2  3]\n",
      " [ 4  5  6]\n",
      " [ 7  8  9]\n",
      " [11 12 13]\n",
      " [14 15 16]\n",
      " [17 18 19]]\n",
      "(6, 3)\n"
     ]
    }
   ],
   "source": [
    "a3 = np.append(a1,a2, axis = 0) # axis=0 , appends as rows\n",
    "print(a3)\n",
    "print(a3.shape)"
   ]
  },
  {
   "cell_type": "code",
   "execution_count": 155,
   "metadata": {},
   "outputs": [
    {
     "name": "stdout",
     "output_type": "stream",
     "text": [
      "[[ 1  2  3 11 12 13]\n",
      " [ 4  5  6 14 15 16]\n",
      " [ 7  8  9 17 18 19]]\n",
      "(3, 6)\n"
     ]
    }
   ],
   "source": [
    "a3 = np.append(a1,a2, axis = 1) # axis=1 , appends as columns\n",
    "print(a3)\n",
    "print(a3.shape)"
   ]
  }
 ],
 "metadata": {
  "kernelspec": {
   "display_name": "Python 3",
   "language": "python",
   "name": "python3"
  },
  "language_info": {
   "codemirror_mode": {
    "name": "ipython",
    "version": 3
   },
   "file_extension": ".py",
   "mimetype": "text/x-python",
   "name": "python",
   "nbconvert_exporter": "python",
   "pygments_lexer": "ipython3",
   "version": "3.7.1"
  }
 },
 "nbformat": 4,
 "nbformat_minor": 2
}
