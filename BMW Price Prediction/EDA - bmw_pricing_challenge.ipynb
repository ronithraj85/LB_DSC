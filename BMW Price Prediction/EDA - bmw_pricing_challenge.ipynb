{
 "cells": [
  {
   "cell_type": "code",
   "execution_count": 2,
   "metadata": {},
   "outputs": [],
   "source": [
    "import pandas as pd\n",
    "import numpy as np\n",
    "import seaborn as sns\n",
    "import matplotlib.pyplot as plt\n",
    "import warnings\n",
    "from statistics import median\n",
    "from scipy.stats import iqr\n",
    "\n",
    "pd.set_option('display.max_columns', None)\n",
    "warnings.filterwarnings('ignore')"
   ]
  },
  {
   "cell_type": "markdown",
   "metadata": {},
   "source": [
    "### Problem statement - bmw car price prediction model (best possible features for good predictive model)\n",
    "     - engine_capacity\n",
    "     - types of fuel (diesel cars are costly; )\n",
    "     - color /paint of the car\n",
    "     - no. of seaters\n",
    "     - mileage \n",
    "     - model type\n",
    "     - safety features (low/medium/large)\n",
    "     - date of selling (seasonality)\n",
    "     - IsAutomative (yes/no)\n",
    "     - \n",
    "     --- second hand cars\n",
    "     - distance travelled \n",
    "     - mileage \n",
    "     - age of the car\n",
    "     - warrenty flag\n",
    "     - insurance flag\n",
    "     - condition (poor/ok/good)"
   ]
  },
  {
   "cell_type": "code",
   "execution_count": 3,
   "metadata": {},
   "outputs": [
    {
     "name": "stdout",
     "output_type": "stream",
     "text": [
      "(4843, 18)\n",
      "<class 'pandas.core.frame.DataFrame'>\n",
      "RangeIndex: 4843 entries, 0 to 4842\n",
      "Data columns (total 18 columns):\n",
      " #   Column             Non-Null Count  Dtype \n",
      "---  ------             --------------  ----- \n",
      " 0   maker_key          4843 non-null   object\n",
      " 1   model_key          4843 non-null   object\n",
      " 2   mileage            4843 non-null   int64 \n",
      " 3   engine_power       4843 non-null   int64 \n",
      " 4   registration_date  4843 non-null   object\n",
      " 5   fuel               4843 non-null   object\n",
      " 6   paint_color        4843 non-null   object\n",
      " 7   car_type           4843 non-null   object\n",
      " 8   feature_1          4843 non-null   bool  \n",
      " 9   feature_2          4843 non-null   bool  \n",
      " 10  feature_3          4843 non-null   bool  \n",
      " 11  feature_4          4843 non-null   bool  \n",
      " 12  feature_5          4843 non-null   bool  \n",
      " 13  feature_6          4843 non-null   bool  \n",
      " 14  feature_7          4843 non-null   bool  \n",
      " 15  feature_8          4843 non-null   bool  \n",
      " 16  price              4843 non-null   int64 \n",
      " 17  sold_at            4843 non-null   object\n",
      "dtypes: bool(8), int64(3), object(7)\n",
      "memory usage: 416.3+ KB\n"
     ]
    }
   ],
   "source": [
    "df = pd.read_csv('bmw_pricing_challenge.csv')\n",
    "print(df.shape)\n",
    "df.info()"
   ]
  },
  {
   "cell_type": "code",
   "execution_count": 4,
   "metadata": {},
   "outputs": [
    {
     "data": {
      "text/html": [
       "<div>\n",
       "<style scoped>\n",
       "    .dataframe tbody tr th:only-of-type {\n",
       "        vertical-align: middle;\n",
       "    }\n",
       "\n",
       "    .dataframe tbody tr th {\n",
       "        vertical-align: top;\n",
       "    }\n",
       "\n",
       "    .dataframe thead th {\n",
       "        text-align: right;\n",
       "    }\n",
       "</style>\n",
       "<table border=\"1\" class=\"dataframe\">\n",
       "  <thead>\n",
       "    <tr style=\"text-align: right;\">\n",
       "      <th></th>\n",
       "      <th>maker_key</th>\n",
       "      <th>model_key</th>\n",
       "      <th>mileage</th>\n",
       "      <th>engine_power</th>\n",
       "      <th>registration_date</th>\n",
       "      <th>fuel</th>\n",
       "      <th>paint_color</th>\n",
       "      <th>car_type</th>\n",
       "      <th>feature_1</th>\n",
       "      <th>feature_2</th>\n",
       "      <th>feature_3</th>\n",
       "      <th>feature_4</th>\n",
       "      <th>feature_5</th>\n",
       "      <th>feature_6</th>\n",
       "      <th>feature_7</th>\n",
       "      <th>feature_8</th>\n",
       "      <th>price</th>\n",
       "      <th>sold_at</th>\n",
       "    </tr>\n",
       "  </thead>\n",
       "  <tbody>\n",
       "    <tr>\n",
       "      <th>0</th>\n",
       "      <td>BMW</td>\n",
       "      <td>118</td>\n",
       "      <td>140411</td>\n",
       "      <td>100</td>\n",
       "      <td>01-02-2012</td>\n",
       "      <td>diesel</td>\n",
       "      <td>black</td>\n",
       "      <td>convertible</td>\n",
       "      <td>True</td>\n",
       "      <td>True</td>\n",
       "      <td>False</td>\n",
       "      <td>False</td>\n",
       "      <td>True</td>\n",
       "      <td>True</td>\n",
       "      <td>True</td>\n",
       "      <td>False</td>\n",
       "      <td>11300</td>\n",
       "      <td>01-01-2018</td>\n",
       "    </tr>\n",
       "    <tr>\n",
       "      <th>1</th>\n",
       "      <td>BMW</td>\n",
       "      <td>M4</td>\n",
       "      <td>13929</td>\n",
       "      <td>317</td>\n",
       "      <td>01-04-2016</td>\n",
       "      <td>petrol</td>\n",
       "      <td>grey</td>\n",
       "      <td>convertible</td>\n",
       "      <td>True</td>\n",
       "      <td>True</td>\n",
       "      <td>False</td>\n",
       "      <td>False</td>\n",
       "      <td>False</td>\n",
       "      <td>True</td>\n",
       "      <td>True</td>\n",
       "      <td>True</td>\n",
       "      <td>69700</td>\n",
       "      <td>01-02-2018</td>\n",
       "    </tr>\n",
       "    <tr>\n",
       "      <th>2</th>\n",
       "      <td>BMW</td>\n",
       "      <td>320</td>\n",
       "      <td>183297</td>\n",
       "      <td>120</td>\n",
       "      <td>01-04-2012</td>\n",
       "      <td>diesel</td>\n",
       "      <td>white</td>\n",
       "      <td>convertible</td>\n",
       "      <td>False</td>\n",
       "      <td>False</td>\n",
       "      <td>False</td>\n",
       "      <td>False</td>\n",
       "      <td>True</td>\n",
       "      <td>False</td>\n",
       "      <td>True</td>\n",
       "      <td>False</td>\n",
       "      <td>10200</td>\n",
       "      <td>01-02-2018</td>\n",
       "    </tr>\n",
       "    <tr>\n",
       "      <th>3</th>\n",
       "      <td>BMW</td>\n",
       "      <td>420</td>\n",
       "      <td>128035</td>\n",
       "      <td>135</td>\n",
       "      <td>01-07-2014</td>\n",
       "      <td>diesel</td>\n",
       "      <td>red</td>\n",
       "      <td>convertible</td>\n",
       "      <td>True</td>\n",
       "      <td>True</td>\n",
       "      <td>False</td>\n",
       "      <td>False</td>\n",
       "      <td>True</td>\n",
       "      <td>True</td>\n",
       "      <td>True</td>\n",
       "      <td>True</td>\n",
       "      <td>25100</td>\n",
       "      <td>01-02-2018</td>\n",
       "    </tr>\n",
       "    <tr>\n",
       "      <th>4</th>\n",
       "      <td>BMW</td>\n",
       "      <td>425</td>\n",
       "      <td>97097</td>\n",
       "      <td>160</td>\n",
       "      <td>01-12-2014</td>\n",
       "      <td>diesel</td>\n",
       "      <td>silver</td>\n",
       "      <td>convertible</td>\n",
       "      <td>True</td>\n",
       "      <td>True</td>\n",
       "      <td>False</td>\n",
       "      <td>False</td>\n",
       "      <td>False</td>\n",
       "      <td>True</td>\n",
       "      <td>True</td>\n",
       "      <td>True</td>\n",
       "      <td>33400</td>\n",
       "      <td>01-04-2018</td>\n",
       "    </tr>\n",
       "  </tbody>\n",
       "</table>\n",
       "</div>"
      ],
      "text/plain": [
       "  maker_key model_key  mileage  engine_power registration_date    fuel  \\\n",
       "0       BMW       118   140411           100        01-02-2012  diesel   \n",
       "1       BMW        M4    13929           317        01-04-2016  petrol   \n",
       "2       BMW       320   183297           120        01-04-2012  diesel   \n",
       "3       BMW       420   128035           135        01-07-2014  diesel   \n",
       "4       BMW       425    97097           160        01-12-2014  diesel   \n",
       "\n",
       "  paint_color     car_type  feature_1  feature_2  feature_3  feature_4  \\\n",
       "0       black  convertible       True       True      False      False   \n",
       "1        grey  convertible       True       True      False      False   \n",
       "2       white  convertible      False      False      False      False   \n",
       "3         red  convertible       True       True      False      False   \n",
       "4      silver  convertible       True       True      False      False   \n",
       "\n",
       "   feature_5  feature_6  feature_7  feature_8  price     sold_at  \n",
       "0       True       True       True      False  11300  01-01-2018  \n",
       "1      False       True       True       True  69700  01-02-2018  \n",
       "2       True      False       True      False  10200  01-02-2018  \n",
       "3       True       True       True       True  25100  01-02-2018  \n",
       "4      False       True       True       True  33400  01-04-2018  "
      ]
     },
     "execution_count": 4,
     "metadata": {},
     "output_type": "execute_result"
    }
   ],
   "source": [
    "df.head()"
   ]
  },
  {
   "cell_type": "code",
   "execution_count": 5,
   "metadata": {},
   "outputs": [],
   "source": [
    "# column1 -> 1 to 100 (missing values)\n",
    "# col1 -> 50 ; col2 -> 100 - 500\n",
    "# col1 -> NA ; col2 -> 450\n",
    "# column2  -> 1 to 1000 (no missing values)"
   ]
  },
  {
   "cell_type": "markdown",
   "metadata": {},
   "source": [
    "### EDA\n",
    "- duplicates check\n",
    "#### univariate analysis\n",
    "    - missing?\n",
    "    - Encoding \n",
    "    - feature engineering \n",
    "    - outliers?\n",
    "#### bivariate analysis\n",
    "    - correlation coefficient \n",
    "    "
   ]
  },
  {
   "cell_type": "code",
   "execution_count": 6,
   "metadata": {},
   "outputs": [
    {
     "data": {
      "text/plain": [
       "0"
      ]
     },
     "execution_count": 6,
     "metadata": {},
     "output_type": "execute_result"
    }
   ],
   "source": [
    "## duplicate check\n",
    "df.duplicated().sum()"
   ]
  },
  {
   "cell_type": "code",
   "execution_count": 7,
   "metadata": {},
   "outputs": [
    {
     "data": {
      "text/plain": [
       "array(['BMW'], dtype=object)"
      ]
     },
     "execution_count": 7,
     "metadata": {},
     "output_type": "execute_result"
    }
   ],
   "source": [
    "df.maker_key.unique()"
   ]
  },
  {
   "cell_type": "code",
   "execution_count": 8,
   "metadata": {},
   "outputs": [
    {
     "data": {
      "text/plain": [
       "0"
      ]
     },
     "execution_count": 8,
     "metadata": {},
     "output_type": "execute_result"
    }
   ],
   "source": [
    "df.duplicated(['model_key', 'mileage', 'engine_power',\n",
    "       'registration_date', 'fuel', 'paint_color', 'car_type', 'feature_1',\n",
    "       'feature_2', 'feature_3', 'feature_4', 'feature_5', 'feature_6',\n",
    "       'feature_7', 'feature_8', 'price', 'sold_at']).sum()"
   ]
  },
  {
   "cell_type": "code",
   "execution_count": 9,
   "metadata": {},
   "outputs": [
    {
     "data": {
      "text/plain": [
       "maker_key            0\n",
       "model_key            0\n",
       "mileage              0\n",
       "engine_power         0\n",
       "registration_date    0\n",
       "fuel                 0\n",
       "paint_color          0\n",
       "car_type             0\n",
       "feature_1            0\n",
       "feature_2            0\n",
       "feature_3            0\n",
       "feature_4            0\n",
       "feature_5            0\n",
       "feature_6            0\n",
       "feature_7            0\n",
       "feature_8            0\n",
       "price                0\n",
       "sold_at              0\n",
       "dtype: int64"
      ]
     },
     "execution_count": 9,
     "metadata": {},
     "output_type": "execute_result"
    }
   ],
   "source": [
    "### missing values handling\n",
    "df.isnull().sum()"
   ]
  },
  {
   "cell_type": "markdown",
   "metadata": {},
   "source": [
    "    - if missing values, should we drop them or handle them?\n",
    "    - column wise\n",
    "        - if drop? if a column has >= 70% of the values missing - drop the column\n",
    "        - if a column has missing values < 70 % \n",
    "            - missing ~ (5-10%) \n",
    "            - missing ~ (40 - 50%)\n",
    "            - missing ~ (60 - 70%) \n",
    "             - filling with central tendancy metrics(mean/median/mode), predicitve imputation, correlation imputation, fill with random values between +- 2 standard deviations from mean/median\n",
    "\n",
    "    - row wise\n",
    "        - if a column has 5% missing values, don't drop column but drop all those rows\n",
    "        - 100 rows (classes 0/1 where (0) 95 rows, (1) 5 rows) (Imbalanced dataset -> minority class and majority class)\n",
    "            index  col    target\n",
    "            0       NA     1\n",
    "            1       50     0\n",
    "            2       NA     0\n",
    "            3       NA     1\n",
    "            4       69     1\n",
    "            5       70     0"
   ]
  },
  {
   "cell_type": "code",
   "execution_count": 10,
   "metadata": {},
   "outputs": [],
   "source": [
    "# # predicitve imputation\n",
    "# 10 columns 100 rows\n",
    "# 9 columns + 10th column (missing values)\n",
    "# out of 100 rows (75 rows have certain values and 25 rows have missing values)\n",
    "# build a model on (75 rows+9 columns, target-> 10th columns  )"
   ]
  },
  {
   "cell_type": "markdown",
   "metadata": {},
   "source": [
    "## Encoding \n",
    " - OHE (usage: nominal)\n",
    " - Label Encoding (usage: ordinal, range, intervals )   "
   ]
  },
  {
   "cell_type": "code",
   "execution_count": 11,
   "metadata": {},
   "outputs": [
    {
     "name": "stdout",
     "output_type": "stream",
     "text": [
      "feature_1 [ True False]\n",
      "feature_2 [ True False]\n",
      "feature_3 [False  True]\n",
      "feature_4 [False  True]\n",
      "feature_5 [ True False]\n",
      "feature_6 [ True False]\n",
      "feature_7 [ True False]\n",
      "feature_8 [False  True]\n"
     ]
    }
   ],
   "source": [
    "bool_f = df.select_dtypes('boolean').columns\n",
    "\n",
    "for col in bool_f:\n",
    "    print(col, df[col].unique())"
   ]
  },
  {
   "cell_type": "code",
   "execution_count": 12,
   "metadata": {},
   "outputs": [],
   "source": [
    "for col in bool_f:\n",
    "    df[col] = df[col].apply(lambda x: 1 if x==True else 0)"
   ]
  },
  {
   "cell_type": "code",
   "execution_count": 13,
   "metadata": {},
   "outputs": [
    {
     "data": {
      "text/html": [
       "<div>\n",
       "<style scoped>\n",
       "    .dataframe tbody tr th:only-of-type {\n",
       "        vertical-align: middle;\n",
       "    }\n",
       "\n",
       "    .dataframe tbody tr th {\n",
       "        vertical-align: top;\n",
       "    }\n",
       "\n",
       "    .dataframe thead th {\n",
       "        text-align: right;\n",
       "    }\n",
       "</style>\n",
       "<table border=\"1\" class=\"dataframe\">\n",
       "  <thead>\n",
       "    <tr style=\"text-align: right;\">\n",
       "      <th></th>\n",
       "      <th>feature_1</th>\n",
       "      <th>feature_2</th>\n",
       "      <th>feature_3</th>\n",
       "      <th>feature_4</th>\n",
       "      <th>feature_5</th>\n",
       "      <th>feature_6</th>\n",
       "      <th>feature_7</th>\n",
       "      <th>feature_8</th>\n",
       "    </tr>\n",
       "  </thead>\n",
       "  <tbody>\n",
       "    <tr>\n",
       "      <th>0</th>\n",
       "      <td>1</td>\n",
       "      <td>1</td>\n",
       "      <td>0</td>\n",
       "      <td>0</td>\n",
       "      <td>1</td>\n",
       "      <td>1</td>\n",
       "      <td>1</td>\n",
       "      <td>0</td>\n",
       "    </tr>\n",
       "    <tr>\n",
       "      <th>1</th>\n",
       "      <td>1</td>\n",
       "      <td>1</td>\n",
       "      <td>0</td>\n",
       "      <td>0</td>\n",
       "      <td>0</td>\n",
       "      <td>1</td>\n",
       "      <td>1</td>\n",
       "      <td>1</td>\n",
       "    </tr>\n",
       "    <tr>\n",
       "      <th>2</th>\n",
       "      <td>0</td>\n",
       "      <td>0</td>\n",
       "      <td>0</td>\n",
       "      <td>0</td>\n",
       "      <td>1</td>\n",
       "      <td>0</td>\n",
       "      <td>1</td>\n",
       "      <td>0</td>\n",
       "    </tr>\n",
       "    <tr>\n",
       "      <th>3</th>\n",
       "      <td>1</td>\n",
       "      <td>1</td>\n",
       "      <td>0</td>\n",
       "      <td>0</td>\n",
       "      <td>1</td>\n",
       "      <td>1</td>\n",
       "      <td>1</td>\n",
       "      <td>1</td>\n",
       "    </tr>\n",
       "    <tr>\n",
       "      <th>4</th>\n",
       "      <td>1</td>\n",
       "      <td>1</td>\n",
       "      <td>0</td>\n",
       "      <td>0</td>\n",
       "      <td>0</td>\n",
       "      <td>1</td>\n",
       "      <td>1</td>\n",
       "      <td>1</td>\n",
       "    </tr>\n",
       "    <tr>\n",
       "      <th>...</th>\n",
       "      <td>...</td>\n",
       "      <td>...</td>\n",
       "      <td>...</td>\n",
       "      <td>...</td>\n",
       "      <td>...</td>\n",
       "      <td>...</td>\n",
       "      <td>...</td>\n",
       "      <td>...</td>\n",
       "    </tr>\n",
       "    <tr>\n",
       "      <th>4838</th>\n",
       "      <td>0</td>\n",
       "      <td>1</td>\n",
       "      <td>0</td>\n",
       "      <td>0</td>\n",
       "      <td>0</td>\n",
       "      <td>0</td>\n",
       "      <td>1</td>\n",
       "      <td>0</td>\n",
       "    </tr>\n",
       "    <tr>\n",
       "      <th>4839</th>\n",
       "      <td>0</td>\n",
       "      <td>1</td>\n",
       "      <td>0</td>\n",
       "      <td>0</td>\n",
       "      <td>0</td>\n",
       "      <td>0</td>\n",
       "      <td>1</td>\n",
       "      <td>1</td>\n",
       "    </tr>\n",
       "    <tr>\n",
       "      <th>4840</th>\n",
       "      <td>0</td>\n",
       "      <td>1</td>\n",
       "      <td>0</td>\n",
       "      <td>0</td>\n",
       "      <td>0</td>\n",
       "      <td>0</td>\n",
       "      <td>1</td>\n",
       "      <td>1</td>\n",
       "    </tr>\n",
       "    <tr>\n",
       "      <th>4841</th>\n",
       "      <td>1</td>\n",
       "      <td>1</td>\n",
       "      <td>0</td>\n",
       "      <td>0</td>\n",
       "      <td>0</td>\n",
       "      <td>0</td>\n",
       "      <td>1</td>\n",
       "      <td>1</td>\n",
       "    </tr>\n",
       "    <tr>\n",
       "      <th>4842</th>\n",
       "      <td>1</td>\n",
       "      <td>1</td>\n",
       "      <td>0</td>\n",
       "      <td>0</td>\n",
       "      <td>1</td>\n",
       "      <td>0</td>\n",
       "      <td>1</td>\n",
       "      <td>1</td>\n",
       "    </tr>\n",
       "  </tbody>\n",
       "</table>\n",
       "<p>4843 rows × 8 columns</p>\n",
       "</div>"
      ],
      "text/plain": [
       "      feature_1  feature_2  feature_3  feature_4  feature_5  feature_6  \\\n",
       "0             1          1          0          0          1          1   \n",
       "1             1          1          0          0          0          1   \n",
       "2             0          0          0          0          1          0   \n",
       "3             1          1          0          0          1          1   \n",
       "4             1          1          0          0          0          1   \n",
       "...         ...        ...        ...        ...        ...        ...   \n",
       "4838          0          1          0          0          0          0   \n",
       "4839          0          1          0          0          0          0   \n",
       "4840          0          1          0          0          0          0   \n",
       "4841          1          1          0          0          0          0   \n",
       "4842          1          1          0          0          1          0   \n",
       "\n",
       "      feature_7  feature_8  \n",
       "0             1          0  \n",
       "1             1          1  \n",
       "2             1          0  \n",
       "3             1          1  \n",
       "4             1          1  \n",
       "...         ...        ...  \n",
       "4838          1          0  \n",
       "4839          1          1  \n",
       "4840          1          1  \n",
       "4841          1          1  \n",
       "4842          1          1  \n",
       "\n",
       "[4843 rows x 8 columns]"
      ]
     },
     "execution_count": 13,
     "metadata": {},
     "output_type": "execute_result"
    }
   ],
   "source": [
    "df[bool_f]"
   ]
  },
  {
   "cell_type": "code",
   "execution_count": 14,
   "metadata": {},
   "outputs": [],
   "source": [
    "categorical_f = df.select_dtypes('object').columns"
   ]
  },
  {
   "cell_type": "code",
   "execution_count": 15,
   "metadata": {},
   "outputs": [],
   "source": [
    "categorical_f = [ 'model_key', 'fuel', 'paint_color','car_type']"
   ]
  },
  {
   "cell_type": "code",
   "execution_count": 16,
   "metadata": {},
   "outputs": [
    {
     "data": {
      "text/html": [
       "<div>\n",
       "<style scoped>\n",
       "    .dataframe tbody tr th:only-of-type {\n",
       "        vertical-align: middle;\n",
       "    }\n",
       "\n",
       "    .dataframe tbody tr th {\n",
       "        vertical-align: top;\n",
       "    }\n",
       "\n",
       "    .dataframe thead th {\n",
       "        text-align: right;\n",
       "    }\n",
       "</style>\n",
       "<table border=\"1\" class=\"dataframe\">\n",
       "  <thead>\n",
       "    <tr style=\"text-align: right;\">\n",
       "      <th></th>\n",
       "      <th>model_key</th>\n",
       "      <th>fuel</th>\n",
       "      <th>paint_color</th>\n",
       "      <th>car_type</th>\n",
       "    </tr>\n",
       "  </thead>\n",
       "  <tbody>\n",
       "    <tr>\n",
       "      <th>0</th>\n",
       "      <td>118</td>\n",
       "      <td>diesel</td>\n",
       "      <td>black</td>\n",
       "      <td>convertible</td>\n",
       "    </tr>\n",
       "    <tr>\n",
       "      <th>1</th>\n",
       "      <td>M4</td>\n",
       "      <td>petrol</td>\n",
       "      <td>grey</td>\n",
       "      <td>convertible</td>\n",
       "    </tr>\n",
       "    <tr>\n",
       "      <th>2</th>\n",
       "      <td>320</td>\n",
       "      <td>diesel</td>\n",
       "      <td>white</td>\n",
       "      <td>convertible</td>\n",
       "    </tr>\n",
       "    <tr>\n",
       "      <th>3</th>\n",
       "      <td>420</td>\n",
       "      <td>diesel</td>\n",
       "      <td>red</td>\n",
       "      <td>convertible</td>\n",
       "    </tr>\n",
       "    <tr>\n",
       "      <th>4</th>\n",
       "      <td>425</td>\n",
       "      <td>diesel</td>\n",
       "      <td>silver</td>\n",
       "      <td>convertible</td>\n",
       "    </tr>\n",
       "    <tr>\n",
       "      <th>...</th>\n",
       "      <td>...</td>\n",
       "      <td>...</td>\n",
       "      <td>...</td>\n",
       "      <td>...</td>\n",
       "    </tr>\n",
       "    <tr>\n",
       "      <th>4838</th>\n",
       "      <td>218 Gran Tourer</td>\n",
       "      <td>diesel</td>\n",
       "      <td>black</td>\n",
       "      <td>van</td>\n",
       "    </tr>\n",
       "    <tr>\n",
       "      <th>4839</th>\n",
       "      <td>218 Active Tourer</td>\n",
       "      <td>diesel</td>\n",
       "      <td>grey</td>\n",
       "      <td>van</td>\n",
       "    </tr>\n",
       "    <tr>\n",
       "      <th>4840</th>\n",
       "      <td>218 Gran Tourer</td>\n",
       "      <td>diesel</td>\n",
       "      <td>grey</td>\n",
       "      <td>van</td>\n",
       "    </tr>\n",
       "    <tr>\n",
       "      <th>4841</th>\n",
       "      <td>218 Active Tourer</td>\n",
       "      <td>diesel</td>\n",
       "      <td>brown</td>\n",
       "      <td>van</td>\n",
       "    </tr>\n",
       "    <tr>\n",
       "      <th>4842</th>\n",
       "      <td>525</td>\n",
       "      <td>diesel</td>\n",
       "      <td>grey</td>\n",
       "      <td>van</td>\n",
       "    </tr>\n",
       "  </tbody>\n",
       "</table>\n",
       "<p>4843 rows × 4 columns</p>\n",
       "</div>"
      ],
      "text/plain": [
       "              model_key    fuel paint_color     car_type\n",
       "0                   118  diesel       black  convertible\n",
       "1                    M4  petrol        grey  convertible\n",
       "2                   320  diesel       white  convertible\n",
       "3                   420  diesel         red  convertible\n",
       "4                   425  diesel      silver  convertible\n",
       "...                 ...     ...         ...          ...\n",
       "4838    218 Gran Tourer  diesel       black          van\n",
       "4839  218 Active Tourer  diesel        grey          van\n",
       "4840    218 Gran Tourer  diesel        grey          van\n",
       "4841  218 Active Tourer  diesel       brown          van\n",
       "4842                525  diesel        grey          van\n",
       "\n",
       "[4843 rows x 4 columns]"
      ]
     },
     "execution_count": 16,
     "metadata": {},
     "output_type": "execute_result"
    }
   ],
   "source": [
    "df[categorical_f]"
   ]
  },
  {
   "cell_type": "code",
   "execution_count": 17,
   "metadata": {},
   "outputs": [
    {
     "name": "stdout",
     "output_type": "stream",
     "text": [
      "model_key ['118' 'M4' '320' '420' '425' '335' '325' 'Z4' '120' '220' '650' '135'\n",
      " '218' '318' '430' 'M3' '330' '225' 'M235' '316' '435' '640'\n",
      " '640 Gran Coupé' '435 Gran Coupé' 'i8' '630' '430 Gran Coupé' '635' '520'\n",
      " '525' '530' '535' '320 Gran Turismo' '518' '116' '328' '523' 'X3' 'M550'\n",
      " '528' '325 Gran Turismo' '125' '318 Gran Turismo' '420 Gran Coupé' 'i3'\n",
      " '114' '520 Gran Turismo' '530 Gran Turismo' 'M135' '418 Gran Coupé'\n",
      " '330 Gran Turismo' '335 Gran Turismo' '730' '123' '535 Gran Turismo'\n",
      " '740' '750' 'ActiveHybrid 5' '735' 'M5' 'X5' 'X1' 'X4' 'X6' 'X6 M' 'X5 M'\n",
      " 'X5 M50' '218 Active Tourer' '218 Gran Tourer' '216' '220 Active Tourer'\n",
      " '216 Gran Tourer' '216 Active Tourer' '225 Active Tourer'\n",
      " '214 Gran Tourer'] => 75\n",
      "fuel ['diesel' 'petrol' 'hybrid_petrol' 'electro'] => 4\n",
      "paint_color ['black' 'grey' 'white' 'red' 'silver' 'blue' 'orange' 'beige' 'brown'\n",
      " 'green'] => 10\n",
      "car_type ['convertible' 'coupe' 'estate' 'hatchback' 'sedan' 'subcompact' 'suv'\n",
      " 'van'] => 8\n"
     ]
    }
   ],
   "source": [
    "# distinct values for each categorical features\n",
    "for col in categorical_f:\n",
    "    print(col, df[col].unique(), '=>', df[col].nunique())"
   ]
  },
  {
   "cell_type": "code",
   "execution_count": 18,
   "metadata": {},
   "outputs": [],
   "source": [
    "## if assigns (1,2,3,4) for encoding fuel ; which level should be assigned with what value?\n",
    "# fuel ['diesel' 'petrol' 'hybrid_petrol' 'electro'] [3,2,4,1]"
   ]
  },
  {
   "cell_type": "markdown",
   "metadata": {},
   "source": [
    "#### Encoding 'fuel' types"
   ]
  },
  {
   "cell_type": "code",
   "execution_count": 19,
   "metadata": {},
   "outputs": [
    {
     "data": {
      "image/png": "[encoded data removed]",
      "text/plain": [
       "<Figure size 1080x288 with 2 Axes>"
      ]
     },
     "metadata": {
      "needs_background": "light"
     },
     "output_type": "display_data"
    },
    {
     "data": {
      "image/png": "[encoded data removed]",
      "text/plain": [
       "<Figure size 1080x288 with 2 Axes>"
      ]
     },
     "metadata": {
      "needs_background": "light"
     },
     "output_type": "display_data"
    }
   ],
   "source": [
    "### plot frequency of each of the fuel types and five point summary on price for each fuel type\n",
    "fig, ax = plt.subplots(1,2,figsize = (15,4))\n",
    "sns.countplot(df.fuel, ax = ax[0])\n",
    "sns.boxplot(x ='price',y = 'fuel', data = df, ax = ax[1])\n",
    "plt.show()\n",
    "\n",
    "\n",
    "### get plot normalised metrices on price for each fuel type\n",
    "fuel_PU = []\n",
    "for each in df.fuel.unique():\n",
    "    x = df[df.fuel==each]\n",
    "    fuel_PU.append(median(x['price'])) # getting median\n",
    "\n",
    "fig, ax = plt.subplots(1,2,figsize = (15,4))\n",
    "sns.barplot(fuel_PU, df.fuel.unique(), ax = ax[0])\n",
    "ax[0].set_xlabel('Median Price')\n",
    "# ax[1].set_ylabel('Fuel Type')\n",
    "\n",
    "fuel_PU = []\n",
    "for each in df.fuel.unique():\n",
    "    x = df[df.fuel==each]\n",
    "    fuel_PU.append(np.mean(x['price']))\n",
    "\n",
    "sns.barplot(fuel_PU, df.fuel.unique(), ax = ax[1])\n",
    "ax[1].set_xlabel('Avg. Price')\n",
    "# ax[2].set_ylabel('Fuel Type')\n",
    "\n",
    "plt.show()"
   ]
  },
  {
   "cell_type": "markdown",
   "metadata": {},
   "source": [
    "- Quick observations:\n",
    "    - Median price of hybrid-petrol cars are highest amongst all types, while petrol cars have lowest median price. If median is to be considered as deciding metric then, order of weightage for each fuel types follows:\n",
    "        - {'diesel':2,'petrol':1,'hybrid_petrol':4, 'electro':3}\n",
    "    - Average price for each fuel type suggest weightage as: \n",
    "        - {'diesel':2,'petrol':1,'hybrid_petrol':4, 'electro':3}\n",
    "    - Negligible outliers impact on price by fuel type\n",
    "    - Hence, fuel can be lacoded with the weightage assignment as follows:\n",
    "     - {'diesel':2,'petrol':1,'hybrid_petrol':4, 'electro':3}"
   ]
  },
  {
   "cell_type": "code",
   "execution_count": 20,
   "metadata": {},
   "outputs": [
    {
     "data": {
      "image/png": "[encoded data removed]",
      "text/plain": [
       "<Figure size 1080x288 with 2 Axes>"
      ]
     },
     "metadata": {
      "needs_background": "light"
     },
     "output_type": "display_data"
    },
    {
     "data": {
      "image/png": "[encoded data removed]",
      "text/plain": [
       "<Figure size 1080x288 with 2 Axes>"
      ]
     },
     "metadata": {
      "needs_background": "light"
     },
     "output_type": "display_data"
    }
   ],
   "source": [
    "### plot frequency of each of the paint_color and five point summary on price for each paint_color  type\n",
    "fig, ax = plt.subplots(1,2,figsize = (15,4))\n",
    "sns.countplot(df.paint_color , ax = ax[0]).set_title('Frequency of car paint color')\n",
    "sns.boxplot(x ='price',y = 'paint_color', data = df, ax = ax[1])\n",
    "plt.show()\n",
    "\n",
    "\n",
    "### get plot normalised metrices on price for each paint_color  type\n",
    "paint_color_PU = []\n",
    "for each in df.paint_color .unique():\n",
    "    x = df[df.paint_color ==each]\n",
    "    paint_color_PU.append(median(x['price'])) # getting median\n",
    "\n",
    "fig, ax = plt.subplots(1,2,figsize = (15,4)) \n",
    "sns.barplot(sorted(paint_color_PU), df.paint_color.unique()[np.argsort(paint_color_PU)], ax = ax[0])\n",
    "ax[0].set_xlabel('Median Price')\n",
    "# ax[1].set_ylabel('paint_color  Type')\n",
    "\n",
    "paint_color_PU = []\n",
    "for each in df.paint_color .unique():\n",
    "    x = df[df.paint_color ==each]\n",
    "    paint_color_PU.append(np.mean(x['price']))\n",
    "\n",
    "sns.barplot(sorted(paint_color_PU), df.paint_color.unique()[np.argsort(paint_color_PU)], ax = ax[1])\n",
    "ax[1].set_xlabel('Avg. Price')\n",
    "# ax[2].set_ylabel('paint_color  Type')\n",
    "\n",
    "plt.show()"
   ]
  },
  {
   "cell_type": "code",
   "execution_count": 21,
   "metadata": {},
   "outputs": [
    {
     "data": {
      "text/html": [
       "<div>\n",
       "<style scoped>\n",
       "    .dataframe tbody tr th:only-of-type {\n",
       "        vertical-align: middle;\n",
       "    }\n",
       "\n",
       "    .dataframe tbody tr th {\n",
       "        vertical-align: top;\n",
       "    }\n",
       "\n",
       "    .dataframe thead th {\n",
       "        text-align: right;\n",
       "    }\n",
       "</style>\n",
       "<table border=\"1\" class=\"dataframe\">\n",
       "  <thead>\n",
       "    <tr style=\"text-align: right;\">\n",
       "      <th></th>\n",
       "      <th>paint_color</th>\n",
       "      <th>total_avgPrice</th>\n",
       "      <th>avgPrice_by_color</th>\n",
       "      <th>diff_avgPrice</th>\n",
       "    </tr>\n",
       "  </thead>\n",
       "  <tbody>\n",
       "    <tr>\n",
       "      <th>6</th>\n",
       "      <td>orange</td>\n",
       "      <td>15828.081767</td>\n",
       "      <td>18866.666667</td>\n",
       "      <td>-19.197430</td>\n",
       "    </tr>\n",
       "    <tr>\n",
       "      <th>2</th>\n",
       "      <td>white</td>\n",
       "      <td>15828.081767</td>\n",
       "      <td>17328.438662</td>\n",
       "      <td>-9.479082</td>\n",
       "    </tr>\n",
       "    <tr>\n",
       "      <th>3</th>\n",
       "      <td>red</td>\n",
       "      <td>15828.081767</td>\n",
       "      <td>16500.000000</td>\n",
       "      <td>-4.245102</td>\n",
       "    </tr>\n",
       "    <tr>\n",
       "      <th>0</th>\n",
       "      <td>black</td>\n",
       "      <td>15828.081767</td>\n",
       "      <td>16173.851806</td>\n",
       "      <td>-2.184535</td>\n",
       "    </tr>\n",
       "    <tr>\n",
       "      <th>7</th>\n",
       "      <td>beige</td>\n",
       "      <td>15828.081767</td>\n",
       "      <td>15817.073171</td>\n",
       "      <td>0.069551</td>\n",
       "    </tr>\n",
       "    <tr>\n",
       "      <th>1</th>\n",
       "      <td>grey</td>\n",
       "      <td>15828.081767</td>\n",
       "      <td>15595.744681</td>\n",
       "      <td>1.467879</td>\n",
       "    </tr>\n",
       "    <tr>\n",
       "      <th>8</th>\n",
       "      <td>brown</td>\n",
       "      <td>15828.081767</td>\n",
       "      <td>15367.741935</td>\n",
       "      <td>2.908374</td>\n",
       "    </tr>\n",
       "    <tr>\n",
       "      <th>5</th>\n",
       "      <td>blue</td>\n",
       "      <td>15828.081767</td>\n",
       "      <td>15114.929577</td>\n",
       "      <td>4.505614</td>\n",
       "    </tr>\n",
       "    <tr>\n",
       "      <th>4</th>\n",
       "      <td>silver</td>\n",
       "      <td>15828.081767</td>\n",
       "      <td>14816.109422</td>\n",
       "      <td>6.393525</td>\n",
       "    </tr>\n",
       "    <tr>\n",
       "      <th>9</th>\n",
       "      <td>green</td>\n",
       "      <td>15828.081767</td>\n",
       "      <td>7200.000000</td>\n",
       "      <td>54.511228</td>\n",
       "    </tr>\n",
       "  </tbody>\n",
       "</table>\n",
       "</div>"
      ],
      "text/plain": [
       "  paint_color  total_avgPrice  avgPrice_by_color  diff_avgPrice\n",
       "6      orange    15828.081767       18866.666667     -19.197430\n",
       "2       white    15828.081767       17328.438662      -9.479082\n",
       "3         red    15828.081767       16500.000000      -4.245102\n",
       "0       black    15828.081767       16173.851806      -2.184535\n",
       "7       beige    15828.081767       15817.073171       0.069551\n",
       "1        grey    15828.081767       15595.744681       1.467879\n",
       "8       brown    15828.081767       15367.741935       2.908374\n",
       "5        blue    15828.081767       15114.929577       4.505614\n",
       "4      silver    15828.081767       14816.109422       6.393525\n",
       "9       green    15828.081767        7200.000000      54.511228"
      ]
     },
     "execution_count": 21,
     "metadata": {},
     "output_type": "execute_result"
    }
   ],
   "source": [
    "paint_col_each= [np.mean(df[df.paint_color==each]['price']) for each in df.paint_color.unique()]\n",
    "# dummy dataframe\n",
    "x = pd.DataFrame(df.paint_color.unique(), columns=['paint_color'])\n",
    "x['total_avgPrice']  = df['price'].mean()\n",
    "x['avgPrice_by_color'] = paint_col_each\n",
    "x['diff_avgPrice'] = (x.total_avgPrice - x.avgPrice_by_color)/x.total_avgPrice*100\n",
    "x.sort_values('diff_avgPrice')"
   ]
  },
  {
   "cell_type": "markdown",
   "metadata": {},
   "source": [
    "- Quick observations:\n",
    "    - Orange cars have almost same median and average price and highest amost all.\n",
    "    - Green cars have least median and average price.\n",
    "    - Other colors of the cars median and average prices are changing in order.\n",
    "    - All the cars paint colors except orange, white, silver and green, average price is within 5% of the total price.\n",
    " - following the observations below weightage can be used for label encoding\n",
    "        - orange -> 5\n",
    "        - white -> 4\n",
    "        - remaing -> 3\n",
    "        - silver -> 2\n",
    "        - green -> 1\n"
   ]
  },
  {
   "cell_type": "code",
   "execution_count": 23,
   "metadata": {},
   "outputs": [
    {
     "data": {
      "text/plain": [
       "75"
      ]
     },
     "execution_count": 23,
     "metadata": {},
     "output_type": "execute_result"
    }
   ],
   "source": [
    "df.model_key.nunique()"
   ]
  },
  {
   "cell_type": "code",
   "execution_count": 21,
   "metadata": {},
   "outputs": [
    {
     "data": {
      "text/plain": [
       "Text(0, 0.5, 'Model Keys')"
      ]
     },
     "execution_count": 21,
     "metadata": {},
     "output_type": "execute_result"
    },
    {
     "data": {
      "image/png": "[encoded data removed]",
      "text/plain": [
       "<Figure size 1080x1440 with 1 Axes>"
      ]
     },
     "metadata": {
      "needs_background": "light"
     },
     "output_type": "display_data"
    }
   ],
   "source": [
    "model_key_PU = []\n",
    "for each in df.model_key.unique():\n",
    "    x = df[df.model_key==each]\n",
    "    model_key_PU.append(np.mean(x['price']))\n",
    "    \n",
    "len(model_key_PU)    \n",
    "plt.figure(figsize = (15,20))\n",
    "x = pd.concat([pd.DataFrame(df.model_key.unique(), columns=['Key']), pd.DataFrame(model_key_PU,columns=['value'])], axis = 1).sort_values('value')\n",
    "sns.barplot(x='value',y='Key' ,data = x)\n",
    "plt.xlabel('Avg. Price')\n",
    "plt.ylabel('Model Keys')"
   ]
  },
  {
   "cell_type": "markdown",
   "metadata": {},
   "source": [
    "#### Capturing interraction effects between features"
   ]
  },
  {
   "cell_type": "code",
   "execution_count": 23,
   "metadata": {},
   "outputs": [
    {
     "data": {
      "text/plain": [
       "Text(0, 0.5, 'Model Key')"
      ]
     },
     "execution_count": 23,
     "metadata": {},
     "output_type": "execute_result"
    },
    {
     "data": {
      "image/png": "[encoded data removed]",
      "text/plain": [
       "<Figure size 720x1080 with 1 Axes>"
      ]
     },
     "metadata": {
      "needs_background": "light"
     },
     "output_type": "display_data"
    }
   ],
   "source": [
    "### relation between model_key and mileage\n",
    "mileage_N = []\n",
    "for each in df.model_key.unique():\n",
    "    x = df[df.model_key==each]\n",
    "    mileage_N.append(sum(x['mileage'])/len(x))\n",
    "    \n",
    "x = pd.concat([pd.DataFrame(df.model_key.unique(), columns=['Key']), pd.DataFrame(mileage_N,columns=['value'])], axis = 1).sort_values('value', ascending= False)\n",
    "plt.figure(figsize = (10,15))\n",
    "sns.barplot(x='value',y='Key' ,data = x)\n",
    "plt.xlabel('Mileage')\n",
    "plt.ylabel('Model Key')"
   ]
  },
  {
   "cell_type": "code",
   "execution_count": 24,
   "metadata": {},
   "outputs": [
    {
     "data": {
      "text/plain": [
       "Index(['maker_key', 'model_key', 'mileage', 'engine_power',\n",
       "       'registration_date', 'fuel', 'paint_color', 'car_type', 'feature_1',\n",
       "       'feature_2', 'feature_3', 'feature_4', 'feature_5', 'feature_6',\n",
       "       'feature_7', 'feature_8', 'price', 'sold_at'],\n",
       "      dtype='object')"
      ]
     },
     "execution_count": 24,
     "metadata": {},
     "output_type": "execute_result"
    }
   ],
   "source": [
    "df.columns"
   ]
  },
  {
   "cell_type": "code",
   "execution_count": null,
   "metadata": {},
   "outputs": [],
   "source": [
    "# 'mileage', 'engine_power'\n"
   ]
  },
  {
   "cell_type": "code",
   "execution_count": 25,
   "metadata": {},
   "outputs": [
    {
     "data": {
      "text/plain": [
       "<AxesSubplot:xlabel='engine_power', ylabel='price'>"
      ]
     },
     "execution_count": 25,
     "metadata": {},
     "output_type": "execute_result"
    },
    {
     "data": {
      "image/png": "[encoded data removed]",
      "text/plain": [
       "<Figure size 1440x576 with 4 Axes>"
      ]
     },
     "metadata": {
      "needs_background": "light"
     },
     "output_type": "display_data"
    }
   ],
   "source": [
    "fig, ax = plt.subplots(2,2,figsize = (20,8))\n",
    "sns.distplot(df.engine_power, ax = ax[0,0])\n",
    "sns.distplot(df.mileage, ax = ax[0,1], color = 'green')\n",
    "sns.scatterplot(df.mileage, df.price , ax = ax[1,1],color = 'green')\n",
    "sns.scatterplot(df.engine_power, df.price , ax = ax[1,0])"
   ]
  },
  {
   "cell_type": "code",
   "execution_count": null,
   "metadata": {},
   "outputs": [],
   "source": [
    "# orange paint_Color -> 8"
   ]
  },
  {
   "cell_type": "code",
   "execution_count": 26,
   "metadata": {},
   "outputs": [
    {
     "data": {
      "text/html": [
       "<div>\n",
       "<style scoped>\n",
       "    .dataframe tbody tr th:only-of-type {\n",
       "        vertical-align: middle;\n",
       "    }\n",
       "\n",
       "    .dataframe tbody tr th {\n",
       "        vertical-align: top;\n",
       "    }\n",
       "\n",
       "    .dataframe thead th {\n",
       "        text-align: right;\n",
       "    }\n",
       "</style>\n",
       "<table border=\"1\" class=\"dataframe\">\n",
       "  <thead>\n",
       "    <tr style=\"text-align: right;\">\n",
       "      <th></th>\n",
       "      <th>maker_key</th>\n",
       "      <th>model_key</th>\n",
       "      <th>mileage</th>\n",
       "      <th>engine_power</th>\n",
       "      <th>registration_date</th>\n",
       "      <th>fuel</th>\n",
       "      <th>paint_color</th>\n",
       "      <th>car_type</th>\n",
       "      <th>feature_1</th>\n",
       "      <th>feature_2</th>\n",
       "      <th>feature_3</th>\n",
       "      <th>feature_4</th>\n",
       "      <th>feature_5</th>\n",
       "      <th>feature_6</th>\n",
       "      <th>feature_7</th>\n",
       "      <th>feature_8</th>\n",
       "      <th>price</th>\n",
       "      <th>sold_at</th>\n",
       "    </tr>\n",
       "  </thead>\n",
       "  <tbody>\n",
       "    <tr>\n",
       "      <th>3765</th>\n",
       "      <td>BMW</td>\n",
       "      <td>X1</td>\n",
       "      <td>81770</td>\n",
       "      <td>0</td>\n",
       "      <td>2014-10-01</td>\n",
       "      <td>diesel</td>\n",
       "      <td>white</td>\n",
       "      <td>suv</td>\n",
       "      <td>0</td>\n",
       "      <td>0</td>\n",
       "      <td>0</td>\n",
       "      <td>0</td>\n",
       "      <td>0</td>\n",
       "      <td>0</td>\n",
       "      <td>0</td>\n",
       "      <td>0</td>\n",
       "      <td>11700</td>\n",
       "      <td>2018-03-01</td>\n",
       "    </tr>\n",
       "  </tbody>\n",
       "</table>\n",
       "</div>"
      ],
      "text/plain": [
       "     maker_key model_key  mileage  engine_power registration_date    fuel  \\\n",
       "3765       BMW        X1    81770             0        2014-10-01  diesel   \n",
       "\n",
       "     paint_color car_type  feature_1  feature_2  feature_3  feature_4  \\\n",
       "3765       white      suv          0          0          0          0   \n",
       "\n",
       "      feature_5  feature_6  feature_7  feature_8  price     sold_at  \n",
       "3765          0          0          0          0  11700  2018-03-01  "
      ]
     },
     "execution_count": 26,
     "metadata": {},
     "output_type": "execute_result"
    }
   ],
   "source": [
    "df[df.engine_power==df.engine_power.min()] # error?"
   ]
  },
  {
   "cell_type": "code",
   "execution_count": 27,
   "metadata": {},
   "outputs": [
    {
     "data": {
      "text/html": [
       "<div>\n",
       "<style scoped>\n",
       "    .dataframe tbody tr th:only-of-type {\n",
       "        vertical-align: middle;\n",
       "    }\n",
       "\n",
       "    .dataframe tbody tr th {\n",
       "        vertical-align: top;\n",
       "    }\n",
       "\n",
       "    .dataframe thead th {\n",
       "        text-align: right;\n",
       "    }\n",
       "</style>\n",
       "<table border=\"1\" class=\"dataframe\">\n",
       "  <thead>\n",
       "    <tr style=\"text-align: right;\">\n",
       "      <th></th>\n",
       "      <th>maker_key</th>\n",
       "      <th>model_key</th>\n",
       "      <th>mileage</th>\n",
       "      <th>engine_power</th>\n",
       "      <th>registration_date</th>\n",
       "      <th>fuel</th>\n",
       "      <th>paint_color</th>\n",
       "      <th>car_type</th>\n",
       "      <th>feature_1</th>\n",
       "      <th>feature_2</th>\n",
       "      <th>feature_3</th>\n",
       "      <th>feature_4</th>\n",
       "      <th>feature_5</th>\n",
       "      <th>feature_6</th>\n",
       "      <th>feature_7</th>\n",
       "      <th>feature_8</th>\n",
       "      <th>price</th>\n",
       "      <th>sold_at</th>\n",
       "    </tr>\n",
       "  </thead>\n",
       "  <tbody>\n",
       "    <tr>\n",
       "      <th>4146</th>\n",
       "      <td>BMW</td>\n",
       "      <td>X6 M</td>\n",
       "      <td>2970</td>\n",
       "      <td>423</td>\n",
       "      <td>2016-04-01</td>\n",
       "      <td>petrol</td>\n",
       "      <td>red</td>\n",
       "      <td>suv</td>\n",
       "      <td>1</td>\n",
       "      <td>1</td>\n",
       "      <td>1</td>\n",
       "      <td>0</td>\n",
       "      <td>0</td>\n",
       "      <td>0</td>\n",
       "      <td>1</td>\n",
       "      <td>1</td>\n",
       "      <td>82400</td>\n",
       "      <td>2018-04-01</td>\n",
       "    </tr>\n",
       "  </tbody>\n",
       "</table>\n",
       "</div>"
      ],
      "text/plain": [
       "     maker_key model_key  mileage  engine_power registration_date    fuel  \\\n",
       "4146       BMW      X6 M     2970           423        2016-04-01  petrol   \n",
       "\n",
       "     paint_color car_type  feature_1  feature_2  feature_3  feature_4  \\\n",
       "4146         red      suv          1          1          1          0   \n",
       "\n",
       "      feature_5  feature_6  feature_7  feature_8  price     sold_at  \n",
       "4146          0          0          1          1  82400  2018-04-01  "
      ]
     },
     "execution_count": 27,
     "metadata": {},
     "output_type": "execute_result"
    }
   ],
   "source": [
    "df[df.engine_power==df.engine_power.max()]"
   ]
  },
  {
   "cell_type": "code",
   "execution_count": 25,
   "metadata": {},
   "outputs": [
    {
     "data": {
      "image/png": "[encoded data removed]",
      "text/plain": [
       "<Figure size 432x288 with 1 Axes>"
      ]
     },
     "metadata": {
      "needs_background": "light"
     },
     "output_type": "display_data"
    },
    {
     "data": {
      "image/png": "[encoded data removed]",
      "text/plain": [
       "<Figure size 432x288 with 1 Axes>"
      ]
     },
     "metadata": {
      "needs_background": "light"
     },
     "output_type": "display_data"
    },
    {
     "data": {
      "text/html": [
       "<div>\n",
       "<style scoped>\n",
       "    .dataframe tbody tr th:only-of-type {\n",
       "        vertical-align: middle;\n",
       "    }\n",
       "\n",
       "    .dataframe tbody tr th {\n",
       "        vertical-align: top;\n",
       "    }\n",
       "\n",
       "    .dataframe thead th {\n",
       "        text-align: right;\n",
       "    }\n",
       "</style>\n",
       "<table border=\"1\" class=\"dataframe\">\n",
       "  <thead>\n",
       "    <tr style=\"text-align: right;\">\n",
       "      <th></th>\n",
       "      <th>count</th>\n",
       "      <th>mean</th>\n",
       "      <th>std</th>\n",
       "      <th>min</th>\n",
       "      <th>25%</th>\n",
       "      <th>50%</th>\n",
       "      <th>75%</th>\n",
       "      <th>max</th>\n",
       "    </tr>\n",
       "    <tr>\n",
       "      <th>EP_bucket</th>\n",
       "      <th></th>\n",
       "      <th></th>\n",
       "      <th></th>\n",
       "      <th></th>\n",
       "      <th></th>\n",
       "      <th></th>\n",
       "      <th></th>\n",
       "      <th></th>\n",
       "    </tr>\n",
       "  </thead>\n",
       "  <tbody>\n",
       "    <tr>\n",
       "      <th>[100)</th>\n",
       "      <td>712.0</td>\n",
       "      <td>9696.910112</td>\n",
       "      <td>3646.008781</td>\n",
       "      <td>100.0</td>\n",
       "      <td>8300.0</td>\n",
       "      <td>10000.0</td>\n",
       "      <td>11400.0</td>\n",
       "      <td>28000.0</td>\n",
       "    </tr>\n",
       "    <tr>\n",
       "      <th>[100-200)</th>\n",
       "      <td>3869.0</td>\n",
       "      <td>15870.793487</td>\n",
       "      <td>8188.184157</td>\n",
       "      <td>100.0</td>\n",
       "      <td>11800.0</td>\n",
       "      <td>14800.0</td>\n",
       "      <td>18800.0</td>\n",
       "      <td>178500.0</td>\n",
       "    </tr>\n",
       "    <tr>\n",
       "      <th>[200-300)</th>\n",
       "      <td>251.0</td>\n",
       "      <td>31214.741036</td>\n",
       "      <td>13103.223338</td>\n",
       "      <td>4500.0</td>\n",
       "      <td>21800.0</td>\n",
       "      <td>29500.0</td>\n",
       "      <td>39250.0</td>\n",
       "      <td>75000.0</td>\n",
       "    </tr>\n",
       "    <tr>\n",
       "      <th>[300-400)]</th>\n",
       "      <td>9.0</td>\n",
       "      <td>43133.333333</td>\n",
       "      <td>15505.402284</td>\n",
       "      <td>22000.0</td>\n",
       "      <td>28600.0</td>\n",
       "      <td>47000.0</td>\n",
       "      <td>52400.0</td>\n",
       "      <td>69700.0</td>\n",
       "    </tr>\n",
       "    <tr>\n",
       "      <th>[400)</th>\n",
       "      <td>2.0</td>\n",
       "      <td>62000.000000</td>\n",
       "      <td>28849.956672</td>\n",
       "      <td>41600.0</td>\n",
       "      <td>51800.0</td>\n",
       "      <td>62000.0</td>\n",
       "      <td>72200.0</td>\n",
       "      <td>82400.0</td>\n",
       "    </tr>\n",
       "  </tbody>\n",
       "</table>\n",
       "</div>"
      ],
      "text/plain": [
       "             count          mean           std      min      25%      50%  \\\n",
       "EP_bucket                                                                   \n",
       "[100)        712.0   9696.910112   3646.008781    100.0   8300.0  10000.0   \n",
       "[100-200)   3869.0  15870.793487   8188.184157    100.0  11800.0  14800.0   \n",
       "[200-300)    251.0  31214.741036  13103.223338   4500.0  21800.0  29500.0   \n",
       "[300-400)]     9.0  43133.333333  15505.402284  22000.0  28600.0  47000.0   \n",
       "[400)          2.0  62000.000000  28849.956672  41600.0  51800.0  62000.0   \n",
       "\n",
       "                75%       max  \n",
       "EP_bucket                      \n",
       "[100)       11400.0   28000.0  \n",
       "[100-200)   18800.0  178500.0  \n",
       "[200-300)   39250.0   75000.0  \n",
       "[300-400)]  52400.0   69700.0  \n",
       "[400)       72200.0   82400.0  "
      ]
     },
     "execution_count": 25,
     "metadata": {},
     "output_type": "execute_result"
    }
   ],
   "source": [
    "### bucketing price in range of 100\n",
    "df['EP_bucket'] = df.engine_power.apply(lambda x: '[100)' if x < 100 else ('[100-200)'  if x < 200 else ('[200-300)' if x < 300 else ('[300-400)]' if x < 400 else '[400)') )))\n",
    "x = df.groupby('EP_bucket')['price'].mean().reset_index()\n",
    "sns.barplot(x = x.EP_bucket, y = x.price).set_ylabel('Avg. price')\n",
    "plt.show()\n",
    "x = df.groupby('EP_bucket')['price'].count().reset_index()\n",
    "sns.barplot(x = x.EP_bucket, y = x.price).set_ylabel('Count')\n",
    "plt.show()\n",
    "df.groupby('EP_bucket')['price'].describe()"
   ]
  },
  {
   "cell_type": "markdown",
   "metadata": {},
   "source": [
    "- Note: engine_power is already numerical form and can be feed as a feature in raw form. \n",
    "    - more analysis can be done to find any peculiar point from the data "
   ]
  },
  {
   "cell_type": "markdown",
   "metadata": {},
   "source": [
    "### target analysis"
   ]
  },
  {
   "cell_type": "code",
   "execution_count": 29,
   "metadata": {},
   "outputs": [
    {
     "data": {
      "image/png": "[encoded data removed]",
      "text/plain": [
       "<Figure size 1080x288 with 3 Axes>"
      ]
     },
     "metadata": {
      "needs_background": "light"
     },
     "output_type": "display_data"
    }
   ],
   "source": [
    "fig, ax = plt.subplots(1,3,figsize = (15,4))\n",
    "sns.distplot(df.price, color = 'green', ax = ax[0])\n",
    "sns.distplot(np.log1p(df.price), color = 'blue', ax = ax[1])\n",
    "sns.distplot(np.sqrt(df.price), color = 'c', ax = ax[2])\n",
    "plt.show()"
   ]
  },
  {
   "cell_type": "code",
   "execution_count": 30,
   "metadata": {},
   "outputs": [
    {
     "data": {
      "text/html": [
       "<div>\n",
       "<style scoped>\n",
       "    .dataframe tbody tr th:only-of-type {\n",
       "        vertical-align: middle;\n",
       "    }\n",
       "\n",
       "    .dataframe tbody tr th {\n",
       "        vertical-align: top;\n",
       "    }\n",
       "\n",
       "    .dataframe thead th {\n",
       "        text-align: right;\n",
       "    }\n",
       "</style>\n",
       "<table border=\"1\" class=\"dataframe\">\n",
       "  <thead>\n",
       "    <tr style=\"text-align: right;\">\n",
       "      <th></th>\n",
       "      <th>mileage</th>\n",
       "      <th>engine_power</th>\n",
       "      <th>price</th>\n",
       "    </tr>\n",
       "  </thead>\n",
       "  <tbody>\n",
       "    <tr>\n",
       "      <th>mileage</th>\n",
       "      <td>1.000000</td>\n",
       "      <td>-0.050116</td>\n",
       "      <td>-0.409564</td>\n",
       "    </tr>\n",
       "    <tr>\n",
       "      <th>engine_power</th>\n",
       "      <td>-0.050116</td>\n",
       "      <td>1.000000</td>\n",
       "      <td>0.638989</td>\n",
       "    </tr>\n",
       "    <tr>\n",
       "      <th>price</th>\n",
       "      <td>-0.409564</td>\n",
       "      <td>0.638989</td>\n",
       "      <td>1.000000</td>\n",
       "    </tr>\n",
       "  </tbody>\n",
       "</table>\n",
       "</div>"
      ],
      "text/plain": [
       "               mileage  engine_power     price\n",
       "mileage       1.000000     -0.050116 -0.409564\n",
       "engine_power -0.050116      1.000000  0.638989\n",
       "price        -0.409564      0.638989  1.000000"
      ]
     },
     "execution_count": 30,
     "metadata": {},
     "output_type": "execute_result"
    }
   ],
   "source": [
    "## correlaation \n",
    "df[['mileage', 'engine_power','price']].corr()"
   ]
  },
  {
   "cell_type": "markdown",
   "metadata": {},
   "source": [
    "### date related features analysis"
   ]
  },
  {
   "cell_type": "code",
   "execution_count": 30,
   "metadata": {},
   "outputs": [],
   "source": [
    "# registration_date, sold_at"
   ]
  },
  {
   "cell_type": "code",
   "execution_count": 31,
   "metadata": {},
   "outputs": [],
   "source": [
    "df.registration_date = pd.to_datetime(df.registration_date)\n",
    "df.sold_at = pd.to_datetime(df.sold_at)\n",
    "df['gap_reg_sold_year'] =  df.sold_at.dt.year - df.registration_date.dt.year \n",
    "df['reg_month'] = df.registration_date.dt.month\n",
    "df['gap_reg_sold_days'] =  df.sold_at - df.registration_date \n",
    "df['gap_reg_sold_days'] = df.gap_reg_sold_days.apply(lambda x: int(str(x).split()[0]))"
   ]
  },
  {
   "cell_type": "code",
   "execution_count": 32,
   "metadata": {},
   "outputs": [
    {
     "data": {
      "text/html": [
       "<div>\n",
       "<style scoped>\n",
       "    .dataframe tbody tr th:only-of-type {\n",
       "        vertical-align: middle;\n",
       "    }\n",
       "\n",
       "    .dataframe tbody tr th {\n",
       "        vertical-align: top;\n",
       "    }\n",
       "\n",
       "    .dataframe thead th {\n",
       "        text-align: right;\n",
       "    }\n",
       "</style>\n",
       "<table border=\"1\" class=\"dataframe\">\n",
       "  <thead>\n",
       "    <tr style=\"text-align: right;\">\n",
       "      <th></th>\n",
       "      <th>maker_key</th>\n",
       "      <th>model_key</th>\n",
       "      <th>mileage</th>\n",
       "      <th>engine_power</th>\n",
       "      <th>registration_date</th>\n",
       "      <th>fuel</th>\n",
       "      <th>paint_color</th>\n",
       "      <th>car_type</th>\n",
       "      <th>feature_1</th>\n",
       "      <th>feature_2</th>\n",
       "      <th>feature_3</th>\n",
       "      <th>feature_4</th>\n",
       "      <th>feature_5</th>\n",
       "      <th>feature_6</th>\n",
       "      <th>feature_7</th>\n",
       "      <th>feature_8</th>\n",
       "      <th>price</th>\n",
       "      <th>sold_at</th>\n",
       "      <th>EP_bucket</th>\n",
       "      <th>gap_reg_sold_year</th>\n",
       "      <th>reg_month</th>\n",
       "      <th>gap_reg_sold_days</th>\n",
       "    </tr>\n",
       "  </thead>\n",
       "  <tbody>\n",
       "    <tr>\n",
       "      <th>0</th>\n",
       "      <td>BMW</td>\n",
       "      <td>118</td>\n",
       "      <td>140411</td>\n",
       "      <td>100</td>\n",
       "      <td>2012-01-02</td>\n",
       "      <td>diesel</td>\n",
       "      <td>black</td>\n",
       "      <td>convertible</td>\n",
       "      <td>1</td>\n",
       "      <td>1</td>\n",
       "      <td>0</td>\n",
       "      <td>0</td>\n",
       "      <td>1</td>\n",
       "      <td>1</td>\n",
       "      <td>1</td>\n",
       "      <td>0</td>\n",
       "      <td>11300</td>\n",
       "      <td>2018-01-01</td>\n",
       "      <td>[100-200)</td>\n",
       "      <td>6</td>\n",
       "      <td>1</td>\n",
       "      <td>2191</td>\n",
       "    </tr>\n",
       "    <tr>\n",
       "      <th>1</th>\n",
       "      <td>BMW</td>\n",
       "      <td>M4</td>\n",
       "      <td>13929</td>\n",
       "      <td>317</td>\n",
       "      <td>2016-01-04</td>\n",
       "      <td>petrol</td>\n",
       "      <td>grey</td>\n",
       "      <td>convertible</td>\n",
       "      <td>1</td>\n",
       "      <td>1</td>\n",
       "      <td>0</td>\n",
       "      <td>0</td>\n",
       "      <td>0</td>\n",
       "      <td>1</td>\n",
       "      <td>1</td>\n",
       "      <td>1</td>\n",
       "      <td>69700</td>\n",
       "      <td>2018-01-02</td>\n",
       "      <td>[300-400)]</td>\n",
       "      <td>2</td>\n",
       "      <td>1</td>\n",
       "      <td>729</td>\n",
       "    </tr>\n",
       "    <tr>\n",
       "      <th>2</th>\n",
       "      <td>BMW</td>\n",
       "      <td>320</td>\n",
       "      <td>183297</td>\n",
       "      <td>120</td>\n",
       "      <td>2012-01-04</td>\n",
       "      <td>diesel</td>\n",
       "      <td>white</td>\n",
       "      <td>convertible</td>\n",
       "      <td>0</td>\n",
       "      <td>0</td>\n",
       "      <td>0</td>\n",
       "      <td>0</td>\n",
       "      <td>1</td>\n",
       "      <td>0</td>\n",
       "      <td>1</td>\n",
       "      <td>0</td>\n",
       "      <td>10200</td>\n",
       "      <td>2018-01-02</td>\n",
       "      <td>[100-200)</td>\n",
       "      <td>6</td>\n",
       "      <td>1</td>\n",
       "      <td>2190</td>\n",
       "    </tr>\n",
       "    <tr>\n",
       "      <th>3</th>\n",
       "      <td>BMW</td>\n",
       "      <td>420</td>\n",
       "      <td>128035</td>\n",
       "      <td>135</td>\n",
       "      <td>2014-01-07</td>\n",
       "      <td>diesel</td>\n",
       "      <td>red</td>\n",
       "      <td>convertible</td>\n",
       "      <td>1</td>\n",
       "      <td>1</td>\n",
       "      <td>0</td>\n",
       "      <td>0</td>\n",
       "      <td>1</td>\n",
       "      <td>1</td>\n",
       "      <td>1</td>\n",
       "      <td>1</td>\n",
       "      <td>25100</td>\n",
       "      <td>2018-01-02</td>\n",
       "      <td>[100-200)</td>\n",
       "      <td>4</td>\n",
       "      <td>1</td>\n",
       "      <td>1456</td>\n",
       "    </tr>\n",
       "    <tr>\n",
       "      <th>4</th>\n",
       "      <td>BMW</td>\n",
       "      <td>425</td>\n",
       "      <td>97097</td>\n",
       "      <td>160</td>\n",
       "      <td>2014-01-12</td>\n",
       "      <td>diesel</td>\n",
       "      <td>silver</td>\n",
       "      <td>convertible</td>\n",
       "      <td>1</td>\n",
       "      <td>1</td>\n",
       "      <td>0</td>\n",
       "      <td>0</td>\n",
       "      <td>0</td>\n",
       "      <td>1</td>\n",
       "      <td>1</td>\n",
       "      <td>1</td>\n",
       "      <td>33400</td>\n",
       "      <td>2018-01-04</td>\n",
       "      <td>[100-200)</td>\n",
       "      <td>4</td>\n",
       "      <td>1</td>\n",
       "      <td>1453</td>\n",
       "    </tr>\n",
       "  </tbody>\n",
       "</table>\n",
       "</div>"
      ],
      "text/plain": [
       "  maker_key model_key  mileage  engine_power registration_date    fuel  \\\n",
       "0       BMW       118   140411           100        2012-01-02  diesel   \n",
       "1       BMW        M4    13929           317        2016-01-04  petrol   \n",
       "2       BMW       320   183297           120        2012-01-04  diesel   \n",
       "3       BMW       420   128035           135        2014-01-07  diesel   \n",
       "4       BMW       425    97097           160        2014-01-12  diesel   \n",
       "\n",
       "  paint_color     car_type  feature_1  feature_2  feature_3  feature_4  \\\n",
       "0       black  convertible          1          1          0          0   \n",
       "1        grey  convertible          1          1          0          0   \n",
       "2       white  convertible          0          0          0          0   \n",
       "3         red  convertible          1          1          0          0   \n",
       "4      silver  convertible          1          1          0          0   \n",
       "\n",
       "   feature_5  feature_6  feature_7  feature_8  price    sold_at   EP_bucket  \\\n",
       "0          1          1          1          0  11300 2018-01-01   [100-200)   \n",
       "1          0          1          1          1  69700 2018-01-02  [300-400)]   \n",
       "2          1          0          1          0  10200 2018-01-02   [100-200)   \n",
       "3          1          1          1          1  25100 2018-01-02   [100-200)   \n",
       "4          0          1          1          1  33400 2018-01-04   [100-200)   \n",
       "\n",
       "   gap_reg_sold_year  reg_month  gap_reg_sold_days  \n",
       "0                  6          1               2191  \n",
       "1                  2          1                729  \n",
       "2                  6          1               2190  \n",
       "3                  4          1               1456  \n",
       "4                  4          1               1453  "
      ]
     },
     "execution_count": 32,
     "metadata": {},
     "output_type": "execute_result"
    }
   ],
   "source": [
    "df.head()"
   ]
  },
  {
   "cell_type": "code",
   "execution_count": 33,
   "metadata": {},
   "outputs": [
    {
     "data": {
      "image/png": "[encoded data removed]",
      "text/plain": [
       "<Figure size 432x288 with 1 Axes>"
      ]
     },
     "metadata": {
      "needs_background": "light"
     },
     "output_type": "display_data"
    }
   ],
   "source": [
    "### hypothesis: How does the estimated value of a car change over time?\n",
    "x = df.groupby('gap_reg_sold_year')['price'].mean().reset_index()\n",
    "sns.lineplot(x.gap_reg_sold_year, x.price ,color = 'green').set_xlabel('year diff bet/ registration and sold date')\n",
    "plt.show()"
   ]
  },
  {
   "cell_type": "code",
   "execution_count": 33,
   "metadata": {},
   "outputs": [
    {
     "data": {
      "text/plain": [
       "Index(['maker_key', 'model_key', 'mileage', 'engine_power',\n",
       "       'registration_date', 'fuel', 'paint_color', 'car_type', 'feature_1',\n",
       "       'feature_2', 'feature_3', 'feature_4', 'feature_5', 'feature_6',\n",
       "       'feature_7', 'feature_8', 'price', 'sold_at', 'EP_bucket',\n",
       "       'gap_reg_sold_year', 'reg_month', 'gap_reg_sold_days'],\n",
       "      dtype='object')"
      ]
     },
     "execution_count": 33,
     "metadata": {},
     "output_type": "execute_result"
    }
   ],
   "source": []
  },
  {
   "cell_type": "markdown",
   "metadata": {},
   "source": [
    "--- Practice analysis (perform analysis to answer following questions)\n",
    "\n",
    "Additional time analysis of price\n",
    "- price pattern wrt. month\n",
    "- price pattern weekdays\n",
    "- price pattern by gap_reg_sold_days"
   ]
  },
  {
   "cell_type": "markdown",
   "metadata": {},
   "source": [
    "- correlation check \n",
    "        - pearson correlation coefficient (degree linear relationship between two continuous variables)\n",
    "                - V1 V2   Type of correlation\n",
    "                - C C    -> pearson correlation coefficient\n",
    "                - C D    -> ANOVA test / spermans correlation coefficient\n",
    "                - D C    -> ANOVA test\n",
    "                - D D    -> chi-square test"
   ]
  },
  {
   "cell_type": "code",
   "execution_count": null,
   "metadata": {},
   "outputs": [],
   "source": []
  }
 ],
 "metadata": {
  "kernelspec": {
   "display_name": "Python 3",
   "language": "python",
   "name": "python3"
  },
  "language_info": {
   "codemirror_mode": {
    "name": "ipython",
    "version": 3
   },
   "file_extension": ".py",
   "mimetype": "text/x-python",
   "name": "python",
   "nbconvert_exporter": "python",
   "pygments_lexer": "ipython3",
   "version": "3.7.6"
  }
 },
 "nbformat": 4,
 "nbformat_minor": 4
}
