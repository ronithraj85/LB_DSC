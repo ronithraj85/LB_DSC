{
 "cells": [
  {
   "cell_type": "code",
   "execution_count": 1,
   "metadata": {},
   "outputs": [
    {
     "name": "stdout",
     "output_type": "stream",
     "text": [
      "Determining the central tendency of the population\n",
      "Mean is - 61.25\n",
      "Median is - 8.0\n"
     ]
    }
   ],
   "source": [
    "# Determine the central tendency of the below Population:\n",
    "# -993, -23,18,-2,-6,98,45,32,-45,843,1024,-256\n",
    "import numpy as np\n",
    "import pandas as pd\n",
    "import math, random,statistics\n",
    "import matplotlib.pyplot as plt\n",
    "from scipy.stats import skew, kurtosis\n",
    "from scipy.stats import pearsonr,spearmanr\n",
    "import statistics as stat\n",
    "\n",
    "nums = np.array([-993, -23,18,-2,-6,98,45,32,-45,843,1024,-256])\n",
    "print(\"Determining the central tendency of the population\")\n",
    "print(f\"Mean is - {np.mean(nums)}\")\n",
    "print(f\"Median is - {np.median(nums)}\")"
   ]
  },
  {
   "cell_type": "code",
   "execution_count": 2,
   "metadata": {},
   "outputs": [
    {
     "data": {
      "text/plain": [
       "[-993, -23, 18, -2, -6, 98, 45, 32, -45, 843, 1024, -256]"
      ]
     },
     "execution_count": 2,
     "metadata": {},
     "output_type": "execute_result"
    }
   ],
   "source": [
    "#this works from python versions 3.8\n",
    "from statistics import multimode\n",
    "multimode(nums)"
   ]
  },
  {
   "cell_type": "code",
   "execution_count": 3,
   "metadata": {},
   "outputs": [
    {
     "name": "stdout",
     "output_type": "stream",
     "text": [
      "[-993, -23, 18, -2, -6, 98, 45, 32, -45, 843, 1024, -256]\n"
     ]
    }
   ],
   "source": [
    "# Multimode\n",
    "from collections import Counter\n",
    "data = Counter(nums)\n",
    "list1 = data.most_common()  #return all unique items and their counts\n",
    "list1\n",
    "max = list1[0][1]\n",
    "list2 = []\n",
    "\n",
    "for i in list1:\n",
    "    if i[1] == max:\n",
    "        list2.append(i[0])\n",
    "print(list2)"
   ]
  },
  {
   "cell_type": "code",
   "execution_count": 19,
   "metadata": {},
   "outputs": [
    {
     "name": "stdout",
     "output_type": "stream",
     "text": [
      "Standard deviation - 311.69187063865206\n",
      "Variance - 97151.82222222222\n"
     ]
    }
   ],
   "source": [
    "# Calculate the Standard Deviation and Variance of the below sample : -99, -2,18,-23,-61,1,982,45,32,-45\n",
    "\n",
    "disper = 99, -2,18,-23,-61,1,982,45,32,-45\n",
    "print(f\"Standard deviation - {statistics.stdev(disper)}\")\n",
    "print(f\"Variance - {statistics.variance(disper)}\")\n"
   ]
  },
  {
   "cell_type": "code",
   "execution_count": 5,
   "metadata": {},
   "outputs": [
    {
     "name": "stdout",
     "output_type": "stream",
     "text": [
      "New Mean-11\n"
     ]
    }
   ],
   "source": [
    "# You have 8 numbers. The mean is 6. You add 5 to each number in the group. What is the new mean?\n",
    "\n",
    "old_mean = 6\n",
    "add_num = 5\n",
    "new_mean = old_mean+add_num\n",
    "print(f\"New Mean-{new_mean}\")"
   ]
  },
  {
   "cell_type": "code",
   "execution_count": 18,
   "metadata": {},
   "outputs": [
    {
     "name": "stdout",
     "output_type": "stream",
     "text": [
      "New Mean-30\n",
      "New standard Deviation-6.0\n"
     ]
    }
   ],
   "source": [
    "# You have 15 numbers. The mean is 10, and the variance is 4. \n",
    "# You multiply each number by 3. What is the new standard deviation?\n",
    "old_mean = 10\n",
    "old_var = 4\n",
    "mult = 3\n",
    "new_mean = old_mean*mult\n",
    "new_std = mult*math.sqrt(old_var)\n",
    "print(f\"New Mean-{new_mean}\")\n",
    "print(f\"New standard Deviation-{new_std}\")"
   ]
  },
  {
   "cell_type": "code",
   "execution_count": 7,
   "metadata": {},
   "outputs": [
    {
     "name": "stdout",
     "output_type": "stream",
     "text": [
      "Mean and Standard Deviation in Celsius is as follows\n",
      "Mean = 22.476400000000005 Standard Deviation = -8.93357953057409\n"
     ]
    }
   ],
   "source": [
    "# Temperature of 5 cities are given, from the given values, \n",
    "# what would be the mean and standard deviation of temperature in Celsius?\n",
    "# (Hint: Celsius = 0.556F - 17.778)\n",
    "# City\n",
    "# Degrees Fahrenheit\n",
    "# Delhi\n",
    "# 82\n",
    "# Bangalore\n",
    "# 77\n",
    "# Coorg\n",
    "# 41\n",
    "# Coimbatore\n",
    "# 78\n",
    "# Chennai\n",
    "# 84\n",
    "\n",
    "temperatues = [82, 77, 41, 78, 84]\n",
    "mean_f = np.mean(temperatues)\n",
    "std_f = np.std(temperatues)\n",
    "print(\"Mean and Standard Deviation in Celsius is as follows\")\n",
    "print(f\"Mean = {mean_f * 0.556 - 17.778} Standard Deviation = {std_f * 0.556 - 17.778}\")"
   ]
  },
  {
   "cell_type": "code",
   "execution_count": 8,
   "metadata": {},
   "outputs": [
    {
     "data": {
      "image/png": "[encoded data removed]",
      "text/plain": [
       "<Figure size 864x360 with 1 Axes>"
      ]
     },
     "metadata": {
      "needs_background": "light"
     },
     "output_type": "display_data"
    }
   ],
   "source": [
    "# Construct a boxplot for the following data set.\n",
    "# 3, 5, 8, 8, 9, 11, 12, 12, 13, 13, 163,5,8,8,9,11,12,12,13,13,16\n",
    "\n",
    "bx = [3, 5, 8, 8, 9, 11, 12, 12, 13, 13, 163,5,8,8,9,11,12,12,13,13,16]\n",
    "\n",
    "fig = plt.figure(figsize =(12, 5))\n",
    "plt.boxplot(bx,vert=False)\n",
    "plt.show()"
   ]
  },
  {
   "cell_type": "code",
   "execution_count": 9,
   "metadata": {},
   "outputs": [
    {
     "name": "stdout",
     "output_type": "stream",
     "text": [
      "Skewnwss of the given data is - 0.2563317051472635\n",
      "As the skewness value lies between -0.5 and 0.5, It is considered to be fairly symmetrical\n"
     ]
    }
   ],
   "source": [
    "# Consider below dataset, calculate the skewness and then tell if it is left skewed or right skewed?\n",
    "# 12, 13, 54, 56,25\n",
    "\n",
    "sk = [12, 13, 54, 56, 25]\n",
    "\n",
    "print(f\"Skewnwss of the given data is - {skew(sk)}\")\n",
    "print(f\"As the skewness value lies between -0.5 and 0.5, It is considered to be fairly symmetrical\")"
   ]
  },
  {
   "cell_type": "code",
   "execution_count": 22,
   "metadata": {},
   "outputs": [
    {
     "name": "stdout",
     "output_type": "stream",
     "text": [
      "DATA    0.382117\n",
      "dtype: float64\n",
      "DATA    32.0\n",
      "dtype: float64\n",
      "DATA    25.0\n",
      "dtype: float64\n"
     ]
    }
   ],
   "source": [
    "skw = {\"DATA\":[12, 13, 54, 56, 25]}\n",
    "df_skew = pd.DataFrame(skw)\n",
    "print(df_skew.skew())\n",
    "print(df_skew.mean())\n",
    "print(df_skew.median())"
   ]
  },
  {
   "cell_type": "code",
   "execution_count": 10,
   "metadata": {},
   "outputs": [
    {
     "name": "stdout",
     "output_type": "stream",
     "text": [
      "Excess kurtosis value is--1.7721210214761647\n",
      "As it is less than 0, it's is called platykurtic. The Characteristics are as follows,\n",
      "Tails are shorter and thinner.\n",
      "Central peak is lower and broader.\n"
     ]
    }
   ],
   "source": [
    "# Determine the excess-kurtosis of the below dataset and then categorize it according to \n",
    "# the type of kurtosis it is and give its characteristics.\n",
    "# 12, 13, 54, 56,25\n",
    "print(f\"Excess kurtosis value is-{kurtosis(sk)}\")\n",
    "print(\"As it is less than 0, it's is called platykurtic. The Characteristics are as follows,\")\n",
    "print(\"Tails are shorter and thinner.\")\n",
    "print(\"Central peak is lower and broader.\")"
   ]
  },
  {
   "cell_type": "code",
   "execution_count": 23,
   "metadata": {},
   "outputs": [
    {
     "name": "stdout",
     "output_type": "stream",
     "text": [
      "DATA   -3.088484\n",
      "dtype: float64\n"
     ]
    }
   ],
   "source": [
    "print(df_skew.kurtosis())"
   ]
  },
  {
   "cell_type": "code",
   "execution_count": 11,
   "metadata": {},
   "outputs": [
    {
     "name": "stdout",
     "output_type": "stream",
     "text": [
      "99.5 102.0 109.5\n",
      "IQR - 10.0\n",
      "Upper bound - 124.5\n",
      "Upper bound - 84.5\n",
      "Outliers in the data are - [1, 201]\n"
     ]
    }
   ],
   "source": [
    "# Determine the outliers in the below dataset using IQR formula.\n",
    "# 1, 99, 100, 101, 103, 109, 110, 201\n",
    "iqr = np.array([1, 99, 100, 101, 103, 109, 110, 201])\n",
    "q1, q2, q3 = np.quantile(iqr,[0.25, 0.5, 0.75], interpolation='midpoint')\n",
    "print(q1, q2, q3)\n",
    "IQR = q3 - q1\n",
    "lower_bound = q1 - (1.5 * IQR)\n",
    "upper_bound = q3 + (1.5 * IQR)\n",
    "print(f\"IQR - {IQR}\")\n",
    "print(f\"Upper bound - {upper_bound}\")\n",
    "print(f\"Upper bound - {lower_bound}\")\n",
    "outlier_list = []\n",
    "for i in iqr:\n",
    "    if i < lower_bound or i > upper_bound:\n",
    "        outlier_list.append(i)\n",
    "print(f\"Outliers in the data are - {outlier_list}\")"
   ]
  },
  {
   "cell_type": "code",
   "execution_count": 12,
   "metadata": {},
   "outputs": [
    {
     "name": "stdout",
     "output_type": "stream",
     "text": [
      "Outliers are [10.8135]\n"
     ]
    }
   ],
   "source": [
    "#  Determine the outlier in the below dataset using Z-score.\n",
    "# 1.5895, 1.6508, 1.7131, 1.7136,1.7212, 1.7296, 1.7343, 1.7663, 1.8018, \n",
    "# 1.8394, 1.8869, 1.9357, 1.9482, 2.1038, 10.8135, -0.0012\n",
    "\n",
    "zscore = np.array([1.5895, 1.6508, 1.7131, 1.7136,1.7212, 1.7296, 1.7343, 1.7663, 1.8018, 1.8394, 1.8869, 1.9357, 1.9482, 2.1038, 10.8135, -0.0012])\n",
    "st = np.std(zscore)\n",
    "me = np.mean(zscore)\n",
    "thresh = 3\n",
    "out = []\n",
    "for i in zscore:\n",
    "    z = (i-me)/st\n",
    "    if z < -thresh or z > thresh:\n",
    "        out.append(i)\n",
    "print(f\"Outliers are {out}\")"
   ]
  },
  {
   "cell_type": "code",
   "execution_count": 25,
   "metadata": {},
   "outputs": [
    {
     "data": {
      "image/png": "[encoded data removed]",
      "text/plain": [
       "<Figure size 504x504 with 1 Axes>"
      ]
     },
     "metadata": {
      "needs_background": "light"
     },
     "output_type": "display_data"
    }
   ],
   "source": [
    "# Below is the mark obtained by some students. Construct a bar chart for it:\n",
    "# Student\n",
    "# Marks\n",
    "# Rohan\n",
    "# 83\n",
    "# Bhavya\n",
    "# 72\n",
    "# Sri\n",
    "# 96\n",
    "# Riteish\n",
    "# 37\n",
    "# Neha\n",
    "# 64\n",
    "marks = [83, 72, 96, 37, 64]\n",
    "names = ['Rohan', 'Bhavya', 'Sri', 'Riteish', 'Neha']\n",
    "plt.figure(figsize=(7, 7))\n",
    "plt.bar(names, marks, color = ['r', 'g', 'b', 'y', 'c'])\n",
    "plt.show()"
   ]
  },
  {
   "cell_type": "code",
   "execution_count": 29,
   "metadata": {},
   "outputs": [
    {
     "data": {
      "image/png": "[encoded data removed]",
      "text/plain": [
       "<Figure size 432x288 with 1 Axes>"
      ]
     },
     "metadata": {
      "needs_background": "light"
     },
     "output_type": "display_data"
    }
   ],
   "source": [
    "import seaborn as sns\n",
    "\n",
    "df = {'Students': names,\n",
    "     'Marks' : marks}\n",
    "st_df = pd.DataFrame(df)\n",
    "sns.barplot(st_df.Students, st_df.Marks, order=st_df.sort_values('Marks'))\n",
    "plt.show()"
   ]
  },
  {
   "cell_type": "code",
   "execution_count": 14,
   "metadata": {},
   "outputs": [
    {
     "data": {
      "image/png": "[encoded data removed]",
      "text/plain": [
       "<Figure size 432x288 with 1 Axes>"
      ]
     },
     "metadata": {
      "needs_background": "light"
     },
     "output_type": "display_data"
    }
   ],
   "source": [
    "# Below are some observations obtained from a hospital and shows glucose level of some patients. \n",
    "# Check the correlation of the variables and then tell if it has positive, negative or no relation between them. \n",
    "# Calculate co-variance and also plot a scatter- plot to see the relation visually.\n",
    "age = [46, 24, 28, 42, 59, 48]\n",
    "level = [99, 65, 78, 79, 89, 82]\n",
    "plt.scatter(age, level)\n",
    "plt.xlabel(\"Age\")\n",
    "plt.ylabel(\"Glucose Level\")\n",
    "plt.title(\"Age Vs Glucose Levels\")\n",
    "plt.show()"
   ]
  },
  {
   "cell_type": "code",
   "execution_count": 15,
   "metadata": {},
   "outputs": [
    {
     "name": "stdout",
     "output_type": "stream",
     "text": [
      "0.7345144936647504 is considered as a weak positive correlation\n"
     ]
    }
   ],
   "source": [
    "pearson_correlation_coefficient = pearsonr(age, level)[0]\n",
    "print(f\"{pearson_correlation_coefficient} is considered as a weak positive correlation\")"
   ]
  },
  {
   "cell_type": "code",
   "execution_count": 16,
   "metadata": {},
   "outputs": [
    {
     "data": {
      "image/png": "[encoded data removed]",
      "text/plain": [
       "<Figure size 432x288 with 1 Axes>"
      ]
     },
     "metadata": {
      "needs_background": "light"
     },
     "output_type": "display_data"
    }
   ],
   "source": [
    "# Try to find out if there is any correlation between Physical Activity and Blood Pressure. \n",
    "# Calculate Spearman Rank Correlation.\n",
    "activity = [60, 55, 25, 50, 40, 45, 35, 10, 30, 20]\n",
    "pressure = [118, 117, 120, 121, 119, 122, 123, 124, 125, 126]\n",
    "plt.scatter(activity, pressure)\n",
    "plt.title(\"Physical activity Vs Blood Pressure\")\n",
    "plt.xlabel(\"Physical activity\")\n",
    "plt.ylabel(\"Blood Pressure\")\n",
    "plt.show()"
   ]
  },
  {
   "cell_type": "code",
   "execution_count": 17,
   "metadata": {},
   "outputs": [
    {
     "name": "stdout",
     "output_type": "stream",
     "text": [
      "-0.7575757575757575 is considered as strong negative correlation\n"
     ]
    }
   ],
   "source": [
    "spearman_correlation_coefficient = spearmanr(activity, pressure)[0]\n",
    "print(f\"{spearman_correlation_coefficient} is considered as strong negative correlation\")"
   ]
  },
  {
   "cell_type": "code",
   "execution_count": null,
   "metadata": {},
   "outputs": [],
   "source": []
  }
 ],
 "metadata": {
  "kernelspec": {
   "display_name": "Python 3",
   "language": "python",
   "name": "python3"
  },
  "language_info": {
   "codemirror_mode": {
    "name": "ipython",
    "version": 3
   },
   "file_extension": ".py",
   "mimetype": "text/x-python",
   "name": "python",
   "nbconvert_exporter": "python",
   "pygments_lexer": "ipython3",
   "version": "3.8.3"
  }
 },
 "nbformat": 4,
 "nbformat_minor": 2
}
