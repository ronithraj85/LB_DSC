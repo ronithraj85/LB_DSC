{
 "cells": [
  {
   "cell_type": "markdown",
   "metadata": {
    "colab_type": "text",
    "id": "wNRNTbrsc53d"
   },
   "source": [
    "# If - elif - else statement"
   ]
  },
  {
   "cell_type": "code",
   "execution_count": 1,
   "metadata": {
    "colab": {
     "base_uri": "https://localhost:8080/",
     "height": 68
    },
    "colab_type": "code",
    "id": "MiPfTnBycxNa",
    "outputId": "23b6caa6-d756-4e5d-f386-99d3de9b09f4"
   },
   "outputs": [
    {
     "name": "stdout",
     "output_type": "stream",
     "text": [
      "Enter a number from 0 to 9\n",
      "12\n",
      "Entered number-12 is outside the mentioned range(0-9)\n"
     ]
    }
   ],
   "source": [
    "#W. A P. which takes one number from 0 to 9 from the user and prints it in the word. And if the word is not from 0 to 9 then\n",
    "#it should print that number is outside of the range and program should exit.\n",
    "# For exapmple:- \n",
    "# input = 1\n",
    "# output = one\n",
    "num = int(input(\"Enter a number from 0 to 9\\n\"))\n",
    "if num == 0:\n",
    "  print(f'Entered number is ZERO-{num}')\n",
    "elif num == 1:\n",
    "  print(f'Entered number id ONE-{num}')\n",
    "elif num == 2:\n",
    "  print(f'Entered number id TWO-{num}')\n",
    "elif num == 3:\n",
    "  print(f'Entered number is THREE-{num}')\n",
    "elif num == 4:\n",
    "  print(f'Entered number id FOUR-{num}')\n",
    "elif num == 5:\n",
    "  print(f'Entered number id FIVE-{num}')\n",
    "elif num == 6:\n",
    "  print(f'Entered number is SIX-{num}')\n",
    "elif num == 7:\n",
    "  print(f'Entered number id SEVEN-{num}')\n",
    "elif num == 8:\n",
    "  print(f'Entered number id EIGHT-{num}')\n",
    "elif num == 9:\n",
    "  print(f'Entered number id NINE-{num}')\n",
    "else:\n",
    "  print(f'Entered number-{num} is outside the mentioned range(0-9)')"
   ]
  },
  {
   "cell_type": "code",
   "execution_count": 7,
   "metadata": {
    "colab": {},
    "colab_type": "code",
    "id": "vEMNOv9zdA39"
   },
   "outputs": [
    {
     "name": "stdout",
     "output_type": "stream",
     "text": [
      "******************************Calculator******************************\n",
      "Please enter two numbers,\n",
      "Enter the first number:\n",
      "200\n",
      "Enter the second number:\n",
      "13\n",
      "Please select any operation from below, \n",
      "\t * To add select: 1\n",
      "\t * To subtract select: 2\n",
      "\t * To multiply select: 3\n",
      "\t * To divide select: 4\n",
      "\t * To get quotient after dividing select: 5\n",
      "\t * To get remainder after dividing select: 6\n",
      "\t * To find first number to the power of second number select: 7\n",
      "\t * To exit the calculator select: 8\n",
      "How many times are you willing to do the opertions with the calculator:\n",
      "3\n",
      "Select any one option from 1 to 8 for respective operations:\n",
      "2\n",
      "Subtracting 200 and 13, result is '187'\n",
      "Select any one option from 1 to 8 for respective operations:\n",
      "6\n",
      "Remainder of 200 and 13,is '5'\n",
      "Select any one option from 1 to 8 for respective operations:\n",
      "10\n",
      "Selected value is not in the mentioned range(1-8)\n"
     ]
    }
   ],
   "source": [
    "#W. A P. to implement calculator but the operation to be done and two numbers will be taken as input from user:-\n",
    "#Operation console should show below:-\n",
    "#     Please select any one operation from below:-\n",
    "#         * To add enter 1\n",
    "#         * to subtract enter 2\n",
    "#         * To multiply enter 3\n",
    "#         * To divide enter 4\n",
    "#         * To divide and find quotient enter 5\n",
    "#         * To divide and find remainder enter 6\n",
    "#         * To divide and find num1 to the power of num2 enter 7\n",
    "#         * To Come out of the program enter 8\n",
    "\n",
    "print(\"Calculator\".rjust(40, '*').ljust(70,'*'))\n",
    "print('Please enter two numbers,')\n",
    "first_number = int(input(\"Enter the first number:\\n\"))\n",
    "second_number = int(input(\"Enter the second number:\\n\"))\n",
    "print(\"\"\"Please select any operation from below, \n",
    "\\t * To add select: 1\n",
    "\\t * To subtract select: 2\n",
    "\\t * To multiply select: 3\n",
    "\\t * To divide select: 4\n",
    "\\t * To get quotient after dividing select: 5\n",
    "\\t * To get remainder after dividing select: 6\n",
    "\\t * To find first number to the power of second number select: 7\n",
    "\\t * To exit the calculator select: 8\"\"\")\n",
    "calculator_count = int(input('How many times are you willing to do the opertions with the calculator:\\n'))\n",
    "while calculator_count != 0:\n",
    "    print(\"Select any one option from 1 to 8 for respective operations:\")\n",
    "    option = int(input())\n",
    "    if option == 1:\n",
    "        print(f\"Adding {first_number} and {second_number}, result is '{first_number + second_number}'\")\n",
    "    elif option == 2:\n",
    "        if(first_number > second_number):\n",
    "            print(f\"Subtracting {first_number} and {second_number}, result is '{first_number - second_number}'\")   \n",
    "        else:\n",
    "            print(f\"Subtracting {second_number} and {first_number}, result is '{second_number - first_number}'\")   \n",
    "    elif option == 3:\n",
    "        print(f\"Multiplying {first_number} and {second_number}, result is '{first_number * second_number}'\")\n",
    "    elif option == 4:\n",
    "        print(f\"Dividing {first_number} with {second_number}, result is '{first_number / second_number}'\")   \n",
    "    elif option == 5:\n",
    "        print(f\"Quotient of {first_number} and {second_number},is '{first_number // second_number}'\")  \n",
    "    elif option == 6:\n",
    "        print(f\"Remainder of {first_number} and {second_number},is '{first_number % second_number}'\") \n",
    "    elif option == 7:\n",
    "        print(f\"{first_number} to the power of {second_number}, result is '{first_number ** second_number}'\")   \n",
    "    elif option == 8:\n",
    "        print(\"Calculator operations closed\")\n",
    "    else:\n",
    "        print(\"Selected value is not in the mentioned range(1-8)\")\n",
    "    calculator_count -= 1"
   ]
  },
  {
   "cell_type": "code",
   "execution_count": 7,
   "metadata": {
    "colab": {},
    "colab_type": "code",
    "id": "1e2gwYLqdC1s"
   },
   "outputs": [
    {
     "name": "stdout",
     "output_type": "stream",
     "text": [
      "Enter an year to check if it is a leap year or not:\n",
      "1700\n",
      "Entered 1700 is not a leap year\n"
     ]
    }
   ],
   "source": [
    "#W A P to check whether a year entered by user is an leap year or not?\n",
    "#Check with below input:-\n",
    "    #leap year:- 2012, 1968, 2004, 1200, 1600,2400\n",
    "    #Non-lear year:- 1971, 2006, 1700,1800,1900\n",
    "\n",
    "year = int(input(\"Enter an year to check if it is a leap year or not:\\n\"))\n",
    "if year%4 == 0:\n",
    "    if year%100 == 0:\n",
    "        if year%400 == 0:\n",
    "            print(f\"Entered {year} is a Leap year\")\n",
    "        else:\n",
    "            print(f\"Entered {year} is not a leap year\")\n",
    "    else:\n",
    "        print(f\"Entered {year} is a Leap year\")\n",
    "else:\n",
    "    print(f\"Entered {year} is not a leap year\")"
   ]
  },
  {
   "cell_type": "code",
   "execution_count": 9,
   "metadata": {
    "colab": {},
    "colab_type": "code",
    "id": "_tpXv1EtdEre"
   },
   "outputs": [
    {
     "name": "stdout",
     "output_type": "stream",
     "text": [
      "Enter a number to check if it is an odd or even number?\n",
      "1\n",
      "Entered 1 is an odd number\n"
     ]
    }
   ],
   "source": [
    "#W A P which takes one number from the user and checks whether it is an even or odd number?, If it even then prints number is \n",
    "#even number else prints that number is odd number.\n",
    "\n",
    "even_odd_check = int(input(\"Enter a number to check if it is an odd or even number?\\n\"))\n",
    "if even_odd_check % 2 == 0:\n",
    "    print(f\"Entered {even_odd_check} is an even number\")\n",
    "else:\n",
    "    print(f\"Entered {even_odd_check} is an odd number\")"
   ]
  },
  {
   "cell_type": "code",
   "execution_count": 13,
   "metadata": {},
   "outputs": [
    {
     "name": "stdout",
     "output_type": "stream",
     "text": [
      "Enter a number to check if it is an odd or even number?\n",
      "12\n",
      "Entered number is an Even number\n"
     ]
    }
   ],
   "source": [
    "even_odd_check = int(input(\"Enter a number to check if it is an odd or even number?\\n\"))\n",
    "even_odd_result = 'Even number' if even_odd_check%2 == 0 else 'Odd number'\n",
    "print(f\"Entered number is an {even_odd_result}\")"
   ]
  },
  {
   "cell_type": "code",
   "execution_count": 27,
   "metadata": {
    "colab": {},
    "colab_type": "code",
    "id": "Q1HumymCdG6i"
   },
   "outputs": [
    {
     "name": "stdout",
     "output_type": "stream",
     "text": [
      "Enter first number:\n",
      "24\n",
      "Enter second number:\n",
      "14\n",
      "24 is greater than 14.\n"
     ]
    }
   ],
   "source": [
    "#W A P which takes two numbers from the user and prints below output:-\n",
    "#     1. num1 is greater than num2 if num1 is greater than num2\n",
    "#     2. num1 is smaller than num2 if num1 is smaller than num2\n",
    "#     3. num1 is equal to num2 if num1 and num2 are equal\n",
    "\n",
    "#Note:- 1. Do this problem using if - else \n",
    "#       2. Do this using ternary operator\n",
    "\n",
    "num1 = int(input(\"Enter first number:\\n\"))\n",
    "num2 = int(input(\"Enter second number:\\n\"))\n",
    "if num1 == num2:\n",
    "    print(f\"{num1} and {num2} are equal.\")\n",
    "elif num1 > num2:\n",
    "    print(f\"{num1} is greater than {num2}.\")\n",
    "else:\n",
    "    print(f\"{num2} is greater than {num1}.\")"
   ]
  },
  {
   "cell_type": "code",
   "execution_count": 35,
   "metadata": {},
   "outputs": [
    {
     "name": "stdout",
     "output_type": "stream",
     "text": [
      "Enter first number:\n",
      "13\n",
      "Enter second number:\n",
      "2\n",
      "13 is the greater number.\n"
     ]
    }
   ],
   "source": [
    "#Using the ternary operator\n",
    "num1 = int(input(\"Enter first number:\\n\"))\n",
    "num2 = int(input(\"Enter second number:\\n\"))\n",
    "greater_number = print(f'{num1} and {num2} are equal.') if num1 == num2 else num1 if num1 > num2 else num2\n",
    "if greater_number == None:\n",
    "    pass\n",
    "else:\n",
    "    print(f'{greater_number} is the greater number.')"
   ]
  },
  {
   "cell_type": "code",
   "execution_count": 37,
   "metadata": {
    "colab": {},
    "colab_type": "code",
    "id": "LR6TVB-DdOPf"
   },
   "outputs": [
    {
     "name": "stdout",
     "output_type": "stream",
     "text": [
      "Enter first number:\n",
      "1\n",
      "Enter second number:\n",
      "2\n",
      "Enter third number:\n",
      "34\n",
      "34 is greater than 1 and 2\n"
     ]
    }
   ],
   "source": [
    "#W A P which takes three numbers from the user and prints below output:-\n",
    "#     1. num1 is greater than num2 and num3 if num1 is greater than num2 and num3\n",
    "#     2. num2 is greater than num1 and num3 if num2 is greater than num1 and num3\n",
    "#     3. num3 is greater than num1 and num2 if num3 is greater than num1 and num2\n",
    "\n",
    "#Note:- 1. Do this problem using if - elif - else \n",
    "#       2. Do this using ternary operator\n",
    "\n",
    "num1 = int(input(\"Enter first number:\\n\"))\n",
    "num2 = int(input(\"Enter second number:\\n\"))\n",
    "num3 = int(input(\"Enter third number:\\n\"))\n",
    "\n",
    "if(num1 == num2 == num3):\n",
    "    print(f\"{num1},{num2} and {num3} are equal.\")\n",
    "elif num1 > num2 and num1 > num3:\n",
    "    print(f\"{num1} is greater than {num2} and {num3}.\")\n",
    "elif num2 > num3:\n",
    "    print(f\"{num2} is greater than {num1} and {num3}\")\n",
    "else:\n",
    "    print(f\"{num3} is greater than {num1} and {num2}\")\n",
    "    "
   ]
  },
  {
   "cell_type": "code",
   "execution_count": 41,
   "metadata": {},
   "outputs": [
    {
     "name": "stdout",
     "output_type": "stream",
     "text": [
      "Enter first number:\n",
      "12\n",
      "Enter second number:\n",
      "23\n",
      "Enter third number:\n",
      "343\n",
      "343 is the greater number.\n"
     ]
    }
   ],
   "source": [
    "#using the ternary operator\n",
    "num1 = int(input(\"Enter first number:\\n\"))\n",
    "num2 = int(input(\"Enter second number:\\n\"))\n",
    "num3 = int(input(\"Enter third number:\\n\"))\n",
    "\n",
    "greater_number = print(f\"{num1},{num2} and {num3} are equal.\") if num1 == num2 == num3 else num1 if num1 > num2 and num1 > num3 else num2 if num2 > num3 else num3\n",
    "if greater_number == None:\n",
    "    pass\n",
    "else:\n",
    "    print(f'{greater_number} is the greater number.')"
   ]
  },
  {
   "cell_type": "markdown",
   "metadata": {
    "colab_type": "text",
    "id": "IoOLQMUGdSox"
   },
   "source": [
    "# Loops - for loop, while loop"
   ]
  },
  {
   "cell_type": "code",
   "execution_count": 46,
   "metadata": {
    "colab": {},
    "colab_type": "code",
    "id": "9K23Uld8dQfA",
    "scrolled": true
   },
   "outputs": [
    {
     "name": "stdout",
     "output_type": "stream",
     "text": [
      "Please enter a string:-\n",
      "abcdefghijklmnopqrstuvwxyz\n",
      "Length of the string is 26\n"
     ]
    }
   ],
   "source": [
    "#Write a Python program to find the length of the my_str using loop:-\n",
    "\n",
    "#Input:- 'Write a Python program to find the length of the my_str'\n",
    "#Output:- 55\n",
    "my_str = input(\"Please enter a string:-\\n\")\n",
    "string_count = 0 \n",
    "for i in my_str:\n",
    "    string_count += 1\n",
    "print(f'Length of the string is {string_count}')"
   ]
  },
  {
   "cell_type": "code",
   "execution_count": 52,
   "metadata": {
    "colab": {},
    "colab_type": "code",
    "id": "bp6AcqTsdYxy"
   },
   "outputs": [
    {
     "name": "stdout",
     "output_type": "stream",
     "text": [
      "Enter the string to find total number of letter-p's\n",
      "peter piper picked a peck of pickled peppers.\n",
      "Total number of p's found are-9\n"
     ]
    }
   ],
   "source": [
    "#Write a Python program to find the total number of times letter 'p' is appeared in the below string using loop:-\n",
    "    \n",
    "#Input:- 'peter piper picked a peck of pickled peppers.\\n'\n",
    "#Output:- 9\n",
    "p_input = input(\"Enter the string to find total number of letter-p's\\n\")\n",
    "p_count = 0\n",
    "for p_check in p_input:\n",
    "    if p_check == 'p':\n",
    "        p_count += 1\n",
    "print(f\"Total number of p's found are-{p_count}\")        "
   ]
  },
  {
   "cell_type": "code",
   "execution_count": 59,
   "metadata": {
    "colab": {},
    "colab_type": "code",
    "id": "xvxSBhTJdav1"
   },
   "outputs": [
    {
     "name": "stdout",
     "output_type": "stream",
     "text": [
      "Enter the string to find index of letter-p\n",
      "peter piper picked a peck of pickled peppers.p\n",
      "0\n",
      "6\n",
      "8\n",
      "12\n",
      "21\n",
      "29\n",
      "37\n",
      "39\n",
      "40\n",
      "45\n"
     ]
    }
   ],
   "source": [
    "#Write a Python Program, to print all the indexes of all occurences of letter 'p' appeared in the string using loop:-\n",
    "    \n",
    "#Input:- 'peter piper picked a peck of pickled peppers.'\n",
    "#Output:- \n",
    "# 0\n",
    "# 6\n",
    "# 8\n",
    "# 12\n",
    "# 21\n",
    "# 29\n",
    "# 37\n",
    "# 39\n",
    "# 40\n",
    "p_input = input(\"Enter the string to find index of letter-p\\n\")\n",
    "for p_check in range(len(p_input)):\n",
    "    if p_input[p_check] == 'p':\n",
    "        print(p_check)"
   ]
  },
  {
   "cell_type": "code",
   "execution_count": 81,
   "metadata": {
    "colab": {},
    "colab_type": "code",
    "id": "79L_feMadbmw",
    "scrolled": true
   },
   "outputs": [
    {
     "name": "stdout",
     "output_type": "stream",
     "text": [
      "Final list contains-\n",
      "['peter', ' piper', ' picked', ' a', ' peck', ' of', ' pickled', ' peppers']\n"
     ]
    }
   ],
   "source": [
    "#Write a python program to find below output using loop:-\n",
    "\n",
    "#Input:- 'peter piper picked a peck of pickled peppers.'\n",
    "#Output:- ['peter', 'piper', 'picked', 'a', 'peck', 'of', 'pickled', 'peppers']\n",
    "my_input = 'peter piper picked a peck of pickled peppers.'\n",
    "my_word = ''\n",
    "my_list = []\n",
    "for str in my_input:\n",
    "    if str == ' ' or str == '.':  \n",
    "        my_list.append(my_word)\n",
    "        my_word = ' '\n",
    "    else:\n",
    "        my_word += str\n",
    "print(f\"Final list contains-\\n{my_list}\")"
   ]
  },
  {
   "cell_type": "code",
   "execution_count": 479,
   "metadata": {
    "colab": {},
    "colab_type": "code",
    "id": "vzs5AJ53deVS"
   },
   "outputs": [
    {
     "name": "stdout",
     "output_type": "stream",
     "text": [
      "Final string - peppers pickled  of  peck  a  picked  piper peter \n"
     ]
    }
   ],
   "source": [
    "#Write a python program to find below output using loop:-\n",
    "\n",
    "#Input:- 'peter piper picked a peck of pickled peppers.'\n",
    "#Output:- 'peppers pickled of peck a picked piper peter'\n",
    "my_input = 'peter piper picked a peck of pickled peppers.'\n",
    "# \n",
    "len_str = len(my_input) - 1\n",
    "my_word=''\n",
    "final_string = ''\n",
    "word_count = len_str\n",
    "space_position = len_str -1\n",
    "while len_str >= 0:\n",
    "    if my_input[len_str] == ' ' or len_str == 0 :\n",
    "        final_string += my_input[word_count:(space_position+1)]\n",
    "        space_position = word_count \n",
    "        word_count -= 1\n",
    "    else:\n",
    "        word_count -= 1\n",
    "    len_str -= 1\n",
    "\n",
    "print(f\"Final string -{final_string}\")\n",
    "\n",
    "# while len_str >= 0:\n",
    "#     if my_input[len_str] == ' ' or len_str == 0:\n",
    "#         final_string += my_input[(word_count):(space_position+1)]\n",
    "#         print(f'Space position-{space_position},my_word-{my_word},Word-{my_input[space_position]}')\n",
    "#         space_position = word_count \n",
    "#         \n",
    "#     else:\n",
    "#         word_count -= 1\n",
    "#     len_str -= 1\n",
    "    \n",
    "#     if my_input[len_str] == ' ':\n",
    "#         final_string += my_word + my_input[len_str]\n",
    "#         my_word = ''\n",
    "#     else:\n",
    "#         my_word += my_input[len_str]\n",
    "#     len_str -= 1\n",
    "\n"
   ]
  },
  {
   "cell_type": "code",
   "execution_count": 128,
   "metadata": {
    "colab": {},
    "colab_type": "code",
    "id": "i-HP7DrCdhwS"
   },
   "outputs": [
    {
     "name": "stdout",
     "output_type": "stream",
     "text": [
      ".sreppep delkcip fo kcep a dekcip repip retep."
     ]
    }
   ],
   "source": [
    "#Write a python program to find below output using loop:-\n",
    "\n",
    "#Input:- 'peter piper picked a peck of pickled peppers.'\n",
    "#Output:- '.sreppep delkcip fo kcep a dekcip repip retep'\n",
    "my_input = 'peter piper picked a peck of pickled peppers.'\n",
    "len_str = len(my_input) \n",
    "while len_str >= 0:\n",
    "        len_str -= 1\n",
    "        print(my_input[len_str], end= '')\n"
   ]
  },
  {
   "cell_type": "code",
   "execution_count": 216,
   "metadata": {
    "colab": {},
    "colab_type": "code",
    "id": "3rt6p0ytdkq0"
   },
   "outputs": [
    {
     "name": "stdout",
     "output_type": "stream",
     "text": [
      "retep repip dekcip a kcep fo delkcip sreppep \n"
     ]
    }
   ],
   "source": [
    "#Write a python program to find below output using loop:-\n",
    "\n",
    "#Input:- 'peter piper picked a peck of pickled peppers.'\n",
    "#Output:- 'retep repip dekcip a kcep fo delkcip sreppep'\n",
    "\n",
    "my_input = 'peter piper picked a peck of pickled peppers.'\n",
    "# space_position = -1\n",
    "len_str = len(my_input) - 1\n",
    "# word_count = 0\n",
    "final_string = ''\n",
    "str = ''\n",
    "for i in my_input:\n",
    "    if i == ' ' or i == '.':\n",
    "        final_string += str + ' '\n",
    "        str = ''\n",
    "    else:\n",
    "        str = i + str\n",
    "#         word_count += 1\n",
    "print(final_string)"
   ]
  },
  {
   "cell_type": "code",
   "execution_count": 283,
   "metadata": {
    "colab": {},
    "colab_type": "code",
    "id": "HdlAWgT2dnKO"
   },
   "outputs": [
    {
     "name": "stdout",
     "output_type": "stream",
     "text": [
      "Peter Piper Picked A Peck Of Pickled Peppers.\n"
     ]
    }
   ],
   "source": [
    "#Write a python program to find below output using loop:-\n",
    "\n",
    "#Input:- 'peter piper picked a peck of pickled peppers.'\n",
    "#Output:- 'Peter Piper Picked A Peck Of Pickled Peppers'\n",
    "my_input = 'peter piper picked a peck of pickled peppers.'\n",
    "my_output = ''\n",
    "my_output += (my_input[0].capitalize())\n",
    "#for i in range(1,len(my_input)):\n",
    "i=1\n",
    "while i < len(my_input):\n",
    "    if my_input[i] == ' ':\n",
    "        my_output += my_input[i]\n",
    "        my_output += my_input[i+1].capitalize()\n",
    "        i+=2\n",
    "    else:\n",
    "        my_output += my_input[i]\n",
    "        i+=1\n",
    "        \n",
    "print(my_output)"
   ]
  },
  {
   "cell_type": "code",
   "execution_count": 291,
   "metadata": {
    "colab": {},
    "colab_type": "code",
    "id": "OthUuacodrNl"
   },
   "outputs": [
    {
     "name": "stdout",
     "output_type": "stream",
     "text": [
      "Peter piper picked a peck of pickled peppers.\n"
     ]
    }
   ],
   "source": [
    "#Write a python program to find below output using loop:-\n",
    "\n",
    "#Input:- 'Peter Piper Picked A Peck Of Pickled Peppers.'\n",
    "#Output:- 'Peter piper picked a peck of pickled peppers'\n",
    "my_input = 'Peter Piper Picked A Peck Of Pickled Peppers.'\n",
    "my_output = ''\n",
    "# my_output += (my_input[0].capitalize())\n",
    "#for i in range(1,len(my_input)):\n",
    "i=0 \n",
    "while i < len(my_input):\n",
    "    if my_input[i] == ' ':\n",
    "        my_output += my_input[i]\n",
    "        my_output += my_input[i+1].lower()\n",
    "        i+=2\n",
    "    else:\n",
    "        my_output += my_input[i]\n",
    "        i+=1\n",
    "        \n",
    "print(my_output)"
   ]
  },
  {
   "cell_type": "code",
   "execution_count": 359,
   "metadata": {
    "colab": {},
    "colab_type": "code",
    "id": "scmDJE-ldsI9"
   },
   "outputs": [
    {
     "name": "stdout",
     "output_type": "stream",
     "text": [
      "Sub-string found at index-29\n"
     ]
    }
   ],
   "source": [
    "#Write a python program to implement index method using loop. If sub_str is found in my_str then it will print the index\n",
    "# of first occurrence of first character of matching string in my_str:-\n",
    "\n",
    "#Input:- my_str = 'Peter Piper Picked A Peck Of Pickled Peppers.', sub_str = 'Pickl'\n",
    "#Output:- 29\n",
    "# Pet et\n",
    "# 012\n",
    "start = 0\n",
    "end = 0\n",
    "my_input = \"Peter Piper Picked A Peck Of Pickled Peppers.\"\n",
    "sub_string = \"Pickl\"\n",
    "while start < len(my_input):\n",
    "    if my_input[start+end] != sub_string[end]:    \n",
    "        start += 1\n",
    "        end = 0\n",
    "        continue\n",
    "    end += 1\n",
    "    if end == len(sub_string):\n",
    "        print(f\"Sub-string found at index-{start}\")\n",
    "        break"
   ]
  },
  {
   "cell_type": "code",
   "execution_count": 393,
   "metadata": {
    "colab": {},
    "colab_type": "code",
    "id": "Kq_fwdb_dvYE"
   },
   "outputs": [
    {
     "name": "stdout",
     "output_type": "stream",
     "text": [
      "Input string is-\n",
      "Peter Piper Picked A Peck Of Pickled Peppers.\n",
      "Final list contains-\n",
      "Peter Piper Picked A Pack Of Pickled Peppers \n"
     ]
    }
   ],
   "source": [
    "#Write a python program to implement replace method using loop. If sub_str is found in my_str then it will replace the first \n",
    "#occurrence of sub_str with new_str else it will will print sub_str not found:-\n",
    "\n",
    "#Input:- my_str = 'Peter Piper Picked A Peck Of Pickled Peppers.', sub_str = 'Peck', new_str = 'Pack'\n",
    "#Output:- 'Peter Piper Picked A Pack Of Pickled Peppers.'\n",
    "\n",
    "my_str = 'Peter Piper Picked A Peck Of Pickled Peppers.'\n",
    "print(f\"Input string is-\\n{my_str}\")\n",
    "my_word = ''\n",
    "my_list = ''\n",
    "sub_str = 'Peck'\n",
    "for str in my_str:\n",
    "    if str == ' ' or str == '.': \n",
    "        if my_word == sub_str:\n",
    "            new_str = 'Pack'\n",
    "            my_list += new_str+' '\n",
    "            my_word = ''\n",
    "        else:\n",
    "            my_list += my_word+' '\n",
    "            my_word = ''            \n",
    "    else:\n",
    "        my_word += str\n",
    "print(f\"Final list contains-\\n{my_list}\")\n"
   ]
  },
  {
   "cell_type": "code",
   "execution_count": 416,
   "metadata": {
    "colab": {},
    "colab_type": "code",
    "id": "4Qes5D0cdyd1"
   },
   "outputs": [
    {
     "name": "stdout",
     "output_type": "stream",
     "text": [
      "Original string-\n",
      "Peter Piper Picked A Peck Of Pickled Peppers.\n",
      "Final list contains-\n",
      "*********************Peck********************\n"
     ]
    }
   ],
   "source": [
    "#Write a python program to find below output (implements rjust and ljust) using loop:-\n",
    "\n",
    "#Input:- 'Peter Piper Picked A Peck Of Pickled Peppers.', sub_str = 'Peck', \n",
    "#Output:- '*********************Peck********************'\n",
    "my_str = 'Peter Piper Picked A Peck Of Pickled Peppers.'\n",
    "print(f\"Original string-\\n{my_str}\")\n",
    "my_word = ''\n",
    "my_list = ''\n",
    "sub_str = 'Peck'\n",
    "a_count = 0\n",
    "for str in my_str:\n",
    "    if str == ' ' or str == '.':\n",
    "        a_count += 1\n",
    "        if my_word == sub_str:\n",
    "            my_list += my_word \n",
    "            my_word = ''\n",
    "            a_count = 1\n",
    "        else:\n",
    "            my_word = ''     \n",
    "            my_list += '*'*a_count\n",
    "            a_count = 0\n",
    "    else:\n",
    "        my_word += str\n",
    "        a_count += 1\n",
    "print(f\"Final list contains-\\n{my_list}\")"
   ]
  },
  {
   "cell_type": "code",
   "execution_count": 492,
   "metadata": {
    "colab": {},
    "colab_type": "code",
    "id": "DsOrb07Od0lR"
   },
   "outputs": [
    {
     "name": "stdout",
     "output_type": "stream",
     "text": [
      "List has=['This', 'is', 'Python class']\n"
     ]
    }
   ],
   "source": [
    "#Write a python program to find below output using loop:-\n",
    "\n",
    "#Input:- 'This is Python class', sep = 'is', \n",
    "\n",
    "#Output:- ['This', 'is', 'Python class']\n",
    "\n",
    "my_str = 'This is Python class' \n",
    "my_sep = 'is'\n",
    "my_word = ''\n",
    "word=''\n",
    "my_list = []\n",
    "str = 0\n",
    "while str < len(my_str):\n",
    "    if my_str[str] == ' ' or str == len(my_str)-1:\n",
    "        if my_word == my_sep:\n",
    "            word = word.strip()\n",
    "            my_list.append(word)\n",
    "            my_list.append(my_word)\n",
    "            my_word = ''\n",
    "            word =''\n",
    "        else:\n",
    "            my_word+=' '\n",
    "            word += my_word\n",
    "            my_word = ''\n",
    "\n",
    "    else:\n",
    "        my_word += my_str[str]\n",
    "    str +=1\n",
    "\n",
    "word = word.strip()\n",
    "word += my_str[str-1]\n",
    "my_list.append(word)\n",
    "\n",
    "print(f'List has={my_list}')"
   ]
  },
  {
   "cell_type": "code",
   "execution_count": 489,
   "metadata": {},
   "outputs": [
    {
     "name": "stdout",
     "output_type": "stream",
     "text": [
      "List has=['This', 'is', 'Pythonclass']\n"
     ]
    }
   ],
   "source": [
    "#Write a python program to find below output using loop:-\n",
    "\n",
    "#Input:- 'This is Python class', sep = 'is', \n",
    "\n",
    "#Output:- ['This', 'is', 'Python class']\n",
    "\n",
    "my_str = 'This is Python class' \n",
    "my_sep = 'is'\n",
    "my_word = ''\n",
    "word=''\n",
    "my_list = []\n",
    "str = 0\n",
    "while str < len(my_str):\n",
    "    if my_str[str] == ' ' or str == len(my_str)-1:\n",
    "        if my_word == my_sep:\n",
    "            my_list.append(word)\n",
    "            my_list.append(my_word)\n",
    "            my_word = ''\n",
    "            word =''\n",
    "        else:\n",
    "            word += my_word\n",
    "            my_word = ''\n",
    "\n",
    "    else:\n",
    "        my_word += my_str[str]\n",
    "    str +=1\n",
    "\n",
    "word += my_str[str-1]\n",
    "my_list.append(word)\n",
    "\n",
    "print(f'List has={my_list}')"
   ]
  },
  {
   "cell_type": "code",
   "execution_count": 477,
   "metadata": {
    "colab": {},
    "colab_type": "code",
    "id": "jRnBVufmd2Ay"
   },
   "outputs": [
    {
     "name": "stdout",
     "output_type": "stream",
     "text": [
      "1.Input is - Python\n",
      "1.Output is - R{vjqp\n",
      "*****\n",
      "2.Input is - Python\n",
      "2.Output is - Rwvfql\n",
      "*****\n",
      "3.Input is - Python\n",
      "3.Output is - R{vfml\n"
     ]
    }
   ],
   "source": [
    "#Write a python program which takes one input string from user and encode it in below format:-\n",
    "#     1. #Input:- 'Python'\n",
    "       #Output:- 'R{vjqp'\n",
    "        \n",
    "my_input = 'Python'\n",
    "out = ''\n",
    "for str in range(len(my_input)):\n",
    "    if my_input[str] != 'y':\n",
    "        out += chr(ord(my_input[str])+2)\n",
    "    else:\n",
    "        out += '{'\n",
    "print(f'1.Input is - {my_input}')\n",
    "print(f'1.Output is - {out}')\n",
    "\n",
    "\n",
    "#     2. #Input:- 'Python'\n",
    "       #Output:- 'Rwvfql'\n",
    "        \n",
    "        \n",
    "s = 'Python'\n",
    "out_str = ''\n",
    "for i in range(len(s)):\n",
    "    if i % 2 == 0:\n",
    "        out_str += chr(ord(s[i])+2)\n",
    "    else:\n",
    "        out_str += chr(ord(s[i])-2)\n",
    "print('*'*5)\n",
    "print(f'2.Input is - {my_input}')\n",
    "print(f'2.Output is - {out_str}')\n",
    "        \n",
    "    \n",
    "#     3. #Input:- 'Python'\n",
    "       #Output:- ' R{vfml'\n",
    "        \n",
    "str = 'Python'\n",
    "out_str_op = \"\"\n",
    "for i in range(len(str)):\n",
    "    if str[i] == 'y':\n",
    "        out_str_op += '{'\n",
    "    elif i % 2 == 0 and str[i] != 'o':\n",
    "        out_str_op += chr(ord(str[i])+2)\n",
    "    else:\n",
    "        out_str_op += chr(ord(str[i])-2)\n",
    "        \n",
    "print('*'*5)\n",
    "print(f'3.Input is - {str}')\n",
    "print(f'3.Output is - {out_str_op}')"
   ]
  }
 ],
 "metadata": {
  "colab": {
   "collapsed_sections": [],
   "name": "Ronith_Conditional_and_loop_assignment.ipynb",
   "provenance": []
  },
  "kernelspec": {
   "display_name": "Python 3",
   "language": "python",
   "name": "python3"
  },
  "language_info": {
   "codemirror_mode": {
    "name": "ipython",
    "version": 3
   },
   "file_extension": ".py",
   "mimetype": "text/x-python",
   "name": "python",
   "nbconvert_exporter": "python",
   "pygments_lexer": "ipython3",
   "version": "3.7.1"
  }
 },
 "nbformat": 4,
 "nbformat_minor": 1
}
