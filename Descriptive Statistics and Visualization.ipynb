{
 "cells": [
  {
   "cell_type": "markdown",
   "metadata": {},
   "source": [
    "# Descriptive Statistics and Charts"
   ]
  },
  {
   "cell_type": "markdown",
   "metadata": {},
   "source": [
    "## Mean, Median, Mode, Standard Deviation and Variance"
   ]
  },
  {
   "cell_type": "code",
   "execution_count": 2,
   "metadata": {},
   "outputs": [
    {
     "name": "stdout",
     "output_type": "stream",
     "text": [
      "5.2727272727272725\n",
      "4.0\n",
      "ModeResult(mode=array([9]), count=array([5]))\n",
      "3.492613220417917\n",
      "12.198347107438014\n"
     ]
    }
   ],
   "source": [
    "#Mean, Median, Mode, Standard Deviation, Variance\n",
    "import numpy as np\n",
    "from scipy import stats\n",
    "data = [1,1,2,2,3,4,9,9,9,9,9]\n",
    "\n",
    "x = np.mean(data)\n",
    "y = np.median(data)\n",
    "z = stats.mode(data)\n",
    "m = np.std(data)\n",
    "n = np.var(data)\n",
    "\n",
    "print(x)\n",
    "print(y)\n",
    "print(z)\n",
    "print(m)\n",
    "print(n)"
   ]
  },
  {
   "cell_type": "code",
   "execution_count": 3,
   "metadata": {},
   "outputs": [
    {
     "name": "stdout",
     "output_type": "stream",
     "text": [
      "[1, 2]\n"
     ]
    }
   ],
   "source": [
    "#Multi-Mode\n",
    "from collections import Counter\n",
    "data = Counter([1,1,2,2,3,4,5])\n",
    "list1 = data.most_common()  #return all unique items and their counts\n",
    "list1\n",
    "max = list1[0][1]\n",
    "list2 = []\n",
    "\n",
    "for i in list1:\n",
    "    if i[1] == max:\n",
    "        list2.append(i[0])\n",
    "print(list2)"
   ]
  },
  {
   "cell_type": "markdown",
   "metadata": {},
   "source": [
    "## 5 Number Summary"
   ]
  },
  {
   "cell_type": "markdown",
   "metadata": {},
   "source": [
    "##### Method - 1"
   ]
  },
  {
   "cell_type": "code",
   "execution_count": 4,
   "metadata": {},
   "outputs": [
    {
     "name": "stdout",
     "output_type": "stream",
     "text": [
      "[19.  24.  28.5 33.  39. ]\n"
     ]
    }
   ],
   "source": [
    "#data = [0, 0, 1, 2, 63, 61, 27, 13]\n",
    "data = [19,22,23,25,26,28,29,31,32,34,37,39]\n",
    "print(np.percentile(data, [0, 25, 50, 75, 100], interpolation = 'midpoint'))"
   ]
  },
  {
   "cell_type": "markdown",
   "metadata": {},
   "source": [
    "##### Method - 2"
   ]
  },
  {
   "cell_type": "code",
   "execution_count": 5,
   "metadata": {},
   "outputs": [
    {
     "name": "stdout",
     "output_type": "stream",
     "text": [
      "[ 0.   0.5  7.5 44.  63. ]\n"
     ]
    }
   ],
   "source": [
    "import numpy as np\n",
    "\n",
    "def fivept(data):\n",
    "    \"\"\"To find out the Five number summary\"\"\"\n",
    "    \n",
    "    return np.percentile(data, [0, 25, 50, 75, 100], interpolation = 'midpoint')\n",
    "\n",
    "datapoints = [0, 0, 1, 2, 63, 61, 27, 13]\n",
    "\n",
    "print(fivept(datapoints))"
   ]
  },
  {
   "cell_type": "markdown",
   "metadata": {},
   "source": [
    "## Data Visualization used for Descriptive Stats"
   ]
  },
  {
   "cell_type": "markdown",
   "metadata": {},
   "source": [
    "### Line Chart"
   ]
  },
  {
   "cell_type": "code",
   "execution_count": 6,
   "metadata": {},
   "outputs": [
    {
     "data": {
      "text/plain": [
       "<Figure size 640x480 with 1 Axes>"
      ]
     },
     "metadata": {},
     "output_type": "display_data"
    }
   ],
   "source": [
    "#Line Chart\n",
    "import matplotlib.pyplot as plt\n",
    "plt.plot([1, 2, 3, 4], [1, 4, 9, 16])\n",
    "plt.ylabel('Y-Axis')\n",
    "plt.xlabel('X-Axis')\n",
    "plt.title('Line Chart')\n",
    "plt.show()"
   ]
  },
  {
   "cell_type": "markdown",
   "metadata": {},
   "source": [
    "### Bar Chart"
   ]
  },
  {
   "cell_type": "code",
   "execution_count": 7,
   "metadata": {},
   "outputs": [
    {
     "data": {
      "image/png": "[encoded data removed]",
      "text/plain": [
       "<Figure size 432x288 with 1 Axes>"
      ]
     },
     "metadata": {},
     "output_type": "display_data"
    }
   ],
   "source": [
    "#Bar Chart\n",
    "import matplotlib.pyplot as plt\n",
    "plt.bar(['Python', 'Stats', 'ML', 'Deep Learning', 'SQL'],[80,69,74,56,12], label=\"DS Student Count\", color = 'b')\n",
    "#plt.legend()\n",
    "plt.xlabel('Subject', color = 'r')\n",
    "plt.ylabel('No. of Students', color = 'r')\n",
    "plt.title('Sub wise no. of Student in DS')\n",
    "plt.show()"
   ]
  },
  {
   "cell_type": "markdown",
   "metadata": {},
   "source": [
    "### Histogram"
   ]
  },
  {
   "cell_type": "code",
   "execution_count": 8,
   "metadata": {},
   "outputs": [
    {
     "data": {
      "image/png": "[encoded data removed]",
      "text/plain": [
       "<Figure size 432x288 with 1 Axes>"
      ]
     },
     "metadata": {},
     "output_type": "display_data"
    }
   ],
   "source": [
    "#Histogram\n",
    "import matplotlib.pyplot as plt\n",
    "\n",
    "x = [10, 11,12, 15, 28,25,30,38,39,40,45,48,49,50,42,32,24,54,65,12]\n",
    "plt.hist(x, bins = 6)\n",
    "plt.show()"
   ]
  },
  {
   "cell_type": "markdown",
   "metadata": {},
   "source": [
    "### Pie Chart"
   ]
  },
  {
   "cell_type": "code",
   "execution_count": 9,
   "metadata": {},
   "outputs": [
    {
     "data": {
      "image/png": "[encoded data removed]",
      "text/plain": [
       "<Figure size 432x288 with 1 Axes>"
      ]
     },
     "metadata": {},
     "output_type": "display_data"
    }
   ],
   "source": [
    "#Pie Chart\n",
    "import matplotlib.pyplot as plt\n",
    "\n",
    "# Data to plot\n",
    "labels = 'R', 'Java', 'Python', 'SAS'\n",
    "sizes = [215, 130, 245, 210]\n",
    "colors = ['red', 'green', 'blue', 'orange']\n",
    "explode = (0, 0, 0.05, 0)  # explode 3rd slice\n",
    "\n",
    "# Plot\n",
    "plt.pie(sizes, explode=explode, labels=labels, colors=colors, autopct='%1.1f%%')\n",
    "#plt.pie(sizes, labels=labels, colors=colors,autopct='%1.1f%%')\n",
    "\n",
    "#plt.axis('equal')\n",
    "plt.show()"
   ]
  },
  {
   "cell_type": "markdown",
   "metadata": {},
   "source": [
    "### Donut Chart"
   ]
  },
  {
   "cell_type": "code",
   "execution_count": 10,
   "metadata": {},
   "outputs": [
    {
     "data": {
      "image/png": "[encoded data removed]",
      "text/plain": [
       "<Figure size 432x288 with 1 Axes>"
      ]
     },
     "metadata": {},
     "output_type": "display_data"
    }
   ],
   "source": [
    "#Donut Chart\n",
    "labels = 'Frogs', 'Hogs', 'Dogs', 'Logs'\n",
    "sizes = [15, 30, 45, 10]\n",
    "colors = ['yellowgreen', 'gold', 'lightskyblue', 'lightcoral']\n",
    "explode = (0, 0, 0, 0)  # explode a slice if required\n",
    "\n",
    "plt.pie(sizes, explode=explode, labels=labels, colors=colors,\n",
    "        autopct='%1.1f%%', shadow=True)\n",
    "        \n",
    "#draw a circle at the center of pie to make it look like a donut\n",
    "centre_circle = plt.Circle((0,0),0.75,color='black', fc='white',linewidth=1.25)\n",
    "fig = plt.gcf()\n",
    "fig.gca().add_artist(centre_circle)\n",
    "\n",
    "\n",
    "# Set aspect ratio to be equal so that pie is drawn as a circle.\n",
    "plt.axis('equal')\n",
    "plt.show()  \n"
   ]
  },
  {
   "cell_type": "markdown",
   "metadata": {},
   "source": [
    "### Scatter Plot"
   ]
  },
  {
   "cell_type": "code",
   "execution_count": 11,
   "metadata": {},
   "outputs": [
    {
     "data": {
      "image/png": "[encoded data removed]",
      "text/plain": [
       "<Figure size 432x288 with 1 Axes>"
      ]
     },
     "metadata": {},
     "output_type": "display_data"
    }
   ],
   "source": [
    "#Scatter Plot\n",
    "import matplotlib.pyplot as plt\n",
    "x = [1,2,3,4,5,6,7,8]\n",
    "y = [5,2,4,2,1,4,5,2]\n",
    "#m = [4,5,7,8,9,4,6,8]\n",
    "\n",
    "plt.scatter(x,y, label='My Label', color='g', s=25, marker=\">\")\n",
    "#plt.scatter(m,y, label='My Label2', color='r', s=25, marker=\"x\")\n",
    "plt.xlabel('x')\n",
    "plt.ylabel('y')\n",
    "plt.title('Scatter Plot')\n",
    "plt.legend()\n",
    "plt.show()"
   ]
  },
  {
   "cell_type": "markdown",
   "metadata": {},
   "source": [
    "### Box Plot"
   ]
  },
  {
   "cell_type": "code",
   "execution_count": 12,
   "metadata": {},
   "outputs": [
    {
     "data": {
      "text/plain": [
       "<matplotlib.axes._subplots.AxesSubplot at 0x27e9976d4e0>"
      ]
     },
     "execution_count": 12,
     "metadata": {},
     "output_type": "execute_result"
    },
    {
     "data": {
      "image/png": "[encoded data removed]",
      "text/plain": [
       "<Figure size 432x288 with 1 Axes>"
      ]
     },
     "metadata": {},
     "output_type": "display_data"
    }
   ],
   "source": [
    "#Box Plot\n",
    "import pandas as pd\n",
    "import numpy as np\n",
    "df = pd.DataFrame(np.random.rand(10, 5), columns=['A', 'B', 'C', 'D', 'E'])\n",
    "df.plot.box()\n",
    "#df.describe()"
   ]
  },
  {
   "cell_type": "markdown",
   "metadata": {},
   "source": [
    "## Skewness and Kurtosis"
   ]
  },
  {
   "cell_type": "code",
   "execution_count": 13,
   "metadata": {},
   "outputs": [
    {
     "name": "stdout",
     "output_type": "stream",
     "text": [
      "0.029191903748375683\n",
      "-0.004772624141272885\n"
     ]
    }
   ],
   "source": [
    "#Skewness & Kurtosis\n",
    "import numpy as np\n",
    "from scipy.stats import kurtosis, skew\n",
    "x = np.random.normal(0, 2, 10000)   # create random values based on a normal distribution\n",
    "\n",
    "print(skew(x))\n",
    "print(kurtosis(x))"
   ]
  },
  {
   "cell_type": "markdown",
   "metadata": {},
   "source": [
    "## Finding Outliers"
   ]
  },
  {
   "cell_type": "code",
   "execution_count": 14,
   "metadata": {},
   "outputs": [
    {
     "name": "stdout",
     "output_type": "stream",
     "text": [
      "1.0 2.75\n"
     ]
    },
    {
     "data": {
      "text/plain": [
       "[281, 25, 15, -3, -15, -50, -900, 1000]"
      ]
     },
     "execution_count": 14,
     "metadata": {},
     "output_type": "execute_result"
    }
   ],
   "source": [
    "#Finding Outliers\n",
    "#IQR Method\n",
    "\n",
    "import numpy as np\n",
    "# data = [1, 2, 2, 2, 3, 1, 1, 15, 2, 2, 2, 3, -18,1, 1, 2]\n",
    "data = [281,1, 2, 2, 2, 3, 1, 1,25, 15, 2, 2, 2, 3, 1, 1, 2,-3,-15,-50, -900,1000] \n",
    "\n",
    "def Outlier_detection(var):\n",
    "    Q1, Q3 = np.percentile(var, [25,75])\n",
    "    print(Q1, Q3)\n",
    "    IQR = Q3-Q1\n",
    "    lower_bound = Q1 - (IQR * 1.5)\n",
    "    upper_bound = Q3 + (IQR * 1.5)\n",
    "    out = [var for var in var if (var > upper_bound) or (var < lower_bound)]\n",
    "    \n",
    "    #return np.where((var > upper_bound) | (var < lower_bound))\n",
    "    return out\n",
    "\n",
    "Outlier_detection(data)"
   ]
  },
  {
   "cell_type": "code",
   "execution_count": 15,
   "metadata": {},
   "outputs": [
    {
     "name": "stdout",
     "output_type": "stream",
     "text": [
      "mean of the dataset is 17.181818181818183\n",
      "std. deviation is 292.8000615318546\n",
      "outlier in dataset is [-900, 1000]\n",
      "Z-score list-[0.9010181911778056, -0.05526576086479993, -0.051850461036076344, -0.051850461036076344, -0.051850461036076344, -0.04843516120735275, -0.05526576086479993, -0.05526576086479993, 0.02670143502456625, -0.007451563262669658, -0.051850461036076344, -0.051850461036076344, -0.051850461036076344, -0.04843516120735275, -0.05526576086479993, -0.05526576086479993, -0.051850461036076344, -0.0689269601796943, -0.1099105581243774, -0.2294460521297031, -3.132450906544755, 3.3566187680300676]\n"
     ]
    }
   ],
   "source": [
    "#Finding Outliers\n",
    "#Z-Score Method\n",
    "\n",
    "import numpy as np\n",
    "data = [281,1, 2, 2, 2, 3, 1, 1,25, 15, 2, 2, 2, 3, 1, 1, 2,-3,-15,-50, -900,1000] \n",
    "mean = np.mean(data) \n",
    "std = np.std(data)\n",
    "\n",
    "print('mean of the dataset is', mean) \n",
    "print('std. deviation is', std) \n",
    "\n",
    "threshold = 3\n",
    "outlier = [] \n",
    "list_z = []\n",
    "for i in data: \n",
    "    z = (i-mean)/std \n",
    "    list_z.append(z)\n",
    "    if z > threshold or z < -threshold: \n",
    "        outlier.append(i) \n",
    "print('outlier in dataset is', outlier)\n",
    "print(f\"Z-score list-{list_z}\")"
   ]
  },
  {
   "cell_type": "markdown",
   "metadata": {},
   "source": [
    "## Co-Variance"
   ]
  },
  {
   "cell_type": "code",
   "execution_count": 16,
   "metadata": {},
   "outputs": [
    {
     "name": "stdout",
     "output_type": "stream",
     "text": [
      "[[2.03629167 0.9313    ]\n",
      " [0.9313     0.4498    ]]\n"
     ]
    }
   ],
   "source": [
    "#Finding Co-variance\n",
    "import numpy as np \n",
    "x = [1.23, 2.12, 3.34, 4.5]   \n",
    "y = [2.56, 2.89, 3.76, 3.95]   \n",
    "\n",
    "cov_mat = np.array([x, y])    \n",
    "print(np.cov(cov_mat))"
   ]
  },
  {
   "cell_type": "markdown",
   "metadata": {},
   "source": [
    "## Correlation Coefficient - Pearson & Spearman"
   ]
  },
  {
   "cell_type": "code",
   "execution_count": 17,
   "metadata": {},
   "outputs": [
    {
     "name": "stdout",
     "output_type": "stream",
     "text": [
      "0.697767764291663\n",
      "0.4424242424242424\n"
     ]
    }
   ],
   "source": [
    "# Finding Correlation between variables\n",
    "import numpy as np\n",
    "import scipy.stats\n",
    "x = np.array([10, 20,30,80,34,24,12,18,98,102])\n",
    "y = np.array([2, 1, 4, 5, 8, 12, 18, 25, 96, 48])\n",
    "print(scipy.stats.pearsonr(x, y)[0])    # Pearson's r\n",
    "print(scipy.stats.spearmanr(x, y)[0])   # Spearman's correlation"
   ]
  },
  {
   "cell_type": "code",
   "execution_count": 18,
   "metadata": {},
   "outputs": [],
   "source": [
    "# Pearson Correlation Coefficient\n",
    "temp_data = np.array([14.2, 16.4, 11.9, 15.2, 18.5, 22.1, 19.4, 25.1, 23.4, 18.1, 22.6, 17.2])\n",
    "sales_data = np.array([215, 325, 185, 332, 406, 522, 412, 614, 544, 421, 445, 408])"
   ]
  },
  {
   "cell_type": "code",
   "execution_count": 24,
   "metadata": {},
   "outputs": [],
   "source": [
    "from scipy.stats import pearsonr, spearmanr\n",
    "\n",
    "correlation_coefficient = pearsonr(temp_data, sales_data)[0]"
   ]
  },
  {
   "cell_type": "code",
   "execution_count": 46,
   "metadata": {},
   "outputs": [
    {
     "data": {
      "text/plain": [
       "0.9575066230015952"
      ]
     },
     "execution_count": 46,
     "metadata": {},
     "output_type": "execute_result"
    }
   ],
   "source": [
    "correlation_coefficient \n",
    "#Strong positive correlation"
   ]
  },
  {
   "cell_type": "code",
   "execution_count": 41,
   "metadata": {},
   "outputs": [
    {
     "data": {
      "image/png": "[encoded data removed]",
      "text/plain": [
       "<Figure size 432x288 with 1 Axes>"
      ]
     },
     "metadata": {},
     "output_type": "display_data"
    }
   ],
   "source": [
    "plt.scatter(temp_data, sales_data)\n",
    "plt.xlabel('Temperature')\n",
    "plt.ylabel('Ice-cream Sales')\n",
    "plt.title('Temperature vs Sales')\n",
    "plt.show()"
   ]
  },
  {
   "cell_type": "code",
   "execution_count": 22,
   "metadata": {},
   "outputs": [],
   "source": [
    "#Spearman Rank Coefficient\n",
    "\n",
    "english_marks = np.array([56, 75, 45, 71, 62, 64, 58, 80, 76, 61])\n",
    "maths_marks = np.array([66, 70, 40, 60, 65, 56, 59, 77, 67, 62])"
   ]
  },
  {
   "cell_type": "code",
   "execution_count": 26,
   "metadata": {},
   "outputs": [
    {
     "data": {
      "text/plain": [
       "0.6727272727272726"
      ]
     },
     "execution_count": 26,
     "metadata": {},
     "output_type": "execute_result"
    }
   ],
   "source": [
    "spearman_coefficient = spearmanr(english_marks, maths_marks)[0]\n",
    "spearman_coefficient\n",
    "#Weak Positive Correlation"
   ]
  },
  {
   "cell_type": "code",
   "execution_count": 27,
   "metadata": {},
   "outputs": [
    {
     "data": {
      "image/png": "[encoded data removed]",
      "text/plain": [
       "<Figure size 432x288 with 1 Axes>"
      ]
     },
     "metadata": {},
     "output_type": "display_data"
    }
   ],
   "source": [
    "plt.scatter(english_marks, maths_marks)\n",
    "plt.xlabel('English Marks')\n",
    "plt.ylabel('Maths Marks')\n",
    "plt.title('English Marks vs Maths Marks')\n",
    "plt.show()"
   ]
  },
  {
   "cell_type": "code",
   "execution_count": null,
   "metadata": {},
   "outputs": [],
   "source": []
  }
 ],
 "metadata": {
  "kernelspec": {
   "display_name": "Python 3",
   "language": "python",
   "name": "python3"
  },
  "language_info": {
   "codemirror_mode": {
    "name": "ipython",
    "version": 3
   },
   "file_extension": ".py",
   "mimetype": "text/x-python",
   "name": "python",
   "nbconvert_exporter": "python",
   "pygments_lexer": "ipython3",
   "version": "3.8.3"
  }
 },
 "nbformat": 4,
 "nbformat_minor": 2
}
